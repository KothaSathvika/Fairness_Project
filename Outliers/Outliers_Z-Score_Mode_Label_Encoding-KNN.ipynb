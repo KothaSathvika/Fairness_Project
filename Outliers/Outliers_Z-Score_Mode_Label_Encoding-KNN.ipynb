{
 "cells": [
  {
   "cell_type": "code",
   "execution_count": 1,
   "id": "b822a0ab",
   "metadata": {},
   "outputs": [],
   "source": [
    "import pandas as pd\n",
    "import numpy as np\n",
    "from sklearn.model_selection import train_test_split\n",
    "import math\n",
    "from sklearn.neighbors import LocalOutlierFactor"
   ]
  },
  {
   "cell_type": "code",
   "execution_count": 2,
   "id": "6c95fe01",
   "metadata": {},
   "outputs": [],
   "source": [
    "population = pd.read_csv(r\"C:\\Users\\sathv\\OneDrive\\Desktop\\RDM\\adult.data.csv\")"
   ]
  },
  {
   "cell_type": "code",
   "execution_count": 3,
   "id": "ea2f5807",
   "metadata": {},
   "outputs": [],
   "source": [
    "sample_1 = population"
   ]
  },
  {
   "cell_type": "code",
   "execution_count": 4,
   "id": "1c1fb9ab",
   "metadata": {},
   "outputs": [],
   "source": [
    "X= sample_1[[\"age\",\"workclass\",\"education-num\",\"marital-status\",\"occupation\",\"relationship\",\"race\",\"sex\",\"hoursperweek\",\"native-country\"]]\n",
    "y = sample_1[\"class\"]"
   ]
  },
  {
   "cell_type": "code",
   "execution_count": 5,
   "id": "ef1026b6",
   "metadata": {},
   "outputs": [],
   "source": [
    "X_train, X_test, y_train, y_test = train_test_split(X, y, test_size=0.20, random_state = 42)"
   ]
  },
  {
   "cell_type": "code",
   "execution_count": 6,
   "id": "b9e02fc0",
   "metadata": {
    "scrolled": false
   },
   "outputs": [
    {
     "data": {
      "text/html": [
       "<div>\n",
       "<style scoped>\n",
       "    .dataframe tbody tr th:only-of-type {\n",
       "        vertical-align: middle;\n",
       "    }\n",
       "\n",
       "    .dataframe tbody tr th {\n",
       "        vertical-align: top;\n",
       "    }\n",
       "\n",
       "    .dataframe thead th {\n",
       "        text-align: right;\n",
       "    }\n",
       "</style>\n",
       "<table border=\"1\" class=\"dataframe\">\n",
       "  <thead>\n",
       "    <tr style=\"text-align: right;\">\n",
       "      <th></th>\n",
       "      <th>age</th>\n",
       "      <th>workclass</th>\n",
       "      <th>education-num</th>\n",
       "      <th>marital-status</th>\n",
       "      <th>occupation</th>\n",
       "      <th>relationship</th>\n",
       "      <th>race</th>\n",
       "      <th>sex</th>\n",
       "      <th>hoursperweek</th>\n",
       "      <th>native-country</th>\n",
       "    </tr>\n",
       "  </thead>\n",
       "  <tbody>\n",
       "    <tr>\n",
       "      <th>5514</th>\n",
       "      <td>33</td>\n",
       "      <td>Local-gov</td>\n",
       "      <td>13</td>\n",
       "      <td>Never-married</td>\n",
       "      <td>Prof-specialty</td>\n",
       "      <td>Not-in-family</td>\n",
       "      <td>White</td>\n",
       "      <td>Female</td>\n",
       "      <td>50</td>\n",
       "      <td>United-States</td>\n",
       "    </tr>\n",
       "    <tr>\n",
       "      <th>19777</th>\n",
       "      <td>36</td>\n",
       "      <td>Private</td>\n",
       "      <td>11</td>\n",
       "      <td>Married-civ-spouse</td>\n",
       "      <td>Exec-managerial</td>\n",
       "      <td>Husband</td>\n",
       "      <td>White</td>\n",
       "      <td>Male</td>\n",
       "      <td>50</td>\n",
       "      <td>United-States</td>\n",
       "    </tr>\n",
       "    <tr>\n",
       "      <th>10781</th>\n",
       "      <td>58</td>\n",
       "      <td>Self-emp-not-inc</td>\n",
       "      <td>5</td>\n",
       "      <td>Separated</td>\n",
       "      <td>Craft-repair</td>\n",
       "      <td>Not-in-family</td>\n",
       "      <td>White</td>\n",
       "      <td>Male</td>\n",
       "      <td>40</td>\n",
       "      <td>United-States</td>\n",
       "    </tr>\n",
       "    <tr>\n",
       "      <th>32240</th>\n",
       "      <td>21</td>\n",
       "      <td>Private</td>\n",
       "      <td>11</td>\n",
       "      <td>Married-civ-spouse</td>\n",
       "      <td>Farming-fishing</td>\n",
       "      <td>Husband</td>\n",
       "      <td>White</td>\n",
       "      <td>Male</td>\n",
       "      <td>46</td>\n",
       "      <td>United-States</td>\n",
       "    </tr>\n",
       "    <tr>\n",
       "      <th>9876</th>\n",
       "      <td>27</td>\n",
       "      <td>Private</td>\n",
       "      <td>10</td>\n",
       "      <td>Divorced</td>\n",
       "      <td>Other-service</td>\n",
       "      <td>Not-in-family</td>\n",
       "      <td>White</td>\n",
       "      <td>Male</td>\n",
       "      <td>40</td>\n",
       "      <td>United-States</td>\n",
       "    </tr>\n",
       "    <tr>\n",
       "      <th>...</th>\n",
       "      <td>...</td>\n",
       "      <td>...</td>\n",
       "      <td>...</td>\n",
       "      <td>...</td>\n",
       "      <td>...</td>\n",
       "      <td>...</td>\n",
       "      <td>...</td>\n",
       "      <td>...</td>\n",
       "      <td>...</td>\n",
       "      <td>...</td>\n",
       "    </tr>\n",
       "    <tr>\n",
       "      <th>29802</th>\n",
       "      <td>47</td>\n",
       "      <td>Private</td>\n",
       "      <td>13</td>\n",
       "      <td>Married-civ-spouse</td>\n",
       "      <td>Craft-repair</td>\n",
       "      <td>Husband</td>\n",
       "      <td>White</td>\n",
       "      <td>Male</td>\n",
       "      <td>40</td>\n",
       "      <td>United-States</td>\n",
       "    </tr>\n",
       "    <tr>\n",
       "      <th>5390</th>\n",
       "      <td>31</td>\n",
       "      <td>Private</td>\n",
       "      <td>8</td>\n",
       "      <td>Divorced</td>\n",
       "      <td>Other-service</td>\n",
       "      <td>Unmarried</td>\n",
       "      <td>White</td>\n",
       "      <td>Female</td>\n",
       "      <td>21</td>\n",
       "      <td>United-States</td>\n",
       "    </tr>\n",
       "    <tr>\n",
       "      <th>860</th>\n",
       "      <td>18</td>\n",
       "      <td>Private</td>\n",
       "      <td>7</td>\n",
       "      <td>Never-married</td>\n",
       "      <td>Adm-clerical</td>\n",
       "      <td>Own-child</td>\n",
       "      <td>White</td>\n",
       "      <td>Female</td>\n",
       "      <td>20</td>\n",
       "      <td>United-States</td>\n",
       "    </tr>\n",
       "    <tr>\n",
       "      <th>15795</th>\n",
       "      <td>50</td>\n",
       "      <td>Self-emp-not-inc</td>\n",
       "      <td>9</td>\n",
       "      <td>Married-civ-spouse</td>\n",
       "      <td>Farming-fishing</td>\n",
       "      <td>Husband</td>\n",
       "      <td>White</td>\n",
       "      <td>Male</td>\n",
       "      <td>84</td>\n",
       "      <td>United-States</td>\n",
       "    </tr>\n",
       "    <tr>\n",
       "      <th>23654</th>\n",
       "      <td>34</td>\n",
       "      <td>Self-emp-inc</td>\n",
       "      <td>13</td>\n",
       "      <td>Divorced</td>\n",
       "      <td>Farming-fishing</td>\n",
       "      <td>Not-in-family</td>\n",
       "      <td>White</td>\n",
       "      <td>Male</td>\n",
       "      <td>60</td>\n",
       "      <td>United-States</td>\n",
       "    </tr>\n",
       "  </tbody>\n",
       "</table>\n",
       "<p>26048 rows × 10 columns</p>\n",
       "</div>"
      ],
      "text/plain": [
       "       age          workclass  education-num       marital-status  \\\n",
       "5514    33          Local-gov             13        Never-married   \n",
       "19777   36            Private             11   Married-civ-spouse   \n",
       "10781   58   Self-emp-not-inc              5            Separated   \n",
       "32240   21            Private             11   Married-civ-spouse   \n",
       "9876    27            Private             10             Divorced   \n",
       "...    ...                ...            ...                  ...   \n",
       "29802   47            Private             13   Married-civ-spouse   \n",
       "5390    31            Private              8             Divorced   \n",
       "860     18            Private              7        Never-married   \n",
       "15795   50   Self-emp-not-inc              9   Married-civ-spouse   \n",
       "23654   34       Self-emp-inc             13             Divorced   \n",
       "\n",
       "             occupation    relationship    race      sex  hoursperweek  \\\n",
       "5514     Prof-specialty   Not-in-family   White   Female            50   \n",
       "19777   Exec-managerial         Husband   White     Male            50   \n",
       "10781      Craft-repair   Not-in-family   White     Male            40   \n",
       "32240   Farming-fishing         Husband   White     Male            46   \n",
       "9876      Other-service   Not-in-family   White     Male            40   \n",
       "...                 ...             ...     ...      ...           ...   \n",
       "29802      Craft-repair         Husband   White     Male            40   \n",
       "5390      Other-service       Unmarried   White   Female            21   \n",
       "860        Adm-clerical       Own-child   White   Female            20   \n",
       "15795   Farming-fishing         Husband   White     Male            84   \n",
       "23654   Farming-fishing   Not-in-family   White     Male            60   \n",
       "\n",
       "       native-country  \n",
       "5514    United-States  \n",
       "19777   United-States  \n",
       "10781   United-States  \n",
       "32240   United-States  \n",
       "9876    United-States  \n",
       "...               ...  \n",
       "29802   United-States  \n",
       "5390    United-States  \n",
       "860     United-States  \n",
       "15795   United-States  \n",
       "23654   United-States  \n",
       "\n",
       "[26048 rows x 10 columns]"
      ]
     },
     "execution_count": 6,
     "metadata": {},
     "output_type": "execute_result"
    }
   ],
   "source": [
    "X_train"
   ]
  },
  {
   "cell_type": "code",
   "execution_count": 7,
   "id": "9456e623",
   "metadata": {
    "scrolled": false
   },
   "outputs": [
    {
     "data": {
      "text/plain": [
       "5514       >50K\n",
       "19777      >50K\n",
       "10781     <=50K\n",
       "32240     <=50K\n",
       "9876      <=50K\n",
       "          ...  \n",
       "29802     <=50K\n",
       "5390      <=50K\n",
       "860       <=50K\n",
       "15795     <=50K\n",
       "23654     <=50K\n",
       "Name: class, Length: 26048, dtype: object"
      ]
     },
     "execution_count": 7,
     "metadata": {},
     "output_type": "execute_result"
    }
   ],
   "source": [
    "y_train"
   ]
  },
  {
   "cell_type": "code",
   "execution_count": 8,
   "id": "07dcdbdf",
   "metadata": {},
   "outputs": [],
   "source": [
    "def detect_outlier(data, col):\n",
    "    mean = np.mean(data[col])\n",
    "    std = np.std(data[col])\n",
    "    threshold = 3\n",
    "    outlier = []\n",
    "    index = []\n",
    "    for i in data.index:\n",
    "#         print(i)\n",
    "        z = (data[col][i]-mean)/std\n",
    "        if z > threshold:\n",
    "            index.append(i)\n",
    "            ou = data.at[i, col]\n",
    "            outlier.append(ou)\n",
    "#     print(outlier)\n",
    "    return (list(index),outlier)"
   ]
  },
  {
   "cell_type": "code",
   "execution_count": 9,
   "id": "de09e7ce",
   "metadata": {},
   "outputs": [],
   "source": [
    "def impute(data,col,index):\n",
    "    new_data = data.copy()\n",
    "    mode = new_data[col].mode()\n",
    "    for i in index:\n",
    "        new_data.at[i, col]=mode\n",
    "    return new_data\n",
    "        "
   ]
  },
  {
   "cell_type": "code",
   "execution_count": 10,
   "id": "96ec31c5",
   "metadata": {},
   "outputs": [],
   "source": [
    "def drop_rows(x,only_na):\n",
    "    new_data = x.copy()\n",
    "    for i in only_na:\n",
    "        new_data.drop(i,inplace=True)\n",
    "\n",
    "    return new_data"
   ]
  },
  {
   "cell_type": "code",
   "execution_count": 11,
   "id": "50502b8a",
   "metadata": {},
   "outputs": [],
   "source": [
    "index,outlier = detect_outlier(X_train,\"age\")"
   ]
  },
  {
   "cell_type": "code",
   "execution_count": 12,
   "id": "103e4d5d",
   "metadata": {},
   "outputs": [],
   "source": [
    "X_train = impute(X_train,\"age\",index)"
   ]
  },
  {
   "cell_type": "code",
   "execution_count": 13,
   "id": "5eb381fe",
   "metadata": {},
   "outputs": [],
   "source": [
    "index,outlier = detect_outlier(X_train,\"hoursperweek\")"
   ]
  },
  {
   "cell_type": "code",
   "execution_count": 14,
   "id": "57eb06a4",
   "metadata": {},
   "outputs": [],
   "source": [
    "X_train = impute(X_train,\"hoursperweek\",index)"
   ]
  },
  {
   "cell_type": "code",
   "execution_count": 15,
   "id": "25484667",
   "metadata": {},
   "outputs": [],
   "source": [
    "from sklearn import preprocessing\n",
    "label_encoder = preprocessing.LabelEncoder()"
   ]
  },
  {
   "cell_type": "code",
   "execution_count": 16,
   "id": "6ddc87cc",
   "metadata": {},
   "outputs": [],
   "source": [
    "def label_encoding(data,cat_cols):\n",
    "    if cat_cols is None:\n",
    "        data= label_encoder.fit_transform(data)\n",
    "        return data\n",
    "        \n",
    "    else:\n",
    "        for i in range(len(cat_cols)):\n",
    "            data[cat_cols[i]]= label_encoder.fit_transform(data[cat_cols[i]])\n",
    "        "
   ]
  },
  {
   "cell_type": "code",
   "execution_count": 17,
   "id": "b26da112",
   "metadata": {},
   "outputs": [
    {
     "name": "stderr",
     "output_type": "stream",
     "text": [
      "C:\\Users\\sathv\\AppData\\Local\\Temp\\ipykernel_29196\\2170981920.py:1: DeprecationWarning: `np.object` is a deprecated alias for the builtin `object`. To silence this warning, use `object` by itself. Doing this will not modify any behavior and is safe. \n",
      "Deprecated in NumPy 1.20; for more details and guidance: https://numpy.org/devdocs/release/1.20.0-notes.html#deprecations\n",
      "  cols = X_train.select_dtypes([np.object]).columns\n"
     ]
    }
   ],
   "source": [
    "cols = X_train.select_dtypes([np.object]).columns"
   ]
  },
  {
   "cell_type": "code",
   "execution_count": 18,
   "id": "592c0281",
   "metadata": {},
   "outputs": [
    {
     "data": {
      "text/plain": [
       "Index(['workclass', 'marital-status', 'occupation', 'relationship', 'race',\n",
       "       'sex', 'native-country'],\n",
       "      dtype='object')"
      ]
     },
     "execution_count": 18,
     "metadata": {},
     "output_type": "execute_result"
    }
   ],
   "source": [
    "cols"
   ]
  },
  {
   "cell_type": "code",
   "execution_count": 19,
   "id": "bcf57f35",
   "metadata": {},
   "outputs": [],
   "source": [
    "label_encoding(X_train,cols)"
   ]
  },
  {
   "cell_type": "code",
   "execution_count": 20,
   "id": "2175935f",
   "metadata": {},
   "outputs": [
    {
     "data": {
      "text/html": [
       "<div>\n",
       "<style scoped>\n",
       "    .dataframe tbody tr th:only-of-type {\n",
       "        vertical-align: middle;\n",
       "    }\n",
       "\n",
       "    .dataframe tbody tr th {\n",
       "        vertical-align: top;\n",
       "    }\n",
       "\n",
       "    .dataframe thead th {\n",
       "        text-align: right;\n",
       "    }\n",
       "</style>\n",
       "<table border=\"1\" class=\"dataframe\">\n",
       "  <thead>\n",
       "    <tr style=\"text-align: right;\">\n",
       "      <th></th>\n",
       "      <th>age</th>\n",
       "      <th>workclass</th>\n",
       "      <th>education-num</th>\n",
       "      <th>marital-status</th>\n",
       "      <th>occupation</th>\n",
       "      <th>relationship</th>\n",
       "      <th>race</th>\n",
       "      <th>sex</th>\n",
       "      <th>hoursperweek</th>\n",
       "      <th>native-country</th>\n",
       "    </tr>\n",
       "  </thead>\n",
       "  <tbody>\n",
       "    <tr>\n",
       "      <th>5514</th>\n",
       "      <td>33</td>\n",
       "      <td>2</td>\n",
       "      <td>13</td>\n",
       "      <td>4</td>\n",
       "      <td>10</td>\n",
       "      <td>1</td>\n",
       "      <td>4</td>\n",
       "      <td>0</td>\n",
       "      <td>50</td>\n",
       "      <td>39</td>\n",
       "    </tr>\n",
       "    <tr>\n",
       "      <th>19777</th>\n",
       "      <td>36</td>\n",
       "      <td>4</td>\n",
       "      <td>11</td>\n",
       "      <td>2</td>\n",
       "      <td>4</td>\n",
       "      <td>0</td>\n",
       "      <td>4</td>\n",
       "      <td>1</td>\n",
       "      <td>50</td>\n",
       "      <td>39</td>\n",
       "    </tr>\n",
       "    <tr>\n",
       "      <th>10781</th>\n",
       "      <td>58</td>\n",
       "      <td>6</td>\n",
       "      <td>5</td>\n",
       "      <td>5</td>\n",
       "      <td>3</td>\n",
       "      <td>1</td>\n",
       "      <td>4</td>\n",
       "      <td>1</td>\n",
       "      <td>40</td>\n",
       "      <td>39</td>\n",
       "    </tr>\n",
       "    <tr>\n",
       "      <th>32240</th>\n",
       "      <td>21</td>\n",
       "      <td>4</td>\n",
       "      <td>11</td>\n",
       "      <td>2</td>\n",
       "      <td>5</td>\n",
       "      <td>0</td>\n",
       "      <td>4</td>\n",
       "      <td>1</td>\n",
       "      <td>46</td>\n",
       "      <td>39</td>\n",
       "    </tr>\n",
       "    <tr>\n",
       "      <th>9876</th>\n",
       "      <td>27</td>\n",
       "      <td>4</td>\n",
       "      <td>10</td>\n",
       "      <td>0</td>\n",
       "      <td>8</td>\n",
       "      <td>1</td>\n",
       "      <td>4</td>\n",
       "      <td>1</td>\n",
       "      <td>40</td>\n",
       "      <td>39</td>\n",
       "    </tr>\n",
       "    <tr>\n",
       "      <th>...</th>\n",
       "      <td>...</td>\n",
       "      <td>...</td>\n",
       "      <td>...</td>\n",
       "      <td>...</td>\n",
       "      <td>...</td>\n",
       "      <td>...</td>\n",
       "      <td>...</td>\n",
       "      <td>...</td>\n",
       "      <td>...</td>\n",
       "      <td>...</td>\n",
       "    </tr>\n",
       "    <tr>\n",
       "      <th>29802</th>\n",
       "      <td>47</td>\n",
       "      <td>4</td>\n",
       "      <td>13</td>\n",
       "      <td>2</td>\n",
       "      <td>3</td>\n",
       "      <td>0</td>\n",
       "      <td>4</td>\n",
       "      <td>1</td>\n",
       "      <td>40</td>\n",
       "      <td>39</td>\n",
       "    </tr>\n",
       "    <tr>\n",
       "      <th>5390</th>\n",
       "      <td>31</td>\n",
       "      <td>4</td>\n",
       "      <td>8</td>\n",
       "      <td>0</td>\n",
       "      <td>8</td>\n",
       "      <td>4</td>\n",
       "      <td>4</td>\n",
       "      <td>0</td>\n",
       "      <td>21</td>\n",
       "      <td>39</td>\n",
       "    </tr>\n",
       "    <tr>\n",
       "      <th>860</th>\n",
       "      <td>18</td>\n",
       "      <td>4</td>\n",
       "      <td>7</td>\n",
       "      <td>4</td>\n",
       "      <td>1</td>\n",
       "      <td>3</td>\n",
       "      <td>4</td>\n",
       "      <td>0</td>\n",
       "      <td>20</td>\n",
       "      <td>39</td>\n",
       "    </tr>\n",
       "    <tr>\n",
       "      <th>15795</th>\n",
       "      <td>50</td>\n",
       "      <td>6</td>\n",
       "      <td>9</td>\n",
       "      <td>2</td>\n",
       "      <td>5</td>\n",
       "      <td>0</td>\n",
       "      <td>4</td>\n",
       "      <td>1</td>\n",
       "      <td>40</td>\n",
       "      <td>39</td>\n",
       "    </tr>\n",
       "    <tr>\n",
       "      <th>23654</th>\n",
       "      <td>34</td>\n",
       "      <td>5</td>\n",
       "      <td>13</td>\n",
       "      <td>0</td>\n",
       "      <td>5</td>\n",
       "      <td>1</td>\n",
       "      <td>4</td>\n",
       "      <td>1</td>\n",
       "      <td>60</td>\n",
       "      <td>39</td>\n",
       "    </tr>\n",
       "  </tbody>\n",
       "</table>\n",
       "<p>26048 rows × 10 columns</p>\n",
       "</div>"
      ],
      "text/plain": [
       "       age  workclass  education-num  marital-status  occupation  \\\n",
       "5514    33          2             13               4          10   \n",
       "19777   36          4             11               2           4   \n",
       "10781   58          6              5               5           3   \n",
       "32240   21          4             11               2           5   \n",
       "9876    27          4             10               0           8   \n",
       "...    ...        ...            ...             ...         ...   \n",
       "29802   47          4             13               2           3   \n",
       "5390    31          4              8               0           8   \n",
       "860     18          4              7               4           1   \n",
       "15795   50          6              9               2           5   \n",
       "23654   34          5             13               0           5   \n",
       "\n",
       "       relationship  race  sex  hoursperweek  native-country  \n",
       "5514              1     4    0            50              39  \n",
       "19777             0     4    1            50              39  \n",
       "10781             1     4    1            40              39  \n",
       "32240             0     4    1            46              39  \n",
       "9876              1     4    1            40              39  \n",
       "...             ...   ...  ...           ...             ...  \n",
       "29802             0     4    1            40              39  \n",
       "5390              4     4    0            21              39  \n",
       "860               3     4    0            20              39  \n",
       "15795             0     4    1            40              39  \n",
       "23654             1     4    1            60              39  \n",
       "\n",
       "[26048 rows x 10 columns]"
      ]
     },
     "execution_count": 20,
     "metadata": {},
     "output_type": "execute_result"
    }
   ],
   "source": [
    "X_train"
   ]
  },
  {
   "cell_type": "code",
   "execution_count": 21,
   "id": "abc1c5d3",
   "metadata": {},
   "outputs": [],
   "source": [
    "# col = None\n",
    "y_train = label_encoding(y_train, None)"
   ]
  },
  {
   "cell_type": "code",
   "execution_count": 22,
   "id": "ffb32246",
   "metadata": {},
   "outputs": [
    {
     "data": {
      "text/plain": [
       "array([1, 1, 0, ..., 0, 0, 0])"
      ]
     },
     "execution_count": 22,
     "metadata": {},
     "output_type": "execute_result"
    }
   ],
   "source": [
    "y_train"
   ]
  },
  {
   "cell_type": "code",
   "execution_count": 23,
   "id": "baee159f",
   "metadata": {},
   "outputs": [],
   "source": [
    "label_encoding(X_test, cols)"
   ]
  },
  {
   "cell_type": "code",
   "execution_count": 24,
   "id": "076bfb2f",
   "metadata": {},
   "outputs": [],
   "source": [
    "y_test= label_encoding(y_test, None)"
   ]
  },
  {
   "cell_type": "code",
   "execution_count": 25,
   "id": "5c5207f4",
   "metadata": {},
   "outputs": [
    {
     "data": {
      "text/plain": [
       "array([0, 0, 1, ..., 1, 0, 0])"
      ]
     },
     "execution_count": 25,
     "metadata": {},
     "output_type": "execute_result"
    }
   ],
   "source": [
    "y_test"
   ]
  },
  {
   "cell_type": "code",
   "execution_count": 26,
   "id": "2589eb22",
   "metadata": {},
   "outputs": [],
   "source": [
    "from sklearn.linear_model import LogisticRegression\n",
    "from sklearn.metrics import confusion_matrix\n",
    "logisticRegr = LogisticRegression()"
   ]
  },
  {
   "cell_type": "code",
   "execution_count": 27,
   "id": "85e7ab8e",
   "metadata": {},
   "outputs": [],
   "source": [
    "def logistic_regression_train(logisticRegr,x,y):\n",
    "    logisticRegr.fit(x,y)\n",
    "def logistic_regression_test(logisticRegr,x):\n",
    "    y_pred = logisticRegr.predict_proba(x)\n",
    "    return y_pred\n",
    "def logistic_regression_pred_test(logisticRegr,x):\n",
    "    y_pred_test = logisticRegr.predict(x)\n",
    "    return y_pred_test\n",
    "\n",
    "def average_diff(y_pred, X_test):\n",
    "    column_i = y_pred.T[0]\n",
    "    X_test_copy = X_test.copy()\n",
    "    X_test_copy['preds'] = column_i\n",
    "    Female = X_test_copy[\"preds\"][X_test_copy[\"sex\"] == 0]\n",
    "    female_average = sum(Female)/len(Female)\n",
    "    male = X_test_copy[\"preds\"][X_test_copy[\"sex\"] == 1]\n",
    "    male_average = sum(male)/len(male)\n",
    "    diff = (female_average - male_average)\n",
    "    return diff \n",
    "\n",
    "def accuracy(y_test, y_pred_final):\n",
    "#     y_pred_final = np.argmax(y_pred, axis=1)\n",
    "    tn, fp, fn, tp = confusion_matrix(y_test, y_pred_final).ravel()\n",
    "    true_positive  = tn\n",
    "    false_positive = fn\n",
    "    true_negative  = tp\n",
    "    false_negative = fp\n",
    "    accuracy = (true_positive + true_negative) / (true_negative + true_positive + false_positive + false_negative )\n",
    "    return(accuracy)\n",
    "    \n",
    "    "
   ]
  },
  {
   "cell_type": "code",
   "execution_count": 28,
   "id": "d886eb40",
   "metadata": {},
   "outputs": [
    {
     "name": "stderr",
     "output_type": "stream",
     "text": [
      "C:\\Users\\sathv\\anaconda3\\lib\\site-packages\\sklearn\\neighbors\\_classification.py:228: FutureWarning: Unlike other reduction functions (e.g. `skew`, `kurtosis`), the default behavior of `mode` typically preserves the axis it acts along. In SciPy 1.11.0, this behavior will change: the default value of `keepdims` will become False, the `axis` over which the statistic is taken will be eliminated, and the value None will no longer be accepted. Set `keepdims` to True or False to avoid this warning.\n",
      "  mode, _ = stats.mode(_y[neigh_ind, k], axis=1)\n"
     ]
    }
   ],
   "source": [
    "from sklearn.neighbors import KNeighborsClassifier\n",
    "classifier = KNeighborsClassifier(n_neighbors = 5, metric = 'minkowski', p = 2)\n",
    "classifier.fit(X_train, y_train)\n",
    "\n",
    "y_pred = classifier.predict_proba(X_test)\n",
    "\n",
    "dirty_diff = average_diff(y_pred,X_test)\n",
    "dirty_diff\n",
    "\n",
    "y_pred_test = classifier.predict(X_test)\n",
    "\n",
    "from sklearn.metrics import confusion_matrix,accuracy_score\n",
    "dirty_test_score = accuracy_score(y_test,y_pred_test)\n"
   ]
  },
  {
   "cell_type": "markdown",
   "id": "34a8e04b",
   "metadata": {},
   "source": [
    "# Clean test data"
   ]
  },
  {
   "cell_type": "code",
   "execution_count": 29,
   "id": "9577a752",
   "metadata": {},
   "outputs": [],
   "source": [
    "X_clean_train, X_clean_test, y_clean_train, y_clean_test = train_test_split(X, y, test_size=0.20, random_state = 42)"
   ]
  },
  {
   "cell_type": "code",
   "execution_count": 30,
   "id": "e5a63f01",
   "metadata": {},
   "outputs": [],
   "source": [
    "index,outlier= detect_outlier(X_clean_train,\"age\")"
   ]
  },
  {
   "cell_type": "code",
   "execution_count": 31,
   "id": "4c03977d",
   "metadata": {},
   "outputs": [],
   "source": [
    "X_clean_train = impute(X_clean_train,\"age\",index)"
   ]
  },
  {
   "cell_type": "code",
   "execution_count": 32,
   "id": "71bf4472",
   "metadata": {},
   "outputs": [],
   "source": [
    "index,outlier = detect_outlier(X_clean_train,\"hoursperweek\")"
   ]
  },
  {
   "cell_type": "code",
   "execution_count": 33,
   "id": "a839651f",
   "metadata": {},
   "outputs": [],
   "source": [
    "X_clean_train = impute(X_clean_train,\"hoursperweek\",index)"
   ]
  },
  {
   "cell_type": "code",
   "execution_count": 34,
   "id": "f1575c3d",
   "metadata": {},
   "outputs": [],
   "source": [
    "index,outlier= detect_outlier(X_clean_test,\"age\")"
   ]
  },
  {
   "cell_type": "code",
   "execution_count": 35,
   "id": "7e9e7800",
   "metadata": {},
   "outputs": [],
   "source": [
    "X_clean_test = impute(X_clean_test,\"age\",index)"
   ]
  },
  {
   "cell_type": "code",
   "execution_count": 36,
   "id": "b8d535ba",
   "metadata": {},
   "outputs": [],
   "source": [
    "index,outlier = detect_outlier(X_clean_test,\"hoursperweek\")"
   ]
  },
  {
   "cell_type": "code",
   "execution_count": 37,
   "id": "7e8eeb45",
   "metadata": {},
   "outputs": [],
   "source": [
    "X_clean_test = impute(X_clean_test,\"hoursperweek\",index)"
   ]
  },
  {
   "cell_type": "code",
   "execution_count": 38,
   "id": "32275371",
   "metadata": {},
   "outputs": [],
   "source": [
    "label_encoding(X_clean_train,cols)"
   ]
  },
  {
   "cell_type": "code",
   "execution_count": 39,
   "id": "2a988f4a",
   "metadata": {},
   "outputs": [],
   "source": [
    "y_clean_train = label_encoding(y_clean_train, None)"
   ]
  },
  {
   "cell_type": "code",
   "execution_count": 40,
   "id": "eaef8450",
   "metadata": {},
   "outputs": [],
   "source": [
    "label_encoding(X_clean_test,cols)"
   ]
  },
  {
   "cell_type": "code",
   "execution_count": 41,
   "id": "ddae4bb2",
   "metadata": {},
   "outputs": [],
   "source": [
    "y_clean_test= label_encoding(y_clean_test, None)"
   ]
  },
  {
   "cell_type": "code",
   "execution_count": 42,
   "id": "48ce7b66",
   "metadata": {},
   "outputs": [
    {
     "name": "stderr",
     "output_type": "stream",
     "text": [
      "C:\\Users\\sathv\\anaconda3\\lib\\site-packages\\sklearn\\neighbors\\_classification.py:228: FutureWarning: Unlike other reduction functions (e.g. `skew`, `kurtosis`), the default behavior of `mode` typically preserves the axis it acts along. In SciPy 1.11.0, this behavior will change: the default value of `keepdims` will become False, the `axis` over which the statistic is taken will be eliminated, and the value None will no longer be accepted. Set `keepdims` to True or False to avoid this warning.\n",
      "  mode, _ = stats.mode(_y[neigh_ind, k], axis=1)\n"
     ]
    }
   ],
   "source": [
    "clean_model = KNeighborsClassifier(n_neighbors = 5, metric = 'minkowski', p = 2)\n",
    "clean_model.fit(X_clean_train, y_clean_train)\n",
    "\n",
    "y_clean_pred = classifier.predict_proba(X_clean_test)\n",
    "\n",
    "clean_diff = average_diff(y_clean_pred,X_clean_test)\n",
    "clean_diff\n",
    "\n",
    "y_pred_clean_test = classifier.predict(X_test)\n",
    "\n",
    "clean_test_score = accuracy_score(y_test,y_pred_test)"
   ]
  },
  {
   "cell_type": "code",
   "execution_count": 43,
   "id": "8a4972a1",
   "metadata": {},
   "outputs": [
    {
     "name": "stdout",
     "output_type": "stream",
     "text": [
      "Detection Method    Method          Test Data        Encoding Technique    ML Model               Accuracy    Fairness\n",
      "------------------  --------------  ---------------  --------------------  -------------------  ----------  ----------\n",
      "Z-Score             Impute by mode  Dirty test data  Label Encoding        Logistic Regression    0.803316    0.177524\n",
      "Z-Score             Impute by mode  Clean test data  Label Encoding        Logistic Regression    0.803316    0.177111\n"
     ]
    }
   ],
   "source": [
    "from tabulate import tabulate\n",
    "data = [[\"Z-Score\",\"Impute by mode\",\"Dirty test data\",\"Label Encoding\", \"Logistic Regression\", dirty_test_score, dirty_diff],\n",
    "[\"Z-Score\",\"Impute by mode\", \"Clean test data\", \"Label Encoding\", \"Logistic Regression\", clean_test_score, clean_diff]]\n",
    "print (tabulate(data, headers=[\"Detection Method\",\"Method\", \"Test Data\", \"Encoding Technique\", \"ML Model\", \"Accuracy\", \"Fairness\"]))"
   ]
  }
 ],
 "metadata": {
  "kernelspec": {
   "display_name": "Python 3 (ipykernel)",
   "language": "python",
   "name": "python3"
  },
  "language_info": {
   "codemirror_mode": {
    "name": "ipython",
    "version": 3
   },
   "file_extension": ".py",
   "mimetype": "text/x-python",
   "name": "python",
   "nbconvert_exporter": "python",
   "pygments_lexer": "ipython3",
   "version": "3.9.13"
  }
 },
 "nbformat": 4,
 "nbformat_minor": 5
}
