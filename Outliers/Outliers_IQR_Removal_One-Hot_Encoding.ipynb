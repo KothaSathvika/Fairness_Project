{
 "cells": [
  {
   "cell_type": "code",
   "execution_count": 285,
   "id": "b822a0ab",
   "metadata": {},
   "outputs": [],
   "source": [
    "import pandas as pd\n",
    "import numpy as np\n",
    "from sklearn.model_selection import train_test_split"
   ]
  },
  {
   "cell_type": "code",
   "execution_count": 286,
   "id": "6c95fe01",
   "metadata": {},
   "outputs": [],
   "source": [
    "population = pd.read_csv(r\"C:\\Users\\sathv\\OneDrive\\Desktop\\RDM\\adult.data.csv\")"
   ]
  },
  {
   "cell_type": "code",
   "execution_count": 287,
   "id": "ea2f5807",
   "metadata": {},
   "outputs": [],
   "source": [
    "sample_1 = population"
   ]
  },
  {
   "cell_type": "code",
   "execution_count": 288,
   "id": "1c1fb9ab",
   "metadata": {},
   "outputs": [],
   "source": [
    "X= sample_1[[\"age\",\"workclass\",\"education-num\",\"marital-status\",\"occupation\",\"relationship\",\"race\",\"sex\",\"hoursperweek\",\"native-country\"]]\n",
    "y = sample_1[\"class\"]"
   ]
  },
  {
   "cell_type": "code",
   "execution_count": 289,
   "id": "ef1026b6",
   "metadata": {},
   "outputs": [],
   "source": [
    "X_train, X_test, y_train, y_test = train_test_split(X, y, test_size=0.20, random_state = 42)"
   ]
  },
  {
   "cell_type": "code",
   "execution_count": 290,
   "id": "b9e02fc0",
   "metadata": {
    "scrolled": false
   },
   "outputs": [
    {
     "data": {
      "text/html": [
       "<div>\n",
       "<style scoped>\n",
       "    .dataframe tbody tr th:only-of-type {\n",
       "        vertical-align: middle;\n",
       "    }\n",
       "\n",
       "    .dataframe tbody tr th {\n",
       "        vertical-align: top;\n",
       "    }\n",
       "\n",
       "    .dataframe thead th {\n",
       "        text-align: right;\n",
       "    }\n",
       "</style>\n",
       "<table border=\"1\" class=\"dataframe\">\n",
       "  <thead>\n",
       "    <tr style=\"text-align: right;\">\n",
       "      <th></th>\n",
       "      <th>age</th>\n",
       "      <th>workclass</th>\n",
       "      <th>education-num</th>\n",
       "      <th>marital-status</th>\n",
       "      <th>occupation</th>\n",
       "      <th>relationship</th>\n",
       "      <th>race</th>\n",
       "      <th>sex</th>\n",
       "      <th>hoursperweek</th>\n",
       "      <th>native-country</th>\n",
       "    </tr>\n",
       "  </thead>\n",
       "  <tbody>\n",
       "    <tr>\n",
       "      <th>5514</th>\n",
       "      <td>33</td>\n",
       "      <td>Local-gov</td>\n",
       "      <td>13</td>\n",
       "      <td>Never-married</td>\n",
       "      <td>Prof-specialty</td>\n",
       "      <td>Not-in-family</td>\n",
       "      <td>White</td>\n",
       "      <td>Female</td>\n",
       "      <td>50</td>\n",
       "      <td>United-States</td>\n",
       "    </tr>\n",
       "    <tr>\n",
       "      <th>19777</th>\n",
       "      <td>36</td>\n",
       "      <td>Private</td>\n",
       "      <td>11</td>\n",
       "      <td>Married-civ-spouse</td>\n",
       "      <td>Exec-managerial</td>\n",
       "      <td>Husband</td>\n",
       "      <td>White</td>\n",
       "      <td>Male</td>\n",
       "      <td>50</td>\n",
       "      <td>United-States</td>\n",
       "    </tr>\n",
       "    <tr>\n",
       "      <th>10781</th>\n",
       "      <td>58</td>\n",
       "      <td>Self-emp-not-inc</td>\n",
       "      <td>5</td>\n",
       "      <td>Separated</td>\n",
       "      <td>Craft-repair</td>\n",
       "      <td>Not-in-family</td>\n",
       "      <td>White</td>\n",
       "      <td>Male</td>\n",
       "      <td>40</td>\n",
       "      <td>United-States</td>\n",
       "    </tr>\n",
       "    <tr>\n",
       "      <th>32240</th>\n",
       "      <td>21</td>\n",
       "      <td>Private</td>\n",
       "      <td>11</td>\n",
       "      <td>Married-civ-spouse</td>\n",
       "      <td>Farming-fishing</td>\n",
       "      <td>Husband</td>\n",
       "      <td>White</td>\n",
       "      <td>Male</td>\n",
       "      <td>46</td>\n",
       "      <td>United-States</td>\n",
       "    </tr>\n",
       "    <tr>\n",
       "      <th>9876</th>\n",
       "      <td>27</td>\n",
       "      <td>Private</td>\n",
       "      <td>10</td>\n",
       "      <td>Divorced</td>\n",
       "      <td>Other-service</td>\n",
       "      <td>Not-in-family</td>\n",
       "      <td>White</td>\n",
       "      <td>Male</td>\n",
       "      <td>40</td>\n",
       "      <td>United-States</td>\n",
       "    </tr>\n",
       "    <tr>\n",
       "      <th>...</th>\n",
       "      <td>...</td>\n",
       "      <td>...</td>\n",
       "      <td>...</td>\n",
       "      <td>...</td>\n",
       "      <td>...</td>\n",
       "      <td>...</td>\n",
       "      <td>...</td>\n",
       "      <td>...</td>\n",
       "      <td>...</td>\n",
       "      <td>...</td>\n",
       "    </tr>\n",
       "    <tr>\n",
       "      <th>29802</th>\n",
       "      <td>47</td>\n",
       "      <td>Private</td>\n",
       "      <td>13</td>\n",
       "      <td>Married-civ-spouse</td>\n",
       "      <td>Craft-repair</td>\n",
       "      <td>Husband</td>\n",
       "      <td>White</td>\n",
       "      <td>Male</td>\n",
       "      <td>40</td>\n",
       "      <td>United-States</td>\n",
       "    </tr>\n",
       "    <tr>\n",
       "      <th>5390</th>\n",
       "      <td>31</td>\n",
       "      <td>Private</td>\n",
       "      <td>8</td>\n",
       "      <td>Divorced</td>\n",
       "      <td>Other-service</td>\n",
       "      <td>Unmarried</td>\n",
       "      <td>White</td>\n",
       "      <td>Female</td>\n",
       "      <td>21</td>\n",
       "      <td>United-States</td>\n",
       "    </tr>\n",
       "    <tr>\n",
       "      <th>860</th>\n",
       "      <td>18</td>\n",
       "      <td>Private</td>\n",
       "      <td>7</td>\n",
       "      <td>Never-married</td>\n",
       "      <td>Adm-clerical</td>\n",
       "      <td>Own-child</td>\n",
       "      <td>White</td>\n",
       "      <td>Female</td>\n",
       "      <td>20</td>\n",
       "      <td>United-States</td>\n",
       "    </tr>\n",
       "    <tr>\n",
       "      <th>15795</th>\n",
       "      <td>50</td>\n",
       "      <td>Self-emp-not-inc</td>\n",
       "      <td>9</td>\n",
       "      <td>Married-civ-spouse</td>\n",
       "      <td>Farming-fishing</td>\n",
       "      <td>Husband</td>\n",
       "      <td>White</td>\n",
       "      <td>Male</td>\n",
       "      <td>84</td>\n",
       "      <td>United-States</td>\n",
       "    </tr>\n",
       "    <tr>\n",
       "      <th>23654</th>\n",
       "      <td>34</td>\n",
       "      <td>Self-emp-inc</td>\n",
       "      <td>13</td>\n",
       "      <td>Divorced</td>\n",
       "      <td>Farming-fishing</td>\n",
       "      <td>Not-in-family</td>\n",
       "      <td>White</td>\n",
       "      <td>Male</td>\n",
       "      <td>60</td>\n",
       "      <td>United-States</td>\n",
       "    </tr>\n",
       "  </tbody>\n",
       "</table>\n",
       "<p>26048 rows × 10 columns</p>\n",
       "</div>"
      ],
      "text/plain": [
       "       age          workclass  education-num       marital-status  \\\n",
       "5514    33          Local-gov             13        Never-married   \n",
       "19777   36            Private             11   Married-civ-spouse   \n",
       "10781   58   Self-emp-not-inc              5            Separated   \n",
       "32240   21            Private             11   Married-civ-spouse   \n",
       "9876    27            Private             10             Divorced   \n",
       "...    ...                ...            ...                  ...   \n",
       "29802   47            Private             13   Married-civ-spouse   \n",
       "5390    31            Private              8             Divorced   \n",
       "860     18            Private              7        Never-married   \n",
       "15795   50   Self-emp-not-inc              9   Married-civ-spouse   \n",
       "23654   34       Self-emp-inc             13             Divorced   \n",
       "\n",
       "             occupation    relationship    race      sex  hoursperweek  \\\n",
       "5514     Prof-specialty   Not-in-family   White   Female            50   \n",
       "19777   Exec-managerial         Husband   White     Male            50   \n",
       "10781      Craft-repair   Not-in-family   White     Male            40   \n",
       "32240   Farming-fishing         Husband   White     Male            46   \n",
       "9876      Other-service   Not-in-family   White     Male            40   \n",
       "...                 ...             ...     ...      ...           ...   \n",
       "29802      Craft-repair         Husband   White     Male            40   \n",
       "5390      Other-service       Unmarried   White   Female            21   \n",
       "860        Adm-clerical       Own-child   White   Female            20   \n",
       "15795   Farming-fishing         Husband   White     Male            84   \n",
       "23654   Farming-fishing   Not-in-family   White     Male            60   \n",
       "\n",
       "       native-country  \n",
       "5514    United-States  \n",
       "19777   United-States  \n",
       "10781   United-States  \n",
       "32240   United-States  \n",
       "9876    United-States  \n",
       "...               ...  \n",
       "29802   United-States  \n",
       "5390    United-States  \n",
       "860     United-States  \n",
       "15795   United-States  \n",
       "23654   United-States  \n",
       "\n",
       "[26048 rows x 10 columns]"
      ]
     },
     "execution_count": 290,
     "metadata": {},
     "output_type": "execute_result"
    }
   ],
   "source": [
    "X_train"
   ]
  },
  {
   "cell_type": "code",
   "execution_count": 291,
   "id": "31e6f68b",
   "metadata": {},
   "outputs": [],
   "source": [
    "def detect_outlier(data,col):\n",
    "    # find q1 and q3 values\n",
    "    q1, q3 = np.percentile(sorted(data[col]), [25, 75])\n",
    " \n",
    "    # compute IRQ\n",
    "    iqr = q3 - q1\n",
    " \n",
    "    # find lower and upper bounds\n",
    "    lower_bound = q1 - (1.5 * iqr)\n",
    "    upper_bound = q3 + (1.5 * iqr)\n",
    "    print(q1, q3, iqr, lower_bound, upper_bound)\n",
    " \n",
    "    outliers = data[(data[col] < lower_bound) | (data[col] > upper_bound)]\n",
    "#     outliers = [x for x in data[col] if x < lower_bound or x > upper_bound]\n",
    " \n",
    "    return outliers"
   ]
  },
  {
   "cell_type": "code",
   "execution_count": 292,
   "id": "c63c4a60",
   "metadata": {},
   "outputs": [],
   "source": [
    "def remove(x,only_na):\n",
    "    new_data = x.copy()\n",
    "    new_data.drop(index=only_na,inplace=True)\n",
    "    indices = list(x.index.difference(new_data.index))\n",
    "#     print(new_data)\n",
    "    return(new_data,indices)"
   ]
  },
  {
   "cell_type": "code",
   "execution_count": 293,
   "id": "ab10a4fa",
   "metadata": {},
   "outputs": [],
   "source": [
    "def drop_rows(x,only_na):\n",
    "    new_data = x.copy()\n",
    "    new_data.drop(index=only_na,inplace=True)\n",
    "    return new_data"
   ]
  },
  {
   "cell_type": "code",
   "execution_count": 294,
   "id": "ca3280f5",
   "metadata": {},
   "outputs": [
    {
     "name": "stdout",
     "output_type": "stream",
     "text": [
      "28.0 48.0 20.0 -2.0 78.0\n"
     ]
    }
   ],
   "source": [
    "outliers = detect_outlier(X_train,\"age\")"
   ]
  },
  {
   "cell_type": "code",
   "execution_count": 295,
   "id": "9e5a8ded",
   "metadata": {},
   "outputs": [],
   "source": [
    "only_na = outliers.index"
   ]
  },
  {
   "cell_type": "code",
   "execution_count": 296,
   "id": "29db6d56",
   "metadata": {},
   "outputs": [
    {
     "data": {
      "text/plain": [
       "Int64Index([ 3537, 18560, 24043, 23459, 17609, 20610, 15356, 11238,  6173,\n",
       "            20249,\n",
       "            ...\n",
       "             4109, 13025, 20953, 24027,  2891, 32367,  5104, 20463, 20880,\n",
       "            18141],\n",
       "           dtype='int64', length=112)"
      ]
     },
     "execution_count": 296,
     "metadata": {},
     "output_type": "execute_result"
    }
   ],
   "source": [
    "only_na"
   ]
  },
  {
   "cell_type": "code",
   "execution_count": 297,
   "id": "4271443a",
   "metadata": {},
   "outputs": [],
   "source": [
    "X_train,indices = remove(X_train,only_na)"
   ]
  },
  {
   "cell_type": "code",
   "execution_count": 298,
   "id": "3535ddb3",
   "metadata": {
    "scrolled": false
   },
   "outputs": [
    {
     "data": {
      "text/html": [
       "<div>\n",
       "<style scoped>\n",
       "    .dataframe tbody tr th:only-of-type {\n",
       "        vertical-align: middle;\n",
       "    }\n",
       "\n",
       "    .dataframe tbody tr th {\n",
       "        vertical-align: top;\n",
       "    }\n",
       "\n",
       "    .dataframe thead th {\n",
       "        text-align: right;\n",
       "    }\n",
       "</style>\n",
       "<table border=\"1\" class=\"dataframe\">\n",
       "  <thead>\n",
       "    <tr style=\"text-align: right;\">\n",
       "      <th></th>\n",
       "      <th>age</th>\n",
       "      <th>workclass</th>\n",
       "      <th>education-num</th>\n",
       "      <th>marital-status</th>\n",
       "      <th>occupation</th>\n",
       "      <th>relationship</th>\n",
       "      <th>race</th>\n",
       "      <th>sex</th>\n",
       "      <th>hoursperweek</th>\n",
       "      <th>native-country</th>\n",
       "    </tr>\n",
       "  </thead>\n",
       "  <tbody>\n",
       "    <tr>\n",
       "      <th>5514</th>\n",
       "      <td>33</td>\n",
       "      <td>Local-gov</td>\n",
       "      <td>13</td>\n",
       "      <td>Never-married</td>\n",
       "      <td>Prof-specialty</td>\n",
       "      <td>Not-in-family</td>\n",
       "      <td>White</td>\n",
       "      <td>Female</td>\n",
       "      <td>50</td>\n",
       "      <td>United-States</td>\n",
       "    </tr>\n",
       "    <tr>\n",
       "      <th>19777</th>\n",
       "      <td>36</td>\n",
       "      <td>Private</td>\n",
       "      <td>11</td>\n",
       "      <td>Married-civ-spouse</td>\n",
       "      <td>Exec-managerial</td>\n",
       "      <td>Husband</td>\n",
       "      <td>White</td>\n",
       "      <td>Male</td>\n",
       "      <td>50</td>\n",
       "      <td>United-States</td>\n",
       "    </tr>\n",
       "    <tr>\n",
       "      <th>10781</th>\n",
       "      <td>58</td>\n",
       "      <td>Self-emp-not-inc</td>\n",
       "      <td>5</td>\n",
       "      <td>Separated</td>\n",
       "      <td>Craft-repair</td>\n",
       "      <td>Not-in-family</td>\n",
       "      <td>White</td>\n",
       "      <td>Male</td>\n",
       "      <td>40</td>\n",
       "      <td>United-States</td>\n",
       "    </tr>\n",
       "    <tr>\n",
       "      <th>32240</th>\n",
       "      <td>21</td>\n",
       "      <td>Private</td>\n",
       "      <td>11</td>\n",
       "      <td>Married-civ-spouse</td>\n",
       "      <td>Farming-fishing</td>\n",
       "      <td>Husband</td>\n",
       "      <td>White</td>\n",
       "      <td>Male</td>\n",
       "      <td>46</td>\n",
       "      <td>United-States</td>\n",
       "    </tr>\n",
       "    <tr>\n",
       "      <th>9876</th>\n",
       "      <td>27</td>\n",
       "      <td>Private</td>\n",
       "      <td>10</td>\n",
       "      <td>Divorced</td>\n",
       "      <td>Other-service</td>\n",
       "      <td>Not-in-family</td>\n",
       "      <td>White</td>\n",
       "      <td>Male</td>\n",
       "      <td>40</td>\n",
       "      <td>United-States</td>\n",
       "    </tr>\n",
       "    <tr>\n",
       "      <th>...</th>\n",
       "      <td>...</td>\n",
       "      <td>...</td>\n",
       "      <td>...</td>\n",
       "      <td>...</td>\n",
       "      <td>...</td>\n",
       "      <td>...</td>\n",
       "      <td>...</td>\n",
       "      <td>...</td>\n",
       "      <td>...</td>\n",
       "      <td>...</td>\n",
       "    </tr>\n",
       "    <tr>\n",
       "      <th>29802</th>\n",
       "      <td>47</td>\n",
       "      <td>Private</td>\n",
       "      <td>13</td>\n",
       "      <td>Married-civ-spouse</td>\n",
       "      <td>Craft-repair</td>\n",
       "      <td>Husband</td>\n",
       "      <td>White</td>\n",
       "      <td>Male</td>\n",
       "      <td>40</td>\n",
       "      <td>United-States</td>\n",
       "    </tr>\n",
       "    <tr>\n",
       "      <th>5390</th>\n",
       "      <td>31</td>\n",
       "      <td>Private</td>\n",
       "      <td>8</td>\n",
       "      <td>Divorced</td>\n",
       "      <td>Other-service</td>\n",
       "      <td>Unmarried</td>\n",
       "      <td>White</td>\n",
       "      <td>Female</td>\n",
       "      <td>21</td>\n",
       "      <td>United-States</td>\n",
       "    </tr>\n",
       "    <tr>\n",
       "      <th>860</th>\n",
       "      <td>18</td>\n",
       "      <td>Private</td>\n",
       "      <td>7</td>\n",
       "      <td>Never-married</td>\n",
       "      <td>Adm-clerical</td>\n",
       "      <td>Own-child</td>\n",
       "      <td>White</td>\n",
       "      <td>Female</td>\n",
       "      <td>20</td>\n",
       "      <td>United-States</td>\n",
       "    </tr>\n",
       "    <tr>\n",
       "      <th>15795</th>\n",
       "      <td>50</td>\n",
       "      <td>Self-emp-not-inc</td>\n",
       "      <td>9</td>\n",
       "      <td>Married-civ-spouse</td>\n",
       "      <td>Farming-fishing</td>\n",
       "      <td>Husband</td>\n",
       "      <td>White</td>\n",
       "      <td>Male</td>\n",
       "      <td>84</td>\n",
       "      <td>United-States</td>\n",
       "    </tr>\n",
       "    <tr>\n",
       "      <th>23654</th>\n",
       "      <td>34</td>\n",
       "      <td>Self-emp-inc</td>\n",
       "      <td>13</td>\n",
       "      <td>Divorced</td>\n",
       "      <td>Farming-fishing</td>\n",
       "      <td>Not-in-family</td>\n",
       "      <td>White</td>\n",
       "      <td>Male</td>\n",
       "      <td>60</td>\n",
       "      <td>United-States</td>\n",
       "    </tr>\n",
       "  </tbody>\n",
       "</table>\n",
       "<p>25936 rows × 10 columns</p>\n",
       "</div>"
      ],
      "text/plain": [
       "       age          workclass  education-num       marital-status  \\\n",
       "5514    33          Local-gov             13        Never-married   \n",
       "19777   36            Private             11   Married-civ-spouse   \n",
       "10781   58   Self-emp-not-inc              5            Separated   \n",
       "32240   21            Private             11   Married-civ-spouse   \n",
       "9876    27            Private             10             Divorced   \n",
       "...    ...                ...            ...                  ...   \n",
       "29802   47            Private             13   Married-civ-spouse   \n",
       "5390    31            Private              8             Divorced   \n",
       "860     18            Private              7        Never-married   \n",
       "15795   50   Self-emp-not-inc              9   Married-civ-spouse   \n",
       "23654   34       Self-emp-inc             13             Divorced   \n",
       "\n",
       "             occupation    relationship    race      sex  hoursperweek  \\\n",
       "5514     Prof-specialty   Not-in-family   White   Female            50   \n",
       "19777   Exec-managerial         Husband   White     Male            50   \n",
       "10781      Craft-repair   Not-in-family   White     Male            40   \n",
       "32240   Farming-fishing         Husband   White     Male            46   \n",
       "9876      Other-service   Not-in-family   White     Male            40   \n",
       "...                 ...             ...     ...      ...           ...   \n",
       "29802      Craft-repair         Husband   White     Male            40   \n",
       "5390      Other-service       Unmarried   White   Female            21   \n",
       "860        Adm-clerical       Own-child   White   Female            20   \n",
       "15795   Farming-fishing         Husband   White     Male            84   \n",
       "23654   Farming-fishing   Not-in-family   White     Male            60   \n",
       "\n",
       "       native-country  \n",
       "5514    United-States  \n",
       "19777   United-States  \n",
       "10781   United-States  \n",
       "32240   United-States  \n",
       "9876    United-States  \n",
       "...               ...  \n",
       "29802   United-States  \n",
       "5390    United-States  \n",
       "860     United-States  \n",
       "15795   United-States  \n",
       "23654   United-States  \n",
       "\n",
       "[25936 rows x 10 columns]"
      ]
     },
     "execution_count": 298,
     "metadata": {},
     "output_type": "execute_result"
    }
   ],
   "source": [
    "X_train"
   ]
  },
  {
   "cell_type": "code",
   "execution_count": 299,
   "id": "7d306807",
   "metadata": {},
   "outputs": [],
   "source": [
    "y_train = drop_rows(y_train,indices)"
   ]
  },
  {
   "cell_type": "code",
   "execution_count": 300,
   "id": "70428ed8",
   "metadata": {},
   "outputs": [
    {
     "data": {
      "text/plain": [
       "5514       >50K\n",
       "19777      >50K\n",
       "10781     <=50K\n",
       "32240     <=50K\n",
       "9876      <=50K\n",
       "          ...  \n",
       "29802     <=50K\n",
       "5390      <=50K\n",
       "860       <=50K\n",
       "15795     <=50K\n",
       "23654     <=50K\n",
       "Name: class, Length: 25936, dtype: object"
      ]
     },
     "execution_count": 300,
     "metadata": {},
     "output_type": "execute_result"
    }
   ],
   "source": [
    "y_train"
   ]
  },
  {
   "cell_type": "code",
   "execution_count": 301,
   "id": "0528ebac",
   "metadata": {},
   "outputs": [
    {
     "name": "stdout",
     "output_type": "stream",
     "text": [
      "40.0 45.0 5.0 32.5 52.5\n"
     ]
    }
   ],
   "source": [
    "outliers1 = detect_outlier(X_train,\"hoursperweek\")"
   ]
  },
  {
   "cell_type": "code",
   "execution_count": 302,
   "id": "92e360a4",
   "metadata": {},
   "outputs": [],
   "source": [
    "only_na1 = outliers1.index"
   ]
  },
  {
   "cell_type": "code",
   "execution_count": 303,
   "id": "d0eebb9f",
   "metadata": {},
   "outputs": [],
   "source": [
    "X_train,indices1 = remove(X_train,only_na1)"
   ]
  },
  {
   "cell_type": "code",
   "execution_count": 304,
   "id": "59a22fc8",
   "metadata": {},
   "outputs": [
    {
     "data": {
      "text/html": [
       "<div>\n",
       "<style scoped>\n",
       "    .dataframe tbody tr th:only-of-type {\n",
       "        vertical-align: middle;\n",
       "    }\n",
       "\n",
       "    .dataframe tbody tr th {\n",
       "        vertical-align: top;\n",
       "    }\n",
       "\n",
       "    .dataframe thead th {\n",
       "        text-align: right;\n",
       "    }\n",
       "</style>\n",
       "<table border=\"1\" class=\"dataframe\">\n",
       "  <thead>\n",
       "    <tr style=\"text-align: right;\">\n",
       "      <th></th>\n",
       "      <th>age</th>\n",
       "      <th>workclass</th>\n",
       "      <th>education-num</th>\n",
       "      <th>marital-status</th>\n",
       "      <th>occupation</th>\n",
       "      <th>relationship</th>\n",
       "      <th>race</th>\n",
       "      <th>sex</th>\n",
       "      <th>hoursperweek</th>\n",
       "      <th>native-country</th>\n",
       "    </tr>\n",
       "  </thead>\n",
       "  <tbody>\n",
       "    <tr>\n",
       "      <th>5514</th>\n",
       "      <td>33</td>\n",
       "      <td>Local-gov</td>\n",
       "      <td>13</td>\n",
       "      <td>Never-married</td>\n",
       "      <td>Prof-specialty</td>\n",
       "      <td>Not-in-family</td>\n",
       "      <td>White</td>\n",
       "      <td>Female</td>\n",
       "      <td>50</td>\n",
       "      <td>United-States</td>\n",
       "    </tr>\n",
       "    <tr>\n",
       "      <th>19777</th>\n",
       "      <td>36</td>\n",
       "      <td>Private</td>\n",
       "      <td>11</td>\n",
       "      <td>Married-civ-spouse</td>\n",
       "      <td>Exec-managerial</td>\n",
       "      <td>Husband</td>\n",
       "      <td>White</td>\n",
       "      <td>Male</td>\n",
       "      <td>50</td>\n",
       "      <td>United-States</td>\n",
       "    </tr>\n",
       "    <tr>\n",
       "      <th>10781</th>\n",
       "      <td>58</td>\n",
       "      <td>Self-emp-not-inc</td>\n",
       "      <td>5</td>\n",
       "      <td>Separated</td>\n",
       "      <td>Craft-repair</td>\n",
       "      <td>Not-in-family</td>\n",
       "      <td>White</td>\n",
       "      <td>Male</td>\n",
       "      <td>40</td>\n",
       "      <td>United-States</td>\n",
       "    </tr>\n",
       "    <tr>\n",
       "      <th>32240</th>\n",
       "      <td>21</td>\n",
       "      <td>Private</td>\n",
       "      <td>11</td>\n",
       "      <td>Married-civ-spouse</td>\n",
       "      <td>Farming-fishing</td>\n",
       "      <td>Husband</td>\n",
       "      <td>White</td>\n",
       "      <td>Male</td>\n",
       "      <td>46</td>\n",
       "      <td>United-States</td>\n",
       "    </tr>\n",
       "    <tr>\n",
       "      <th>9876</th>\n",
       "      <td>27</td>\n",
       "      <td>Private</td>\n",
       "      <td>10</td>\n",
       "      <td>Divorced</td>\n",
       "      <td>Other-service</td>\n",
       "      <td>Not-in-family</td>\n",
       "      <td>White</td>\n",
       "      <td>Male</td>\n",
       "      <td>40</td>\n",
       "      <td>United-States</td>\n",
       "    </tr>\n",
       "    <tr>\n",
       "      <th>...</th>\n",
       "      <td>...</td>\n",
       "      <td>...</td>\n",
       "      <td>...</td>\n",
       "      <td>...</td>\n",
       "      <td>...</td>\n",
       "      <td>...</td>\n",
       "      <td>...</td>\n",
       "      <td>...</td>\n",
       "      <td>...</td>\n",
       "      <td>...</td>\n",
       "    </tr>\n",
       "    <tr>\n",
       "      <th>22118</th>\n",
       "      <td>23</td>\n",
       "      <td>Private</td>\n",
       "      <td>6</td>\n",
       "      <td>Never-married</td>\n",
       "      <td>Handlers-cleaners</td>\n",
       "      <td>Unmarried</td>\n",
       "      <td>White</td>\n",
       "      <td>Male</td>\n",
       "      <td>50</td>\n",
       "      <td>United-States</td>\n",
       "    </tr>\n",
       "    <tr>\n",
       "      <th>11284</th>\n",
       "      <td>35</td>\n",
       "      <td>Private</td>\n",
       "      <td>13</td>\n",
       "      <td>Married-civ-spouse</td>\n",
       "      <td>Exec-managerial</td>\n",
       "      <td>Husband</td>\n",
       "      <td>Asian-Pac-Islander</td>\n",
       "      <td>Male</td>\n",
       "      <td>50</td>\n",
       "      <td>?</td>\n",
       "    </tr>\n",
       "    <tr>\n",
       "      <th>11964</th>\n",
       "      <td>58</td>\n",
       "      <td>Self-emp-inc</td>\n",
       "      <td>13</td>\n",
       "      <td>Married-civ-spouse</td>\n",
       "      <td>Exec-managerial</td>\n",
       "      <td>Husband</td>\n",
       "      <td>White</td>\n",
       "      <td>Male</td>\n",
       "      <td>45</td>\n",
       "      <td>United-States</td>\n",
       "    </tr>\n",
       "    <tr>\n",
       "      <th>21575</th>\n",
       "      <td>39</td>\n",
       "      <td>Private</td>\n",
       "      <td>9</td>\n",
       "      <td>Married-civ-spouse</td>\n",
       "      <td>Machine-op-inspct</td>\n",
       "      <td>Husband</td>\n",
       "      <td>White</td>\n",
       "      <td>Male</td>\n",
       "      <td>43</td>\n",
       "      <td>United-States</td>\n",
       "    </tr>\n",
       "    <tr>\n",
       "      <th>29802</th>\n",
       "      <td>47</td>\n",
       "      <td>Private</td>\n",
       "      <td>13</td>\n",
       "      <td>Married-civ-spouse</td>\n",
       "      <td>Craft-repair</td>\n",
       "      <td>Husband</td>\n",
       "      <td>White</td>\n",
       "      <td>Male</td>\n",
       "      <td>40</td>\n",
       "      <td>United-States</td>\n",
       "    </tr>\n",
       "  </tbody>\n",
       "</table>\n",
       "<p>18835 rows × 10 columns</p>\n",
       "</div>"
      ],
      "text/plain": [
       "       age          workclass  education-num       marital-status  \\\n",
       "5514    33          Local-gov             13        Never-married   \n",
       "19777   36            Private             11   Married-civ-spouse   \n",
       "10781   58   Self-emp-not-inc              5            Separated   \n",
       "32240   21            Private             11   Married-civ-spouse   \n",
       "9876    27            Private             10             Divorced   \n",
       "...    ...                ...            ...                  ...   \n",
       "22118   23            Private              6        Never-married   \n",
       "11284   35            Private             13   Married-civ-spouse   \n",
       "11964   58       Self-emp-inc             13   Married-civ-spouse   \n",
       "21575   39            Private              9   Married-civ-spouse   \n",
       "29802   47            Private             13   Married-civ-spouse   \n",
       "\n",
       "               occupation    relationship                 race      sex  \\\n",
       "5514       Prof-specialty   Not-in-family                White   Female   \n",
       "19777     Exec-managerial         Husband                White     Male   \n",
       "10781        Craft-repair   Not-in-family                White     Male   \n",
       "32240     Farming-fishing         Husband                White     Male   \n",
       "9876        Other-service   Not-in-family                White     Male   \n",
       "...                   ...             ...                  ...      ...   \n",
       "22118   Handlers-cleaners       Unmarried                White     Male   \n",
       "11284     Exec-managerial         Husband   Asian-Pac-Islander     Male   \n",
       "11964     Exec-managerial         Husband                White     Male   \n",
       "21575   Machine-op-inspct         Husband                White     Male   \n",
       "29802        Craft-repair         Husband                White     Male   \n",
       "\n",
       "       hoursperweek  native-country  \n",
       "5514             50   United-States  \n",
       "19777            50   United-States  \n",
       "10781            40   United-States  \n",
       "32240            46   United-States  \n",
       "9876             40   United-States  \n",
       "...             ...             ...  \n",
       "22118            50   United-States  \n",
       "11284            50               ?  \n",
       "11964            45   United-States  \n",
       "21575            43   United-States  \n",
       "29802            40   United-States  \n",
       "\n",
       "[18835 rows x 10 columns]"
      ]
     },
     "execution_count": 304,
     "metadata": {},
     "output_type": "execute_result"
    }
   ],
   "source": [
    "X_train"
   ]
  },
  {
   "cell_type": "code",
   "execution_count": 305,
   "id": "b741d2a2",
   "metadata": {},
   "outputs": [],
   "source": [
    "y_train = drop_rows(y_train,indices1)"
   ]
  },
  {
   "cell_type": "code",
   "execution_count": 306,
   "id": "0d0d8098",
   "metadata": {},
   "outputs": [
    {
     "data": {
      "text/plain": [
       "5514       >50K\n",
       "19777      >50K\n",
       "10781     <=50K\n",
       "32240     <=50K\n",
       "9876      <=50K\n",
       "          ...  \n",
       "22118     <=50K\n",
       "11284      >50K\n",
       "11964      >50K\n",
       "21575     <=50K\n",
       "29802     <=50K\n",
       "Name: class, Length: 18835, dtype: object"
      ]
     },
     "execution_count": 306,
     "metadata": {},
     "output_type": "execute_result"
    }
   ],
   "source": [
    "y_train"
   ]
  },
  {
   "cell_type": "code",
   "execution_count": 307,
   "id": "bcf57f35",
   "metadata": {},
   "outputs": [],
   "source": [
    "X_train = pd.get_dummies(X_train, columns = ['workclass', 'relationship', 'marital-status', 'occupation', 'race', 'sex', 'native-country'])"
   ]
  },
  {
   "cell_type": "code",
   "execution_count": 308,
   "id": "e149acfb",
   "metadata": {},
   "outputs": [
    {
     "name": "stdout",
     "output_type": "stream",
     "text": [
      "<class 'pandas.core.frame.DataFrame'>\n",
      "Int64Index: 18835 entries, 5514 to 29802\n",
      "Data columns (total 89 columns):\n",
      " #   Column                                      Non-Null Count  Dtype\n",
      "---  ------                                      --------------  -----\n",
      " 0   age                                         18835 non-null  int64\n",
      " 1   education-num                               18835 non-null  int64\n",
      " 2   hoursperweek                                18835 non-null  int64\n",
      " 3   workclass_ ?                                18835 non-null  uint8\n",
      " 4   workclass_ Federal-gov                      18835 non-null  uint8\n",
      " 5   workclass_ Local-gov                        18835 non-null  uint8\n",
      " 6   workclass_ Never-worked                     18835 non-null  uint8\n",
      " 7   workclass_ Private                          18835 non-null  uint8\n",
      " 8   workclass_ Self-emp-inc                     18835 non-null  uint8\n",
      " 9   workclass_ Self-emp-not-inc                 18835 non-null  uint8\n",
      " 10  workclass_ State-gov                        18835 non-null  uint8\n",
      " 11  workclass_ Without-pay                      18835 non-null  uint8\n",
      " 12  relationship_ Husband                       18835 non-null  uint8\n",
      " 13  relationship_ Not-in-family                 18835 non-null  uint8\n",
      " 14  relationship_ Other-relative                18835 non-null  uint8\n",
      " 15  relationship_ Own-child                     18835 non-null  uint8\n",
      " 16  relationship_ Unmarried                     18835 non-null  uint8\n",
      " 17  relationship_ Wife                          18835 non-null  uint8\n",
      " 18  marital-status_ Divorced                    18835 non-null  uint8\n",
      " 19  marital-status_ Married-AF-spouse           18835 non-null  uint8\n",
      " 20  marital-status_ Married-civ-spouse          18835 non-null  uint8\n",
      " 21  marital-status_ Married-spouse-absent       18835 non-null  uint8\n",
      " 22  marital-status_ Never-married               18835 non-null  uint8\n",
      " 23  marital-status_ Separated                   18835 non-null  uint8\n",
      " 24  marital-status_ Widowed                     18835 non-null  uint8\n",
      " 25  occupation_ ?                               18835 non-null  uint8\n",
      " 26  occupation_ Adm-clerical                    18835 non-null  uint8\n",
      " 27  occupation_ Armed-Forces                    18835 non-null  uint8\n",
      " 28  occupation_ Craft-repair                    18835 non-null  uint8\n",
      " 29  occupation_ Exec-managerial                 18835 non-null  uint8\n",
      " 30  occupation_ Farming-fishing                 18835 non-null  uint8\n",
      " 31  occupation_ Handlers-cleaners               18835 non-null  uint8\n",
      " 32  occupation_ Machine-op-inspct               18835 non-null  uint8\n",
      " 33  occupation_ Other-service                   18835 non-null  uint8\n",
      " 34  occupation_ Priv-house-serv                 18835 non-null  uint8\n",
      " 35  occupation_ Prof-specialty                  18835 non-null  uint8\n",
      " 36  occupation_ Protective-serv                 18835 non-null  uint8\n",
      " 37  occupation_ Sales                           18835 non-null  uint8\n",
      " 38  occupation_ Tech-support                    18835 non-null  uint8\n",
      " 39  occupation_ Transport-moving                18835 non-null  uint8\n",
      " 40  race_ Amer-Indian-Eskimo                    18835 non-null  uint8\n",
      " 41  race_ Asian-Pac-Islander                    18835 non-null  uint8\n",
      " 42  race_ Black                                 18835 non-null  uint8\n",
      " 43  race_ Other                                 18835 non-null  uint8\n",
      " 44  race_ White                                 18835 non-null  uint8\n",
      " 45  sex_ Female                                 18835 non-null  uint8\n",
      " 46  sex_ Male                                   18835 non-null  uint8\n",
      " 47  native-country_ ?                           18835 non-null  uint8\n",
      " 48  native-country_ Cambodia                    18835 non-null  uint8\n",
      " 49  native-country_ Canada                      18835 non-null  uint8\n",
      " 50  native-country_ China                       18835 non-null  uint8\n",
      " 51  native-country_ Columbia                    18835 non-null  uint8\n",
      " 52  native-country_ Cuba                        18835 non-null  uint8\n",
      " 53  native-country_ Dominican-Republic          18835 non-null  uint8\n",
      " 54  native-country_ Ecuador                     18835 non-null  uint8\n",
      " 55  native-country_ El-Salvador                 18835 non-null  uint8\n",
      " 56  native-country_ England                     18835 non-null  uint8\n",
      " 57  native-country_ France                      18835 non-null  uint8\n",
      " 58  native-country_ Germany                     18835 non-null  uint8\n",
      " 59  native-country_ Greece                      18835 non-null  uint8\n",
      " 60  native-country_ Guatemala                   18835 non-null  uint8\n",
      " 61  native-country_ Haiti                       18835 non-null  uint8\n",
      " 62  native-country_ Holand-Netherlands          18835 non-null  uint8\n",
      " 63  native-country_ Honduras                    18835 non-null  uint8\n",
      " 64  native-country_ Hong                        18835 non-null  uint8\n",
      " 65  native-country_ Hungary                     18835 non-null  uint8\n",
      " 66  native-country_ India                       18835 non-null  uint8\n",
      " 67  native-country_ Iran                        18835 non-null  uint8\n",
      " 68  native-country_ Ireland                     18835 non-null  uint8\n",
      " 69  native-country_ Italy                       18835 non-null  uint8\n",
      " 70  native-country_ Jamaica                     18835 non-null  uint8\n",
      " 71  native-country_ Japan                       18835 non-null  uint8\n",
      " 72  native-country_ Laos                        18835 non-null  uint8\n",
      " 73  native-country_ Mexico                      18835 non-null  uint8\n",
      " 74  native-country_ Nicaragua                   18835 non-null  uint8\n",
      " 75  native-country_ Outlying-US(Guam-USVI-etc)  18835 non-null  uint8\n",
      " 76  native-country_ Peru                        18835 non-null  uint8\n",
      " 77  native-country_ Philippines                 18835 non-null  uint8\n",
      " 78  native-country_ Poland                      18835 non-null  uint8\n",
      " 79  native-country_ Portugal                    18835 non-null  uint8\n",
      " 80  native-country_ Puerto-Rico                 18835 non-null  uint8\n",
      " 81  native-country_ Scotland                    18835 non-null  uint8\n",
      " 82  native-country_ South                       18835 non-null  uint8\n",
      " 83  native-country_ Taiwan                      18835 non-null  uint8\n",
      " 84  native-country_ Thailand                    18835 non-null  uint8\n",
      " 85  native-country_ Trinadad&Tobago             18835 non-null  uint8\n",
      " 86  native-country_ United-States               18835 non-null  uint8\n",
      " 87  native-country_ Vietnam                     18835 non-null  uint8\n",
      " 88  native-country_ Yugoslavia                  18835 non-null  uint8\n",
      "dtypes: int64(3), uint8(86)\n",
      "memory usage: 2.1 MB\n"
     ]
    }
   ],
   "source": [
    "X_train.info()"
   ]
  },
  {
   "cell_type": "code",
   "execution_count": 309,
   "id": "b6a0e07b",
   "metadata": {},
   "outputs": [],
   "source": [
    "y_train = y_train.astype('category')"
   ]
  },
  {
   "cell_type": "code",
   "execution_count": 310,
   "id": "583a99bf",
   "metadata": {},
   "outputs": [],
   "source": [
    "X_test = pd.get_dummies(X_test, columns = ['workclass', 'relationship', 'marital-status', 'occupation', 'race', 'sex', 'native-country'])"
   ]
  },
  {
   "cell_type": "code",
   "execution_count": 311,
   "id": "ace4f98e",
   "metadata": {},
   "outputs": [
    {
     "name": "stdout",
     "output_type": "stream",
     "text": [
      "<class 'pandas.core.frame.DataFrame'>\n",
      "Int64Index: 6513 entries, 14160 to 24639\n",
      "Data columns (total 86 columns):\n",
      " #   Column                                 Non-Null Count  Dtype\n",
      "---  ------                                 --------------  -----\n",
      " 0   age                                    6513 non-null   int64\n",
      " 1   education-num                          6513 non-null   int64\n",
      " 2   hoursperweek                           6513 non-null   int64\n",
      " 3   workclass_ ?                           6513 non-null   uint8\n",
      " 4   workclass_ Federal-gov                 6513 non-null   uint8\n",
      " 5   workclass_ Local-gov                   6513 non-null   uint8\n",
      " 6   workclass_ Private                     6513 non-null   uint8\n",
      " 7   workclass_ Self-emp-inc                6513 non-null   uint8\n",
      " 8   workclass_ Self-emp-not-inc            6513 non-null   uint8\n",
      " 9   workclass_ State-gov                   6513 non-null   uint8\n",
      " 10  workclass_ Without-pay                 6513 non-null   uint8\n",
      " 11  relationship_ Husband                  6513 non-null   uint8\n",
      " 12  relationship_ Not-in-family            6513 non-null   uint8\n",
      " 13  relationship_ Other-relative           6513 non-null   uint8\n",
      " 14  relationship_ Own-child                6513 non-null   uint8\n",
      " 15  relationship_ Unmarried                6513 non-null   uint8\n",
      " 16  relationship_ Wife                     6513 non-null   uint8\n",
      " 17  marital-status_ Divorced               6513 non-null   uint8\n",
      " 18  marital-status_ Married-AF-spouse      6513 non-null   uint8\n",
      " 19  marital-status_ Married-civ-spouse     6513 non-null   uint8\n",
      " 20  marital-status_ Married-spouse-absent  6513 non-null   uint8\n",
      " 21  marital-status_ Never-married          6513 non-null   uint8\n",
      " 22  marital-status_ Separated              6513 non-null   uint8\n",
      " 23  marital-status_ Widowed                6513 non-null   uint8\n",
      " 24  occupation_ ?                          6513 non-null   uint8\n",
      " 25  occupation_ Adm-clerical               6513 non-null   uint8\n",
      " 26  occupation_ Armed-Forces               6513 non-null   uint8\n",
      " 27  occupation_ Craft-repair               6513 non-null   uint8\n",
      " 28  occupation_ Exec-managerial            6513 non-null   uint8\n",
      " 29  occupation_ Farming-fishing            6513 non-null   uint8\n",
      " 30  occupation_ Handlers-cleaners          6513 non-null   uint8\n",
      " 31  occupation_ Machine-op-inspct          6513 non-null   uint8\n",
      " 32  occupation_ Other-service              6513 non-null   uint8\n",
      " 33  occupation_ Priv-house-serv            6513 non-null   uint8\n",
      " 34  occupation_ Prof-specialty             6513 non-null   uint8\n",
      " 35  occupation_ Protective-serv            6513 non-null   uint8\n",
      " 36  occupation_ Sales                      6513 non-null   uint8\n",
      " 37  occupation_ Tech-support               6513 non-null   uint8\n",
      " 38  occupation_ Transport-moving           6513 non-null   uint8\n",
      " 39  race_ Amer-Indian-Eskimo               6513 non-null   uint8\n",
      " 40  race_ Asian-Pac-Islander               6513 non-null   uint8\n",
      " 41  race_ Black                            6513 non-null   uint8\n",
      " 42  race_ Other                            6513 non-null   uint8\n",
      " 43  race_ White                            6513 non-null   uint8\n",
      " 44  sex_ Female                            6513 non-null   uint8\n",
      " 45  sex_ Male                              6513 non-null   uint8\n",
      " 46  native-country_ ?                      6513 non-null   uint8\n",
      " 47  native-country_ Cambodia               6513 non-null   uint8\n",
      " 48  native-country_ Canada                 6513 non-null   uint8\n",
      " 49  native-country_ China                  6513 non-null   uint8\n",
      " 50  native-country_ Columbia               6513 non-null   uint8\n",
      " 51  native-country_ Cuba                   6513 non-null   uint8\n",
      " 52  native-country_ Dominican-Republic     6513 non-null   uint8\n",
      " 53  native-country_ Ecuador                6513 non-null   uint8\n",
      " 54  native-country_ El-Salvador            6513 non-null   uint8\n",
      " 55  native-country_ England                6513 non-null   uint8\n",
      " 56  native-country_ France                 6513 non-null   uint8\n",
      " 57  native-country_ Germany                6513 non-null   uint8\n",
      " 58  native-country_ Greece                 6513 non-null   uint8\n",
      " 59  native-country_ Guatemala              6513 non-null   uint8\n",
      " 60  native-country_ Haiti                  6513 non-null   uint8\n",
      " 61  native-country_ Honduras               6513 non-null   uint8\n",
      " 62  native-country_ Hong                   6513 non-null   uint8\n",
      " 63  native-country_ Hungary                6513 non-null   uint8\n",
      " 64  native-country_ India                  6513 non-null   uint8\n",
      " 65  native-country_ Iran                   6513 non-null   uint8\n",
      " 66  native-country_ Ireland                6513 non-null   uint8\n",
      " 67  native-country_ Italy                  6513 non-null   uint8\n",
      " 68  native-country_ Jamaica                6513 non-null   uint8\n",
      " 69  native-country_ Japan                  6513 non-null   uint8\n",
      " 70  native-country_ Laos                   6513 non-null   uint8\n",
      " 71  native-country_ Mexico                 6513 non-null   uint8\n",
      " 72  native-country_ Nicaragua              6513 non-null   uint8\n",
      " 73  native-country_ Peru                   6513 non-null   uint8\n",
      " 74  native-country_ Philippines            6513 non-null   uint8\n",
      " 75  native-country_ Poland                 6513 non-null   uint8\n",
      " 76  native-country_ Portugal               6513 non-null   uint8\n",
      " 77  native-country_ Puerto-Rico            6513 non-null   uint8\n",
      " 78  native-country_ Scotland               6513 non-null   uint8\n",
      " 79  native-country_ South                  6513 non-null   uint8\n",
      " 80  native-country_ Taiwan                 6513 non-null   uint8\n",
      " 81  native-country_ Thailand               6513 non-null   uint8\n",
      " 82  native-country_ Trinadad&Tobago        6513 non-null   uint8\n",
      " 83  native-country_ United-States          6513 non-null   uint8\n",
      " 84  native-country_ Vietnam                6513 non-null   uint8\n",
      " 85  native-country_ Yugoslavia             6513 non-null   uint8\n",
      "dtypes: int64(3), uint8(83)\n",
      "memory usage: 731.4 KB\n"
     ]
    }
   ],
   "source": [
    "X_test.info()"
   ]
  },
  {
   "cell_type": "code",
   "execution_count": 312,
   "id": "d3c0c53b",
   "metadata": {},
   "outputs": [
    {
     "data": {
      "text/plain": [
       "Index(['native-country_ Holand-Netherlands',\n",
       "       'native-country_ Outlying-US(Guam-USVI-etc)',\n",
       "       'workclass_ Never-worked'],\n",
       "      dtype='object')"
      ]
     },
     "execution_count": 312,
     "metadata": {},
     "output_type": "execute_result"
    }
   ],
   "source": [
    "X_train.columns.difference(X_test.columns)"
   ]
  },
  {
   "cell_type": "code",
   "execution_count": 313,
   "id": "23060489",
   "metadata": {},
   "outputs": [
    {
     "data": {
      "text/plain": [
       "5514     0\n",
       "19777    0\n",
       "10781    0\n",
       "32240    0\n",
       "9876     0\n",
       "        ..\n",
       "22118    0\n",
       "11284    0\n",
       "11964    0\n",
       "21575    0\n",
       "29802    0\n",
       "Name: workclass_ Never-worked, Length: 18835, dtype: uint8"
      ]
     },
     "execution_count": 313,
     "metadata": {},
     "output_type": "execute_result"
    }
   ],
   "source": [
    "X_train[\"workclass_ Never-worked\"]"
   ]
  },
  {
   "cell_type": "code",
   "execution_count": 314,
   "id": "1705a6e1",
   "metadata": {},
   "outputs": [],
   "source": [
    "# X_test[\"workclass_Never-worked \"].drop\n",
    "X_train = X_train.drop(['workclass_ Never-worked'], axis=1)"
   ]
  },
  {
   "cell_type": "code",
   "execution_count": 315,
   "id": "e16b3b85",
   "metadata": {},
   "outputs": [],
   "source": [
    "X_train = X_train.drop(['native-country_ Holand-Netherlands'], axis=1)"
   ]
  },
  {
   "cell_type": "code",
   "execution_count": 316,
   "id": "db8bd090",
   "metadata": {},
   "outputs": [],
   "source": [
    "X_train = X_train.drop(['native-country_ Outlying-US(Guam-USVI-etc)'], axis=1)"
   ]
  },
  {
   "cell_type": "code",
   "execution_count": 317,
   "id": "dc25943a",
   "metadata": {},
   "outputs": [],
   "source": [
    "y_test = y_test.astype('category')"
   ]
  },
  {
   "cell_type": "code",
   "execution_count": 318,
   "id": "2589eb22",
   "metadata": {},
   "outputs": [],
   "source": [
    "from sklearn.linear_model import LogisticRegression\n",
    "from sklearn.metrics import confusion_matrix\n",
    "logisticRegr = LogisticRegression()"
   ]
  },
  {
   "cell_type": "code",
   "execution_count": 319,
   "id": "85e7ab8e",
   "metadata": {},
   "outputs": [],
   "source": [
    "def logistic_regression_train(logisticRegr,x,y):\n",
    "    logisticRegr.fit(x,y)\n",
    "def logistic_regression_test(logisticRegr,x):\n",
    "    y_pred = logisticRegr.predict_proba(x)\n",
    "    return y_pred\n",
    "def logistic_regression_pred_test(logisticRegr,x):\n",
    "    y_pred_test = logisticRegr.predict(x)\n",
    "    return y_pred_test\n",
    "\n",
    "def average_diff(y_pred, X_test):\n",
    "    column_i = y_pred.T[0]\n",
    "    X_test_copy = X_test.copy()\n",
    "    X_test_copy['preds'] = column_i\n",
    "    Female = X_test_copy[\"preds\"][X_test_copy[\"sex_ Female\"]== 1]\n",
    "    female_average = sum(Female)/len(Female)\n",
    "    male = X_test_copy[\"preds\"][X_test_copy[\"sex_ Male\"] == 1]\n",
    "    male_average = sum(male)/len(male)\n",
    "    diff = (female_average - male_average)\n",
    "    return diff \n",
    "\n",
    "def accuracy(y_test, y_pred_final):\n",
    "#     y_pred_final = np.argmax(y_pred, axis=1)\n",
    "    tn, fp, fn, tp = confusion_matrix(y_test, y_pred_final).ravel()\n",
    "    true_positive  = tn\n",
    "    false_positive = fn\n",
    "    true_negative  = tp\n",
    "    false_negative = fp\n",
    "    accuracy = (true_positive + true_negative) / (true_negative + true_positive + false_positive + false_negative )\n",
    "    return(accuracy)\n",
    "    \n",
    "    "
   ]
  },
  {
   "cell_type": "code",
   "execution_count": 320,
   "id": "0c2c3245",
   "metadata": {},
   "outputs": [
    {
     "name": "stderr",
     "output_type": "stream",
     "text": [
      "C:\\Users\\sathv\\anaconda3\\lib\\site-packages\\sklearn\\linear_model\\_logistic.py:814: ConvergenceWarning: lbfgs failed to converge (status=1):\n",
      "STOP: TOTAL NO. of ITERATIONS REACHED LIMIT.\n",
      "\n",
      "Increase the number of iterations (max_iter) or scale the data as shown in:\n",
      "    https://scikit-learn.org/stable/modules/preprocessing.html\n",
      "Please also refer to the documentation for alternative solver options:\n",
      "    https://scikit-learn.org/stable/modules/linear_model.html#logistic-regression\n",
      "  n_iter_i = _check_optimize_result(\n"
     ]
    }
   ],
   "source": [
    "model = logistic_regression_train(logisticRegr, X_train, y_train)"
   ]
  },
  {
   "cell_type": "code",
   "execution_count": 321,
   "id": "f314eabd",
   "metadata": {},
   "outputs": [],
   "source": [
    "y_pred = logistic_regression_test(logisticRegr, X_test)"
   ]
  },
  {
   "cell_type": "code",
   "execution_count": 322,
   "id": "c4a8b553",
   "metadata": {},
   "outputs": [
    {
     "data": {
      "text/plain": [
       "array([[0.97264711, 0.02735289],\n",
       "       [0.39155193, 0.60844807],\n",
       "       [0.21543574, 0.78456426],\n",
       "       ...,\n",
       "       [0.12292955, 0.87707045],\n",
       "       [0.96202669, 0.03797331],\n",
       "       [0.9966378 , 0.0033622 ]])"
      ]
     },
     "execution_count": 322,
     "metadata": {},
     "output_type": "execute_result"
    }
   ],
   "source": [
    "y_pred"
   ]
  },
  {
   "cell_type": "code",
   "execution_count": 323,
   "id": "e4be0875",
   "metadata": {},
   "outputs": [],
   "source": [
    "dirty_diff = average_diff(y_pred, X_test)"
   ]
  },
  {
   "cell_type": "code",
   "execution_count": 324,
   "id": "e51b2dea",
   "metadata": {},
   "outputs": [
    {
     "data": {
      "text/plain": [
       "0.1974115985207413"
      ]
     },
     "execution_count": 324,
     "metadata": {},
     "output_type": "execute_result"
    }
   ],
   "source": [
    "dirty_diff"
   ]
  },
  {
   "cell_type": "code",
   "execution_count": 325,
   "id": "aa104f6e",
   "metadata": {},
   "outputs": [],
   "source": [
    "dirty_test_score = logisticRegr.score(X_test, y_test)"
   ]
  },
  {
   "cell_type": "code",
   "execution_count": 326,
   "id": "f3c7e204",
   "metadata": {},
   "outputs": [
    {
     "data": {
      "text/plain": [
       "0.8281897742975587"
      ]
     },
     "execution_count": 326,
     "metadata": {},
     "output_type": "execute_result"
    }
   ],
   "source": [
    "dirty_test_score"
   ]
  },
  {
   "cell_type": "code",
   "execution_count": 327,
   "id": "9577a752",
   "metadata": {},
   "outputs": [],
   "source": [
    "X_clean_train, X_clean_test, y_clean_train, y_clean_test = train_test_split(X, y, test_size=0.20, random_state = 42)"
   ]
  },
  {
   "cell_type": "code",
   "execution_count": 328,
   "id": "9cd22227",
   "metadata": {},
   "outputs": [
    {
     "name": "stdout",
     "output_type": "stream",
     "text": [
      "28.0 48.0 20.0 -2.0 78.0\n"
     ]
    }
   ],
   "source": [
    "outliers = detect_outlier(X_clean_train,\"age\")"
   ]
  },
  {
   "cell_type": "code",
   "execution_count": 329,
   "id": "b85bab3e",
   "metadata": {},
   "outputs": [],
   "source": [
    "only_na = outliers.index"
   ]
  },
  {
   "cell_type": "code",
   "execution_count": 330,
   "id": "86a9f2d5",
   "metadata": {},
   "outputs": [],
   "source": [
    "X_clean_train,indices = remove(X_clean_train,only_na)"
   ]
  },
  {
   "cell_type": "code",
   "execution_count": 331,
   "id": "3991ab7f",
   "metadata": {},
   "outputs": [
    {
     "data": {
      "text/html": [
       "<div>\n",
       "<style scoped>\n",
       "    .dataframe tbody tr th:only-of-type {\n",
       "        vertical-align: middle;\n",
       "    }\n",
       "\n",
       "    .dataframe tbody tr th {\n",
       "        vertical-align: top;\n",
       "    }\n",
       "\n",
       "    .dataframe thead th {\n",
       "        text-align: right;\n",
       "    }\n",
       "</style>\n",
       "<table border=\"1\" class=\"dataframe\">\n",
       "  <thead>\n",
       "    <tr style=\"text-align: right;\">\n",
       "      <th></th>\n",
       "      <th>age</th>\n",
       "      <th>workclass</th>\n",
       "      <th>education-num</th>\n",
       "      <th>marital-status</th>\n",
       "      <th>occupation</th>\n",
       "      <th>relationship</th>\n",
       "      <th>race</th>\n",
       "      <th>sex</th>\n",
       "      <th>hoursperweek</th>\n",
       "      <th>native-country</th>\n",
       "    </tr>\n",
       "  </thead>\n",
       "  <tbody>\n",
       "    <tr>\n",
       "      <th>5514</th>\n",
       "      <td>33</td>\n",
       "      <td>Local-gov</td>\n",
       "      <td>13</td>\n",
       "      <td>Never-married</td>\n",
       "      <td>Prof-specialty</td>\n",
       "      <td>Not-in-family</td>\n",
       "      <td>White</td>\n",
       "      <td>Female</td>\n",
       "      <td>50</td>\n",
       "      <td>United-States</td>\n",
       "    </tr>\n",
       "    <tr>\n",
       "      <th>19777</th>\n",
       "      <td>36</td>\n",
       "      <td>Private</td>\n",
       "      <td>11</td>\n",
       "      <td>Married-civ-spouse</td>\n",
       "      <td>Exec-managerial</td>\n",
       "      <td>Husband</td>\n",
       "      <td>White</td>\n",
       "      <td>Male</td>\n",
       "      <td>50</td>\n",
       "      <td>United-States</td>\n",
       "    </tr>\n",
       "    <tr>\n",
       "      <th>10781</th>\n",
       "      <td>58</td>\n",
       "      <td>Self-emp-not-inc</td>\n",
       "      <td>5</td>\n",
       "      <td>Separated</td>\n",
       "      <td>Craft-repair</td>\n",
       "      <td>Not-in-family</td>\n",
       "      <td>White</td>\n",
       "      <td>Male</td>\n",
       "      <td>40</td>\n",
       "      <td>United-States</td>\n",
       "    </tr>\n",
       "    <tr>\n",
       "      <th>32240</th>\n",
       "      <td>21</td>\n",
       "      <td>Private</td>\n",
       "      <td>11</td>\n",
       "      <td>Married-civ-spouse</td>\n",
       "      <td>Farming-fishing</td>\n",
       "      <td>Husband</td>\n",
       "      <td>White</td>\n",
       "      <td>Male</td>\n",
       "      <td>46</td>\n",
       "      <td>United-States</td>\n",
       "    </tr>\n",
       "    <tr>\n",
       "      <th>9876</th>\n",
       "      <td>27</td>\n",
       "      <td>Private</td>\n",
       "      <td>10</td>\n",
       "      <td>Divorced</td>\n",
       "      <td>Other-service</td>\n",
       "      <td>Not-in-family</td>\n",
       "      <td>White</td>\n",
       "      <td>Male</td>\n",
       "      <td>40</td>\n",
       "      <td>United-States</td>\n",
       "    </tr>\n",
       "    <tr>\n",
       "      <th>...</th>\n",
       "      <td>...</td>\n",
       "      <td>...</td>\n",
       "      <td>...</td>\n",
       "      <td>...</td>\n",
       "      <td>...</td>\n",
       "      <td>...</td>\n",
       "      <td>...</td>\n",
       "      <td>...</td>\n",
       "      <td>...</td>\n",
       "      <td>...</td>\n",
       "    </tr>\n",
       "    <tr>\n",
       "      <th>29802</th>\n",
       "      <td>47</td>\n",
       "      <td>Private</td>\n",
       "      <td>13</td>\n",
       "      <td>Married-civ-spouse</td>\n",
       "      <td>Craft-repair</td>\n",
       "      <td>Husband</td>\n",
       "      <td>White</td>\n",
       "      <td>Male</td>\n",
       "      <td>40</td>\n",
       "      <td>United-States</td>\n",
       "    </tr>\n",
       "    <tr>\n",
       "      <th>5390</th>\n",
       "      <td>31</td>\n",
       "      <td>Private</td>\n",
       "      <td>8</td>\n",
       "      <td>Divorced</td>\n",
       "      <td>Other-service</td>\n",
       "      <td>Unmarried</td>\n",
       "      <td>White</td>\n",
       "      <td>Female</td>\n",
       "      <td>21</td>\n",
       "      <td>United-States</td>\n",
       "    </tr>\n",
       "    <tr>\n",
       "      <th>860</th>\n",
       "      <td>18</td>\n",
       "      <td>Private</td>\n",
       "      <td>7</td>\n",
       "      <td>Never-married</td>\n",
       "      <td>Adm-clerical</td>\n",
       "      <td>Own-child</td>\n",
       "      <td>White</td>\n",
       "      <td>Female</td>\n",
       "      <td>20</td>\n",
       "      <td>United-States</td>\n",
       "    </tr>\n",
       "    <tr>\n",
       "      <th>15795</th>\n",
       "      <td>50</td>\n",
       "      <td>Self-emp-not-inc</td>\n",
       "      <td>9</td>\n",
       "      <td>Married-civ-spouse</td>\n",
       "      <td>Farming-fishing</td>\n",
       "      <td>Husband</td>\n",
       "      <td>White</td>\n",
       "      <td>Male</td>\n",
       "      <td>84</td>\n",
       "      <td>United-States</td>\n",
       "    </tr>\n",
       "    <tr>\n",
       "      <th>23654</th>\n",
       "      <td>34</td>\n",
       "      <td>Self-emp-inc</td>\n",
       "      <td>13</td>\n",
       "      <td>Divorced</td>\n",
       "      <td>Farming-fishing</td>\n",
       "      <td>Not-in-family</td>\n",
       "      <td>White</td>\n",
       "      <td>Male</td>\n",
       "      <td>60</td>\n",
       "      <td>United-States</td>\n",
       "    </tr>\n",
       "  </tbody>\n",
       "</table>\n",
       "<p>25936 rows × 10 columns</p>\n",
       "</div>"
      ],
      "text/plain": [
       "       age          workclass  education-num       marital-status  \\\n",
       "5514    33          Local-gov             13        Never-married   \n",
       "19777   36            Private             11   Married-civ-spouse   \n",
       "10781   58   Self-emp-not-inc              5            Separated   \n",
       "32240   21            Private             11   Married-civ-spouse   \n",
       "9876    27            Private             10             Divorced   \n",
       "...    ...                ...            ...                  ...   \n",
       "29802   47            Private             13   Married-civ-spouse   \n",
       "5390    31            Private              8             Divorced   \n",
       "860     18            Private              7        Never-married   \n",
       "15795   50   Self-emp-not-inc              9   Married-civ-spouse   \n",
       "23654   34       Self-emp-inc             13             Divorced   \n",
       "\n",
       "             occupation    relationship    race      sex  hoursperweek  \\\n",
       "5514     Prof-specialty   Not-in-family   White   Female            50   \n",
       "19777   Exec-managerial         Husband   White     Male            50   \n",
       "10781      Craft-repair   Not-in-family   White     Male            40   \n",
       "32240   Farming-fishing         Husband   White     Male            46   \n",
       "9876      Other-service   Not-in-family   White     Male            40   \n",
       "...                 ...             ...     ...      ...           ...   \n",
       "29802      Craft-repair         Husband   White     Male            40   \n",
       "5390      Other-service       Unmarried   White   Female            21   \n",
       "860        Adm-clerical       Own-child   White   Female            20   \n",
       "15795   Farming-fishing         Husband   White     Male            84   \n",
       "23654   Farming-fishing   Not-in-family   White     Male            60   \n",
       "\n",
       "       native-country  \n",
       "5514    United-States  \n",
       "19777   United-States  \n",
       "10781   United-States  \n",
       "32240   United-States  \n",
       "9876    United-States  \n",
       "...               ...  \n",
       "29802   United-States  \n",
       "5390    United-States  \n",
       "860     United-States  \n",
       "15795   United-States  \n",
       "23654   United-States  \n",
       "\n",
       "[25936 rows x 10 columns]"
      ]
     },
     "execution_count": 331,
     "metadata": {},
     "output_type": "execute_result"
    }
   ],
   "source": [
    "X_clean_train"
   ]
  },
  {
   "cell_type": "code",
   "execution_count": 332,
   "id": "be37d482",
   "metadata": {},
   "outputs": [],
   "source": [
    "y_clean_train = drop_rows(y_clean_train,indices)"
   ]
  },
  {
   "cell_type": "code",
   "execution_count": 333,
   "id": "cefee239",
   "metadata": {},
   "outputs": [
    {
     "name": "stdout",
     "output_type": "stream",
     "text": [
      "40.0 45.0 5.0 32.5 52.5\n"
     ]
    }
   ],
   "source": [
    "outliers1 = detect_outlier(X_clean_train,\"hoursperweek\")"
   ]
  },
  {
   "cell_type": "code",
   "execution_count": 334,
   "id": "bdbd0540",
   "metadata": {},
   "outputs": [],
   "source": [
    "only_na1 = outliers1.index"
   ]
  },
  {
   "cell_type": "code",
   "execution_count": 335,
   "id": "7d13fbf4",
   "metadata": {},
   "outputs": [],
   "source": [
    "X_clean_train,indices = remove(X_clean_train,only_na1)"
   ]
  },
  {
   "cell_type": "code",
   "execution_count": 336,
   "id": "32020006",
   "metadata": {},
   "outputs": [],
   "source": [
    "y_clean_train = drop_rows(y_clean_train,indices)"
   ]
  },
  {
   "cell_type": "code",
   "execution_count": 337,
   "id": "070ba151",
   "metadata": {},
   "outputs": [
    {
     "data": {
      "text/plain": [
       "5514       >50K\n",
       "19777      >50K\n",
       "10781     <=50K\n",
       "32240     <=50K\n",
       "9876      <=50K\n",
       "          ...  \n",
       "22118     <=50K\n",
       "11284      >50K\n",
       "11964      >50K\n",
       "21575     <=50K\n",
       "29802     <=50K\n",
       "Name: class, Length: 18835, dtype: object"
      ]
     },
     "execution_count": 337,
     "metadata": {},
     "output_type": "execute_result"
    }
   ],
   "source": [
    "y_clean_train"
   ]
  },
  {
   "cell_type": "code",
   "execution_count": 338,
   "id": "e4d8f8f1",
   "metadata": {},
   "outputs": [
    {
     "name": "stdout",
     "output_type": "stream",
     "text": [
      "28.0 48.0 20.0 -2.0 78.0\n"
     ]
    }
   ],
   "source": [
    "outliers2 = detect_outlier(X_clean_test,\"age\")"
   ]
  },
  {
   "cell_type": "code",
   "execution_count": 339,
   "id": "30410009",
   "metadata": {},
   "outputs": [],
   "source": [
    "only_na2 = outliers2.index"
   ]
  },
  {
   "cell_type": "code",
   "execution_count": 340,
   "id": "4940e84f",
   "metadata": {},
   "outputs": [],
   "source": [
    "X_clean_test,indices = remove(X_clean_test,only_na2)"
   ]
  },
  {
   "cell_type": "code",
   "execution_count": 341,
   "id": "246e45cf",
   "metadata": {},
   "outputs": [
    {
     "data": {
      "text/html": [
       "<div>\n",
       "<style scoped>\n",
       "    .dataframe tbody tr th:only-of-type {\n",
       "        vertical-align: middle;\n",
       "    }\n",
       "\n",
       "    .dataframe tbody tr th {\n",
       "        vertical-align: top;\n",
       "    }\n",
       "\n",
       "    .dataframe thead th {\n",
       "        text-align: right;\n",
       "    }\n",
       "</style>\n",
       "<table border=\"1\" class=\"dataframe\">\n",
       "  <thead>\n",
       "    <tr style=\"text-align: right;\">\n",
       "      <th></th>\n",
       "      <th>age</th>\n",
       "      <th>workclass</th>\n",
       "      <th>education-num</th>\n",
       "      <th>marital-status</th>\n",
       "      <th>occupation</th>\n",
       "      <th>relationship</th>\n",
       "      <th>race</th>\n",
       "      <th>sex</th>\n",
       "      <th>hoursperweek</th>\n",
       "      <th>native-country</th>\n",
       "    </tr>\n",
       "  </thead>\n",
       "  <tbody>\n",
       "    <tr>\n",
       "      <th>14160</th>\n",
       "      <td>27</td>\n",
       "      <td>Private</td>\n",
       "      <td>10</td>\n",
       "      <td>Divorced</td>\n",
       "      <td>Adm-clerical</td>\n",
       "      <td>Not-in-family</td>\n",
       "      <td>White</td>\n",
       "      <td>Female</td>\n",
       "      <td>38</td>\n",
       "      <td>United-States</td>\n",
       "    </tr>\n",
       "    <tr>\n",
       "      <th>27048</th>\n",
       "      <td>45</td>\n",
       "      <td>State-gov</td>\n",
       "      <td>9</td>\n",
       "      <td>Married-civ-spouse</td>\n",
       "      <td>Exec-managerial</td>\n",
       "      <td>Wife</td>\n",
       "      <td>White</td>\n",
       "      <td>Female</td>\n",
       "      <td>40</td>\n",
       "      <td>United-States</td>\n",
       "    </tr>\n",
       "    <tr>\n",
       "      <th>28868</th>\n",
       "      <td>29</td>\n",
       "      <td>Private</td>\n",
       "      <td>13</td>\n",
       "      <td>Married-civ-spouse</td>\n",
       "      <td>Exec-managerial</td>\n",
       "      <td>Husband</td>\n",
       "      <td>Black</td>\n",
       "      <td>Male</td>\n",
       "      <td>55</td>\n",
       "      <td>United-States</td>\n",
       "    </tr>\n",
       "    <tr>\n",
       "      <th>5667</th>\n",
       "      <td>30</td>\n",
       "      <td>Private</td>\n",
       "      <td>13</td>\n",
       "      <td>Never-married</td>\n",
       "      <td>Machine-op-inspct</td>\n",
       "      <td>Not-in-family</td>\n",
       "      <td>White</td>\n",
       "      <td>Female</td>\n",
       "      <td>40</td>\n",
       "      <td>United-States</td>\n",
       "    </tr>\n",
       "    <tr>\n",
       "      <th>7827</th>\n",
       "      <td>29</td>\n",
       "      <td>Self-emp-not-inc</td>\n",
       "      <td>10</td>\n",
       "      <td>Divorced</td>\n",
       "      <td>Craft-repair</td>\n",
       "      <td>Not-in-family</td>\n",
       "      <td>White</td>\n",
       "      <td>Male</td>\n",
       "      <td>50</td>\n",
       "      <td>United-States</td>\n",
       "    </tr>\n",
       "    <tr>\n",
       "      <th>...</th>\n",
       "      <td>...</td>\n",
       "      <td>...</td>\n",
       "      <td>...</td>\n",
       "      <td>...</td>\n",
       "      <td>...</td>\n",
       "      <td>...</td>\n",
       "      <td>...</td>\n",
       "      <td>...</td>\n",
       "      <td>...</td>\n",
       "      <td>...</td>\n",
       "    </tr>\n",
       "    <tr>\n",
       "      <th>1338</th>\n",
       "      <td>71</td>\n",
       "      <td>Private</td>\n",
       "      <td>13</td>\n",
       "      <td>Divorced</td>\n",
       "      <td>Tech-support</td>\n",
       "      <td>Own-child</td>\n",
       "      <td>White</td>\n",
       "      <td>Female</td>\n",
       "      <td>16</td>\n",
       "      <td>United-States</td>\n",
       "    </tr>\n",
       "    <tr>\n",
       "      <th>24534</th>\n",
       "      <td>55</td>\n",
       "      <td>Local-gov</td>\n",
       "      <td>10</td>\n",
       "      <td>Married-civ-spouse</td>\n",
       "      <td>Prof-specialty</td>\n",
       "      <td>Husband</td>\n",
       "      <td>White</td>\n",
       "      <td>Male</td>\n",
       "      <td>40</td>\n",
       "      <td>United-States</td>\n",
       "    </tr>\n",
       "    <tr>\n",
       "      <th>18080</th>\n",
       "      <td>47</td>\n",
       "      <td>Private</td>\n",
       "      <td>15</td>\n",
       "      <td>Married-civ-spouse</td>\n",
       "      <td>Prof-specialty</td>\n",
       "      <td>Husband</td>\n",
       "      <td>White</td>\n",
       "      <td>Male</td>\n",
       "      <td>48</td>\n",
       "      <td>United-States</td>\n",
       "    </tr>\n",
       "    <tr>\n",
       "      <th>10354</th>\n",
       "      <td>27</td>\n",
       "      <td>Private</td>\n",
       "      <td>13</td>\n",
       "      <td>Never-married</td>\n",
       "      <td>Adm-clerical</td>\n",
       "      <td>Not-in-family</td>\n",
       "      <td>White</td>\n",
       "      <td>Female</td>\n",
       "      <td>40</td>\n",
       "      <td>United-States</td>\n",
       "    </tr>\n",
       "    <tr>\n",
       "      <th>24639</th>\n",
       "      <td>18</td>\n",
       "      <td>Private</td>\n",
       "      <td>9</td>\n",
       "      <td>Never-married</td>\n",
       "      <td>Other-service</td>\n",
       "      <td>Not-in-family</td>\n",
       "      <td>White</td>\n",
       "      <td>Male</td>\n",
       "      <td>25</td>\n",
       "      <td>United-States</td>\n",
       "    </tr>\n",
       "  </tbody>\n",
       "</table>\n",
       "<p>6482 rows × 10 columns</p>\n",
       "</div>"
      ],
      "text/plain": [
       "       age          workclass  education-num       marital-status  \\\n",
       "14160   27            Private             10             Divorced   \n",
       "27048   45          State-gov              9   Married-civ-spouse   \n",
       "28868   29            Private             13   Married-civ-spouse   \n",
       "5667    30            Private             13        Never-married   \n",
       "7827    29   Self-emp-not-inc             10             Divorced   \n",
       "...    ...                ...            ...                  ...   \n",
       "1338    71            Private             13             Divorced   \n",
       "24534   55          Local-gov             10   Married-civ-spouse   \n",
       "18080   47            Private             15   Married-civ-spouse   \n",
       "10354   27            Private             13        Never-married   \n",
       "24639   18            Private              9        Never-married   \n",
       "\n",
       "               occupation    relationship    race      sex  hoursperweek  \\\n",
       "14160        Adm-clerical   Not-in-family   White   Female            38   \n",
       "27048     Exec-managerial            Wife   White   Female            40   \n",
       "28868     Exec-managerial         Husband   Black     Male            55   \n",
       "5667    Machine-op-inspct   Not-in-family   White   Female            40   \n",
       "7827         Craft-repair   Not-in-family   White     Male            50   \n",
       "...                   ...             ...     ...      ...           ...   \n",
       "1338         Tech-support       Own-child   White   Female            16   \n",
       "24534      Prof-specialty         Husband   White     Male            40   \n",
       "18080      Prof-specialty         Husband   White     Male            48   \n",
       "10354        Adm-clerical   Not-in-family   White   Female            40   \n",
       "24639       Other-service   Not-in-family   White     Male            25   \n",
       "\n",
       "       native-country  \n",
       "14160   United-States  \n",
       "27048   United-States  \n",
       "28868   United-States  \n",
       "5667    United-States  \n",
       "7827    United-States  \n",
       "...               ...  \n",
       "1338    United-States  \n",
       "24534   United-States  \n",
       "18080   United-States  \n",
       "10354   United-States  \n",
       "24639   United-States  \n",
       "\n",
       "[6482 rows x 10 columns]"
      ]
     },
     "execution_count": 341,
     "metadata": {},
     "output_type": "execute_result"
    }
   ],
   "source": [
    "X_clean_test"
   ]
  },
  {
   "cell_type": "code",
   "execution_count": 342,
   "id": "00d721ba",
   "metadata": {},
   "outputs": [],
   "source": [
    "y_clean_test = drop_rows(y_clean_test,indices)"
   ]
  },
  {
   "cell_type": "code",
   "execution_count": 343,
   "id": "cc7187b5",
   "metadata": {},
   "outputs": [
    {
     "name": "stdout",
     "output_type": "stream",
     "text": [
      "40.0 45.0 5.0 32.5 52.5\n"
     ]
    }
   ],
   "source": [
    "outliers3 = detect_outlier(X_clean_test,\"hoursperweek\")"
   ]
  },
  {
   "cell_type": "code",
   "execution_count": 344,
   "id": "708362b5",
   "metadata": {},
   "outputs": [],
   "source": [
    "only_na3 = outliers3.index"
   ]
  },
  {
   "cell_type": "code",
   "execution_count": 345,
   "id": "b4460483",
   "metadata": {},
   "outputs": [],
   "source": [
    "X_clean_test,indices = remove(X_clean_test,only_na3)"
   ]
  },
  {
   "cell_type": "code",
   "execution_count": 346,
   "id": "fcbb31a6",
   "metadata": {},
   "outputs": [],
   "source": [
    "y_clean_test = drop_rows(y_clean_test,indices)"
   ]
  },
  {
   "cell_type": "code",
   "execution_count": 347,
   "id": "5fb28dd9",
   "metadata": {},
   "outputs": [
    {
     "data": {
      "text/plain": [
       "14160     <=50K\n",
       "27048     <=50K\n",
       "5667      <=50K\n",
       "7827      <=50K\n",
       "15382      >50K\n",
       "          ...  \n",
       "2862      <=50K\n",
       "14741      >50K\n",
       "24534      >50K\n",
       "18080      >50K\n",
       "10354     <=50K\n",
       "Name: class, Length: 4664, dtype: object"
      ]
     },
     "execution_count": 347,
     "metadata": {},
     "output_type": "execute_result"
    }
   ],
   "source": [
    "y_clean_test"
   ]
  },
  {
   "cell_type": "code",
   "execution_count": 348,
   "id": "1aa828a3",
   "metadata": {
    "scrolled": true
   },
   "outputs": [
    {
     "data": {
      "text/html": [
       "<div>\n",
       "<style scoped>\n",
       "    .dataframe tbody tr th:only-of-type {\n",
       "        vertical-align: middle;\n",
       "    }\n",
       "\n",
       "    .dataframe tbody tr th {\n",
       "        vertical-align: top;\n",
       "    }\n",
       "\n",
       "    .dataframe thead th {\n",
       "        text-align: right;\n",
       "    }\n",
       "</style>\n",
       "<table border=\"1\" class=\"dataframe\">\n",
       "  <thead>\n",
       "    <tr style=\"text-align: right;\">\n",
       "      <th></th>\n",
       "      <th>age</th>\n",
       "      <th>workclass</th>\n",
       "      <th>education-num</th>\n",
       "      <th>marital-status</th>\n",
       "      <th>occupation</th>\n",
       "      <th>relationship</th>\n",
       "      <th>race</th>\n",
       "      <th>sex</th>\n",
       "      <th>hoursperweek</th>\n",
       "      <th>native-country</th>\n",
       "    </tr>\n",
       "  </thead>\n",
       "  <tbody>\n",
       "    <tr>\n",
       "      <th>14160</th>\n",
       "      <td>27</td>\n",
       "      <td>Private</td>\n",
       "      <td>10</td>\n",
       "      <td>Divorced</td>\n",
       "      <td>Adm-clerical</td>\n",
       "      <td>Not-in-family</td>\n",
       "      <td>White</td>\n",
       "      <td>Female</td>\n",
       "      <td>38</td>\n",
       "      <td>United-States</td>\n",
       "    </tr>\n",
       "    <tr>\n",
       "      <th>27048</th>\n",
       "      <td>45</td>\n",
       "      <td>State-gov</td>\n",
       "      <td>9</td>\n",
       "      <td>Married-civ-spouse</td>\n",
       "      <td>Exec-managerial</td>\n",
       "      <td>Wife</td>\n",
       "      <td>White</td>\n",
       "      <td>Female</td>\n",
       "      <td>40</td>\n",
       "      <td>United-States</td>\n",
       "    </tr>\n",
       "    <tr>\n",
       "      <th>5667</th>\n",
       "      <td>30</td>\n",
       "      <td>Private</td>\n",
       "      <td>13</td>\n",
       "      <td>Never-married</td>\n",
       "      <td>Machine-op-inspct</td>\n",
       "      <td>Not-in-family</td>\n",
       "      <td>White</td>\n",
       "      <td>Female</td>\n",
       "      <td>40</td>\n",
       "      <td>United-States</td>\n",
       "    </tr>\n",
       "    <tr>\n",
       "      <th>7827</th>\n",
       "      <td>29</td>\n",
       "      <td>Self-emp-not-inc</td>\n",
       "      <td>10</td>\n",
       "      <td>Divorced</td>\n",
       "      <td>Craft-repair</td>\n",
       "      <td>Not-in-family</td>\n",
       "      <td>White</td>\n",
       "      <td>Male</td>\n",
       "      <td>50</td>\n",
       "      <td>United-States</td>\n",
       "    </tr>\n",
       "    <tr>\n",
       "      <th>15382</th>\n",
       "      <td>51</td>\n",
       "      <td>Private</td>\n",
       "      <td>14</td>\n",
       "      <td>Married-civ-spouse</td>\n",
       "      <td>Prof-specialty</td>\n",
       "      <td>Husband</td>\n",
       "      <td>White</td>\n",
       "      <td>Male</td>\n",
       "      <td>47</td>\n",
       "      <td>United-States</td>\n",
       "    </tr>\n",
       "    <tr>\n",
       "      <th>...</th>\n",
       "      <td>...</td>\n",
       "      <td>...</td>\n",
       "      <td>...</td>\n",
       "      <td>...</td>\n",
       "      <td>...</td>\n",
       "      <td>...</td>\n",
       "      <td>...</td>\n",
       "      <td>...</td>\n",
       "      <td>...</td>\n",
       "      <td>...</td>\n",
       "    </tr>\n",
       "    <tr>\n",
       "      <th>2862</th>\n",
       "      <td>25</td>\n",
       "      <td>Private</td>\n",
       "      <td>8</td>\n",
       "      <td>Never-married</td>\n",
       "      <td>Handlers-cleaners</td>\n",
       "      <td>Unmarried</td>\n",
       "      <td>White</td>\n",
       "      <td>Male</td>\n",
       "      <td>43</td>\n",
       "      <td>United-States</td>\n",
       "    </tr>\n",
       "    <tr>\n",
       "      <th>14741</th>\n",
       "      <td>32</td>\n",
       "      <td>Private</td>\n",
       "      <td>9</td>\n",
       "      <td>Married-civ-spouse</td>\n",
       "      <td>Exec-managerial</td>\n",
       "      <td>Husband</td>\n",
       "      <td>White</td>\n",
       "      <td>Male</td>\n",
       "      <td>40</td>\n",
       "      <td>United-States</td>\n",
       "    </tr>\n",
       "    <tr>\n",
       "      <th>24534</th>\n",
       "      <td>55</td>\n",
       "      <td>Local-gov</td>\n",
       "      <td>10</td>\n",
       "      <td>Married-civ-spouse</td>\n",
       "      <td>Prof-specialty</td>\n",
       "      <td>Husband</td>\n",
       "      <td>White</td>\n",
       "      <td>Male</td>\n",
       "      <td>40</td>\n",
       "      <td>United-States</td>\n",
       "    </tr>\n",
       "    <tr>\n",
       "      <th>18080</th>\n",
       "      <td>47</td>\n",
       "      <td>Private</td>\n",
       "      <td>15</td>\n",
       "      <td>Married-civ-spouse</td>\n",
       "      <td>Prof-specialty</td>\n",
       "      <td>Husband</td>\n",
       "      <td>White</td>\n",
       "      <td>Male</td>\n",
       "      <td>48</td>\n",
       "      <td>United-States</td>\n",
       "    </tr>\n",
       "    <tr>\n",
       "      <th>10354</th>\n",
       "      <td>27</td>\n",
       "      <td>Private</td>\n",
       "      <td>13</td>\n",
       "      <td>Never-married</td>\n",
       "      <td>Adm-clerical</td>\n",
       "      <td>Not-in-family</td>\n",
       "      <td>White</td>\n",
       "      <td>Female</td>\n",
       "      <td>40</td>\n",
       "      <td>United-States</td>\n",
       "    </tr>\n",
       "  </tbody>\n",
       "</table>\n",
       "<p>4664 rows × 10 columns</p>\n",
       "</div>"
      ],
      "text/plain": [
       "       age          workclass  education-num       marital-status  \\\n",
       "14160   27            Private             10             Divorced   \n",
       "27048   45          State-gov              9   Married-civ-spouse   \n",
       "5667    30            Private             13        Never-married   \n",
       "7827    29   Self-emp-not-inc             10             Divorced   \n",
       "15382   51            Private             14   Married-civ-spouse   \n",
       "...    ...                ...            ...                  ...   \n",
       "2862    25            Private              8        Never-married   \n",
       "14741   32            Private              9   Married-civ-spouse   \n",
       "24534   55          Local-gov             10   Married-civ-spouse   \n",
       "18080   47            Private             15   Married-civ-spouse   \n",
       "10354   27            Private             13        Never-married   \n",
       "\n",
       "               occupation    relationship    race      sex  hoursperweek  \\\n",
       "14160        Adm-clerical   Not-in-family   White   Female            38   \n",
       "27048     Exec-managerial            Wife   White   Female            40   \n",
       "5667    Machine-op-inspct   Not-in-family   White   Female            40   \n",
       "7827         Craft-repair   Not-in-family   White     Male            50   \n",
       "15382      Prof-specialty         Husband   White     Male            47   \n",
       "...                   ...             ...     ...      ...           ...   \n",
       "2862    Handlers-cleaners       Unmarried   White     Male            43   \n",
       "14741     Exec-managerial         Husband   White     Male            40   \n",
       "24534      Prof-specialty         Husband   White     Male            40   \n",
       "18080      Prof-specialty         Husband   White     Male            48   \n",
       "10354        Adm-clerical   Not-in-family   White   Female            40   \n",
       "\n",
       "       native-country  \n",
       "14160   United-States  \n",
       "27048   United-States  \n",
       "5667    United-States  \n",
       "7827    United-States  \n",
       "15382   United-States  \n",
       "...               ...  \n",
       "2862    United-States  \n",
       "14741   United-States  \n",
       "24534   United-States  \n",
       "18080   United-States  \n",
       "10354   United-States  \n",
       "\n",
       "[4664 rows x 10 columns]"
      ]
     },
     "execution_count": 348,
     "metadata": {},
     "output_type": "execute_result"
    }
   ],
   "source": [
    "X_clean_test"
   ]
  },
  {
   "cell_type": "code",
   "execution_count": 349,
   "id": "3a156ded",
   "metadata": {},
   "outputs": [],
   "source": [
    "X_clean_train = pd.get_dummies(X_clean_train, columns = ['workclass', 'relationship', 'marital-status', 'occupation', 'race', 'sex', 'native-country'])"
   ]
  },
  {
   "cell_type": "code",
   "execution_count": 350,
   "id": "4515639f",
   "metadata": {},
   "outputs": [],
   "source": [
    "y_clean_train = y_clean_train.astype('category')"
   ]
  },
  {
   "cell_type": "code",
   "execution_count": 351,
   "id": "d42694c3",
   "metadata": {},
   "outputs": [],
   "source": [
    "X_clean_test = pd.get_dummies(X_clean_test, columns = ['workclass', 'relationship', 'marital-status', 'occupation', 'race', 'sex', 'native-country'])"
   ]
  },
  {
   "cell_type": "code",
   "execution_count": 352,
   "id": "4d9da956",
   "metadata": {},
   "outputs": [],
   "source": [
    "y_clean_test = y_clean_test.astype('category')"
   ]
  },
  {
   "cell_type": "code",
   "execution_count": 353,
   "id": "87b54c78",
   "metadata": {},
   "outputs": [
    {
     "data": {
      "text/plain": [
       "Index(['native-country_ Holand-Netherlands',\n",
       "       'native-country_ Outlying-US(Guam-USVI-etc)',\n",
       "       'workclass_ Never-worked'],\n",
       "      dtype='object')"
      ]
     },
     "execution_count": 353,
     "metadata": {},
     "output_type": "execute_result"
    }
   ],
   "source": [
    "X_clean_train.columns.difference(X_clean_test.columns)"
   ]
  },
  {
   "cell_type": "code",
   "execution_count": 354,
   "id": "a173fe54",
   "metadata": {},
   "outputs": [],
   "source": [
    "X_clean_train = X_clean_train.drop(['native-country_ Holand-Netherlands','native-country_ Outlying-US(Guam-USVI-etc)','workclass_ Never-worked' ], axis=1)"
   ]
  },
  {
   "cell_type": "code",
   "execution_count": 355,
   "id": "e5e89385",
   "metadata": {},
   "outputs": [
    {
     "name": "stderr",
     "output_type": "stream",
     "text": [
      "C:\\Users\\sathv\\anaconda3\\lib\\site-packages\\sklearn\\linear_model\\_logistic.py:814: ConvergenceWarning: lbfgs failed to converge (status=1):\n",
      "STOP: TOTAL NO. of ITERATIONS REACHED LIMIT.\n",
      "\n",
      "Increase the number of iterations (max_iter) or scale the data as shown in:\n",
      "    https://scikit-learn.org/stable/modules/preprocessing.html\n",
      "Please also refer to the documentation for alternative solver options:\n",
      "    https://scikit-learn.org/stable/modules/linear_model.html#logistic-regression\n",
      "  n_iter_i = _check_optimize_result(\n"
     ]
    }
   ],
   "source": [
    "clean_model = logistic_regression_train(logisticRegr, X_clean_train, y_clean_train)"
   ]
  },
  {
   "cell_type": "code",
   "execution_count": 356,
   "id": "d9ecdc04",
   "metadata": {},
   "outputs": [],
   "source": [
    "y_clean_pred = logistic_regression_test(logisticRegr, X_clean_test)"
   ]
  },
  {
   "cell_type": "code",
   "execution_count": 357,
   "id": "5558678f",
   "metadata": {},
   "outputs": [
    {
     "data": {
      "text/plain": [
       "array([[0.97264711, 0.02735289],\n",
       "       [0.39155193, 0.60844807],\n",
       "       [0.97652823, 0.02347177],\n",
       "       ...,\n",
       "       [0.40194236, 0.59805764],\n",
       "       [0.12292955, 0.87707045],\n",
       "       [0.96202669, 0.03797331]])"
      ]
     },
     "execution_count": 357,
     "metadata": {},
     "output_type": "execute_result"
    }
   ],
   "source": [
    "y_clean_pred"
   ]
  },
  {
   "cell_type": "code",
   "execution_count": 358,
   "id": "bff2bed5",
   "metadata": {},
   "outputs": [],
   "source": [
    "clean_diff = average_diff(y_clean_pred, X_clean_test)"
   ]
  },
  {
   "cell_type": "code",
   "execution_count": 359,
   "id": "37db4a0c",
   "metadata": {},
   "outputs": [
    {
     "data": {
      "text/plain": [
       "0.1766967826487037"
      ]
     },
     "execution_count": 359,
     "metadata": {},
     "output_type": "execute_result"
    }
   ],
   "source": [
    "clean_diff"
   ]
  },
  {
   "cell_type": "code",
   "execution_count": 360,
   "id": "8d7a63cc",
   "metadata": {},
   "outputs": [],
   "source": [
    "clean_test_score = logisticRegr.score(X_clean_test, y_clean_test)"
   ]
  },
  {
   "cell_type": "code",
   "execution_count": 361,
   "id": "9bfc136c",
   "metadata": {},
   "outputs": [
    {
     "data": {
      "text/plain": [
       "0.823327615780446"
      ]
     },
     "execution_count": 361,
     "metadata": {},
     "output_type": "execute_result"
    }
   ],
   "source": [
    "clean_test_score"
   ]
  },
  {
   "cell_type": "code",
   "execution_count": 362,
   "id": "8a4972a1",
   "metadata": {},
   "outputs": [
    {
     "name": "stdout",
     "output_type": "stream",
     "text": [
      "Method             Test Data        Encoding Technique    ML Model               Accuracy    Fairness\n",
      "-----------------  ---------------  --------------------  -------------------  ----------  ----------\n",
      "Removing Outliers  Dirty test data  One-Hot Encoding      Logistic Regression    0.82819     0.197412\n",
      "Removing Outliers  Clean test data  One-Hot Encoding      Logistic Regression    0.823328    0.176697\n"
     ]
    }
   ],
   "source": [
    "from tabulate import tabulate\n",
    "data = [[\"Removing Outliers\",\"Dirty test data\",\"One-Hot Encoding\", \"Logistic Regression\", dirty_test_score, dirty_diff],\n",
    "[\"Removing Outliers\", \"Clean test data\", \"One-Hot Encoding\", \"Logistic Regression\", clean_test_score, clean_diff]]\n",
    "print (tabulate(data, headers=[\"Method\", \"Test Data\", \"Encoding Technique\", \"ML Model\", \"Accuracy\", \"Fairness\"]))"
   ]
  },
  {
   "cell_type": "code",
   "execution_count": null,
   "id": "82e80d2f",
   "metadata": {},
   "outputs": [],
   "source": []
  }
 ],
 "metadata": {
  "kernelspec": {
   "display_name": "Python 3 (ipykernel)",
   "language": "python",
   "name": "python3"
  },
  "language_info": {
   "codemirror_mode": {
    "name": "ipython",
    "version": 3
   },
   "file_extension": ".py",
   "mimetype": "text/x-python",
   "name": "python",
   "nbconvert_exporter": "python",
   "pygments_lexer": "ipython3",
   "version": "3.9.13"
  }
 },
 "nbformat": 4,
 "nbformat_minor": 5
}
