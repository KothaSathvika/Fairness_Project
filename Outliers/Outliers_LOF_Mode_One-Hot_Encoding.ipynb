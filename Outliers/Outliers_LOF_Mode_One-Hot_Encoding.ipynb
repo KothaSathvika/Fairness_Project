{
 "cells": [
  {
   "cell_type": "code",
   "execution_count": 113,
   "id": "b822a0ab",
   "metadata": {},
   "outputs": [],
   "source": [
    "import pandas as pd\n",
    "import numpy as np\n",
    "from sklearn.model_selection import train_test_split\n",
    "from sklearn.neighbors import LocalOutlierFactor"
   ]
  },
  {
   "cell_type": "code",
   "execution_count": 114,
   "id": "6c95fe01",
   "metadata": {},
   "outputs": [],
   "source": [
    "population = pd.read_csv(r\"C:\\Users\\sathv\\OneDrive\\Desktop\\RDM\\adult.data.csv\")"
   ]
  },
  {
   "cell_type": "code",
   "execution_count": 115,
   "id": "ea2f5807",
   "metadata": {},
   "outputs": [],
   "source": [
    "sample_1 = population"
   ]
  },
  {
   "cell_type": "code",
   "execution_count": 116,
   "id": "1c1fb9ab",
   "metadata": {},
   "outputs": [],
   "source": [
    "X= sample_1[[\"age\",\"workclass\",\"education-num\",\"marital-status\",\"occupation\",\"relationship\",\"race\",\"sex\",\"hoursperweek\",\"native-country\"]]\n",
    "y = sample_1[\"class\"]"
   ]
  },
  {
   "cell_type": "code",
   "execution_count": 117,
   "id": "ef1026b6",
   "metadata": {},
   "outputs": [],
   "source": [
    "X_train, X_test, y_train, y_test = train_test_split(X, y, test_size=0.20, random_state = 42)"
   ]
  },
  {
   "cell_type": "code",
   "execution_count": 118,
   "id": "b9e02fc0",
   "metadata": {
    "scrolled": false
   },
   "outputs": [
    {
     "data": {
      "text/html": [
       "<div>\n",
       "<style scoped>\n",
       "    .dataframe tbody tr th:only-of-type {\n",
       "        vertical-align: middle;\n",
       "    }\n",
       "\n",
       "    .dataframe tbody tr th {\n",
       "        vertical-align: top;\n",
       "    }\n",
       "\n",
       "    .dataframe thead th {\n",
       "        text-align: right;\n",
       "    }\n",
       "</style>\n",
       "<table border=\"1\" class=\"dataframe\">\n",
       "  <thead>\n",
       "    <tr style=\"text-align: right;\">\n",
       "      <th></th>\n",
       "      <th>age</th>\n",
       "      <th>workclass</th>\n",
       "      <th>education-num</th>\n",
       "      <th>marital-status</th>\n",
       "      <th>occupation</th>\n",
       "      <th>relationship</th>\n",
       "      <th>race</th>\n",
       "      <th>sex</th>\n",
       "      <th>hoursperweek</th>\n",
       "      <th>native-country</th>\n",
       "    </tr>\n",
       "  </thead>\n",
       "  <tbody>\n",
       "    <tr>\n",
       "      <th>5514</th>\n",
       "      <td>33</td>\n",
       "      <td>Local-gov</td>\n",
       "      <td>13</td>\n",
       "      <td>Never-married</td>\n",
       "      <td>Prof-specialty</td>\n",
       "      <td>Not-in-family</td>\n",
       "      <td>White</td>\n",
       "      <td>Female</td>\n",
       "      <td>50</td>\n",
       "      <td>United-States</td>\n",
       "    </tr>\n",
       "    <tr>\n",
       "      <th>19777</th>\n",
       "      <td>36</td>\n",
       "      <td>Private</td>\n",
       "      <td>11</td>\n",
       "      <td>Married-civ-spouse</td>\n",
       "      <td>Exec-managerial</td>\n",
       "      <td>Husband</td>\n",
       "      <td>White</td>\n",
       "      <td>Male</td>\n",
       "      <td>50</td>\n",
       "      <td>United-States</td>\n",
       "    </tr>\n",
       "    <tr>\n",
       "      <th>10781</th>\n",
       "      <td>58</td>\n",
       "      <td>Self-emp-not-inc</td>\n",
       "      <td>5</td>\n",
       "      <td>Separated</td>\n",
       "      <td>Craft-repair</td>\n",
       "      <td>Not-in-family</td>\n",
       "      <td>White</td>\n",
       "      <td>Male</td>\n",
       "      <td>40</td>\n",
       "      <td>United-States</td>\n",
       "    </tr>\n",
       "    <tr>\n",
       "      <th>32240</th>\n",
       "      <td>21</td>\n",
       "      <td>Private</td>\n",
       "      <td>11</td>\n",
       "      <td>Married-civ-spouse</td>\n",
       "      <td>Farming-fishing</td>\n",
       "      <td>Husband</td>\n",
       "      <td>White</td>\n",
       "      <td>Male</td>\n",
       "      <td>46</td>\n",
       "      <td>United-States</td>\n",
       "    </tr>\n",
       "    <tr>\n",
       "      <th>9876</th>\n",
       "      <td>27</td>\n",
       "      <td>Private</td>\n",
       "      <td>10</td>\n",
       "      <td>Divorced</td>\n",
       "      <td>Other-service</td>\n",
       "      <td>Not-in-family</td>\n",
       "      <td>White</td>\n",
       "      <td>Male</td>\n",
       "      <td>40</td>\n",
       "      <td>United-States</td>\n",
       "    </tr>\n",
       "    <tr>\n",
       "      <th>...</th>\n",
       "      <td>...</td>\n",
       "      <td>...</td>\n",
       "      <td>...</td>\n",
       "      <td>...</td>\n",
       "      <td>...</td>\n",
       "      <td>...</td>\n",
       "      <td>...</td>\n",
       "      <td>...</td>\n",
       "      <td>...</td>\n",
       "      <td>...</td>\n",
       "    </tr>\n",
       "    <tr>\n",
       "      <th>29802</th>\n",
       "      <td>47</td>\n",
       "      <td>Private</td>\n",
       "      <td>13</td>\n",
       "      <td>Married-civ-spouse</td>\n",
       "      <td>Craft-repair</td>\n",
       "      <td>Husband</td>\n",
       "      <td>White</td>\n",
       "      <td>Male</td>\n",
       "      <td>40</td>\n",
       "      <td>United-States</td>\n",
       "    </tr>\n",
       "    <tr>\n",
       "      <th>5390</th>\n",
       "      <td>31</td>\n",
       "      <td>Private</td>\n",
       "      <td>8</td>\n",
       "      <td>Divorced</td>\n",
       "      <td>Other-service</td>\n",
       "      <td>Unmarried</td>\n",
       "      <td>White</td>\n",
       "      <td>Female</td>\n",
       "      <td>21</td>\n",
       "      <td>United-States</td>\n",
       "    </tr>\n",
       "    <tr>\n",
       "      <th>860</th>\n",
       "      <td>18</td>\n",
       "      <td>Private</td>\n",
       "      <td>7</td>\n",
       "      <td>Never-married</td>\n",
       "      <td>Adm-clerical</td>\n",
       "      <td>Own-child</td>\n",
       "      <td>White</td>\n",
       "      <td>Female</td>\n",
       "      <td>20</td>\n",
       "      <td>United-States</td>\n",
       "    </tr>\n",
       "    <tr>\n",
       "      <th>15795</th>\n",
       "      <td>50</td>\n",
       "      <td>Self-emp-not-inc</td>\n",
       "      <td>9</td>\n",
       "      <td>Married-civ-spouse</td>\n",
       "      <td>Farming-fishing</td>\n",
       "      <td>Husband</td>\n",
       "      <td>White</td>\n",
       "      <td>Male</td>\n",
       "      <td>84</td>\n",
       "      <td>United-States</td>\n",
       "    </tr>\n",
       "    <tr>\n",
       "      <th>23654</th>\n",
       "      <td>34</td>\n",
       "      <td>Self-emp-inc</td>\n",
       "      <td>13</td>\n",
       "      <td>Divorced</td>\n",
       "      <td>Farming-fishing</td>\n",
       "      <td>Not-in-family</td>\n",
       "      <td>White</td>\n",
       "      <td>Male</td>\n",
       "      <td>60</td>\n",
       "      <td>United-States</td>\n",
       "    </tr>\n",
       "  </tbody>\n",
       "</table>\n",
       "<p>26048 rows × 10 columns</p>\n",
       "</div>"
      ],
      "text/plain": [
       "       age          workclass  education-num       marital-status  \\\n",
       "5514    33          Local-gov             13        Never-married   \n",
       "19777   36            Private             11   Married-civ-spouse   \n",
       "10781   58   Self-emp-not-inc              5            Separated   \n",
       "32240   21            Private             11   Married-civ-spouse   \n",
       "9876    27            Private             10             Divorced   \n",
       "...    ...                ...            ...                  ...   \n",
       "29802   47            Private             13   Married-civ-spouse   \n",
       "5390    31            Private              8             Divorced   \n",
       "860     18            Private              7        Never-married   \n",
       "15795   50   Self-emp-not-inc              9   Married-civ-spouse   \n",
       "23654   34       Self-emp-inc             13             Divorced   \n",
       "\n",
       "             occupation    relationship    race      sex  hoursperweek  \\\n",
       "5514     Prof-specialty   Not-in-family   White   Female            50   \n",
       "19777   Exec-managerial         Husband   White     Male            50   \n",
       "10781      Craft-repair   Not-in-family   White     Male            40   \n",
       "32240   Farming-fishing         Husband   White     Male            46   \n",
       "9876      Other-service   Not-in-family   White     Male            40   \n",
       "...                 ...             ...     ...      ...           ...   \n",
       "29802      Craft-repair         Husband   White     Male            40   \n",
       "5390      Other-service       Unmarried   White   Female            21   \n",
       "860        Adm-clerical       Own-child   White   Female            20   \n",
       "15795   Farming-fishing         Husband   White     Male            84   \n",
       "23654   Farming-fishing   Not-in-family   White     Male            60   \n",
       "\n",
       "       native-country  \n",
       "5514    United-States  \n",
       "19777   United-States  \n",
       "10781   United-States  \n",
       "32240   United-States  \n",
       "9876    United-States  \n",
       "...               ...  \n",
       "29802   United-States  \n",
       "5390    United-States  \n",
       "860     United-States  \n",
       "15795   United-States  \n",
       "23654   United-States  \n",
       "\n",
       "[26048 rows x 10 columns]"
      ]
     },
     "execution_count": 118,
     "metadata": {},
     "output_type": "execute_result"
    }
   ],
   "source": [
    "X_train"
   ]
  },
  {
   "cell_type": "code",
   "execution_count": 119,
   "id": "31e6f68b",
   "metadata": {},
   "outputs": [],
   "source": [
    "def detect_outlier(data,col):\n",
    "    only_na = []\n",
    "    new_data = data.copy()\n",
    "    clf = LocalOutlierFactor(n_neighbors=30)\n",
    "    normalized_df = (new_data[col]- new_data[col].mean())/new_data[col].std()\n",
    "    clf.fit_predict(normalized_df.values.reshape(-1,1))\n",
    "    results = clf.negative_outlier_factor_\n",
    "    new_data[\"LOF\"] = results.tolist()\n",
    "    new_data = new_data.query(\"LOF < -1.5\")\n",
    "    for i in new_data.index:\n",
    "        only_na.append(i)\n",
    "    return only_na"
   ]
  },
  {
   "cell_type": "code",
   "execution_count": 120,
   "id": "c63c4a60",
   "metadata": {},
   "outputs": [],
   "source": [
    "def impute(data,col,index):\n",
    "    new_data = data.copy()\n",
    "    mode = new_data[col].mode()\n",
    "    for i in index:\n",
    "        new_data.at[i, col]=mode\n",
    "    return new_data\n",
    "        "
   ]
  },
  {
   "cell_type": "code",
   "execution_count": 121,
   "id": "ab10a4fa",
   "metadata": {},
   "outputs": [],
   "source": [
    "def drop_rows(x,only_na):\n",
    "    new_data = x.copy()\n",
    "    for i in only_na:\n",
    "        new_data.drop(i,inplace=True)\n",
    "\n",
    "    return new_data"
   ]
  },
  {
   "cell_type": "code",
   "execution_count": 122,
   "id": "f3f8ca3c",
   "metadata": {},
   "outputs": [],
   "source": [
    "index= detect_outlier(X_train,\"age\")"
   ]
  },
  {
   "cell_type": "code",
   "execution_count": 123,
   "id": "5e2fa3f1",
   "metadata": {},
   "outputs": [],
   "source": [
    "X_train = impute(X_train,\"age\",index)"
   ]
  },
  {
   "cell_type": "code",
   "execution_count": 124,
   "id": "e3377cf0",
   "metadata": {},
   "outputs": [],
   "source": [
    "index = detect_outlier(X_train,\"hoursperweek\")"
   ]
  },
  {
   "cell_type": "code",
   "execution_count": 125,
   "id": "58f7ae90",
   "metadata": {},
   "outputs": [],
   "source": [
    "X_train = impute(X_train,\"hoursperweek\",index)"
   ]
  },
  {
   "cell_type": "code",
   "execution_count": 126,
   "id": "bcf57f35",
   "metadata": {},
   "outputs": [],
   "source": [
    "X_train = pd.get_dummies(X_train, columns = ['workclass', 'relationship', 'marital-status', 'occupation', 'race', 'sex', 'native-country'])"
   ]
  },
  {
   "cell_type": "code",
   "execution_count": 127,
   "id": "e149acfb",
   "metadata": {},
   "outputs": [
    {
     "name": "stdout",
     "output_type": "stream",
     "text": [
      "<class 'pandas.core.frame.DataFrame'>\n",
      "Int64Index: 26048 entries, 5514 to 23654\n",
      "Data columns (total 89 columns):\n",
      " #   Column                                      Non-Null Count  Dtype\n",
      "---  ------                                      --------------  -----\n",
      " 0   age                                         26048 non-null  int64\n",
      " 1   education-num                               26048 non-null  int64\n",
      " 2   hoursperweek                                26048 non-null  int64\n",
      " 3   workclass_ ?                                26048 non-null  uint8\n",
      " 4   workclass_ Federal-gov                      26048 non-null  uint8\n",
      " 5   workclass_ Local-gov                        26048 non-null  uint8\n",
      " 6   workclass_ Never-worked                     26048 non-null  uint8\n",
      " 7   workclass_ Private                          26048 non-null  uint8\n",
      " 8   workclass_ Self-emp-inc                     26048 non-null  uint8\n",
      " 9   workclass_ Self-emp-not-inc                 26048 non-null  uint8\n",
      " 10  workclass_ State-gov                        26048 non-null  uint8\n",
      " 11  workclass_ Without-pay                      26048 non-null  uint8\n",
      " 12  relationship_ Husband                       26048 non-null  uint8\n",
      " 13  relationship_ Not-in-family                 26048 non-null  uint8\n",
      " 14  relationship_ Other-relative                26048 non-null  uint8\n",
      " 15  relationship_ Own-child                     26048 non-null  uint8\n",
      " 16  relationship_ Unmarried                     26048 non-null  uint8\n",
      " 17  relationship_ Wife                          26048 non-null  uint8\n",
      " 18  marital-status_ Divorced                    26048 non-null  uint8\n",
      " 19  marital-status_ Married-AF-spouse           26048 non-null  uint8\n",
      " 20  marital-status_ Married-civ-spouse          26048 non-null  uint8\n",
      " 21  marital-status_ Married-spouse-absent       26048 non-null  uint8\n",
      " 22  marital-status_ Never-married               26048 non-null  uint8\n",
      " 23  marital-status_ Separated                   26048 non-null  uint8\n",
      " 24  marital-status_ Widowed                     26048 non-null  uint8\n",
      " 25  occupation_ ?                               26048 non-null  uint8\n",
      " 26  occupation_ Adm-clerical                    26048 non-null  uint8\n",
      " 27  occupation_ Armed-Forces                    26048 non-null  uint8\n",
      " 28  occupation_ Craft-repair                    26048 non-null  uint8\n",
      " 29  occupation_ Exec-managerial                 26048 non-null  uint8\n",
      " 30  occupation_ Farming-fishing                 26048 non-null  uint8\n",
      " 31  occupation_ Handlers-cleaners               26048 non-null  uint8\n",
      " 32  occupation_ Machine-op-inspct               26048 non-null  uint8\n",
      " 33  occupation_ Other-service                   26048 non-null  uint8\n",
      " 34  occupation_ Priv-house-serv                 26048 non-null  uint8\n",
      " 35  occupation_ Prof-specialty                  26048 non-null  uint8\n",
      " 36  occupation_ Protective-serv                 26048 non-null  uint8\n",
      " 37  occupation_ Sales                           26048 non-null  uint8\n",
      " 38  occupation_ Tech-support                    26048 non-null  uint8\n",
      " 39  occupation_ Transport-moving                26048 non-null  uint8\n",
      " 40  race_ Amer-Indian-Eskimo                    26048 non-null  uint8\n",
      " 41  race_ Asian-Pac-Islander                    26048 non-null  uint8\n",
      " 42  race_ Black                                 26048 non-null  uint8\n",
      " 43  race_ Other                                 26048 non-null  uint8\n",
      " 44  race_ White                                 26048 non-null  uint8\n",
      " 45  sex_ Female                                 26048 non-null  uint8\n",
      " 46  sex_ Male                                   26048 non-null  uint8\n",
      " 47  native-country_ ?                           26048 non-null  uint8\n",
      " 48  native-country_ Cambodia                    26048 non-null  uint8\n",
      " 49  native-country_ Canada                      26048 non-null  uint8\n",
      " 50  native-country_ China                       26048 non-null  uint8\n",
      " 51  native-country_ Columbia                    26048 non-null  uint8\n",
      " 52  native-country_ Cuba                        26048 non-null  uint8\n",
      " 53  native-country_ Dominican-Republic          26048 non-null  uint8\n",
      " 54  native-country_ Ecuador                     26048 non-null  uint8\n",
      " 55  native-country_ El-Salvador                 26048 non-null  uint8\n",
      " 56  native-country_ England                     26048 non-null  uint8\n",
      " 57  native-country_ France                      26048 non-null  uint8\n",
      " 58  native-country_ Germany                     26048 non-null  uint8\n",
      " 59  native-country_ Greece                      26048 non-null  uint8\n",
      " 60  native-country_ Guatemala                   26048 non-null  uint8\n",
      " 61  native-country_ Haiti                       26048 non-null  uint8\n",
      " 62  native-country_ Holand-Netherlands          26048 non-null  uint8\n",
      " 63  native-country_ Honduras                    26048 non-null  uint8\n",
      " 64  native-country_ Hong                        26048 non-null  uint8\n",
      " 65  native-country_ Hungary                     26048 non-null  uint8\n",
      " 66  native-country_ India                       26048 non-null  uint8\n",
      " 67  native-country_ Iran                        26048 non-null  uint8\n",
      " 68  native-country_ Ireland                     26048 non-null  uint8\n",
      " 69  native-country_ Italy                       26048 non-null  uint8\n",
      " 70  native-country_ Jamaica                     26048 non-null  uint8\n",
      " 71  native-country_ Japan                       26048 non-null  uint8\n",
      " 72  native-country_ Laos                        26048 non-null  uint8\n",
      " 73  native-country_ Mexico                      26048 non-null  uint8\n",
      " 74  native-country_ Nicaragua                   26048 non-null  uint8\n",
      " 75  native-country_ Outlying-US(Guam-USVI-etc)  26048 non-null  uint8\n",
      " 76  native-country_ Peru                        26048 non-null  uint8\n",
      " 77  native-country_ Philippines                 26048 non-null  uint8\n",
      " 78  native-country_ Poland                      26048 non-null  uint8\n",
      " 79  native-country_ Portugal                    26048 non-null  uint8\n",
      " 80  native-country_ Puerto-Rico                 26048 non-null  uint8\n",
      " 81  native-country_ Scotland                    26048 non-null  uint8\n",
      " 82  native-country_ South                       26048 non-null  uint8\n",
      " 83  native-country_ Taiwan                      26048 non-null  uint8\n",
      " 84  native-country_ Thailand                    26048 non-null  uint8\n",
      " 85  native-country_ Trinadad&Tobago             26048 non-null  uint8\n",
      " 86  native-country_ United-States               26048 non-null  uint8\n",
      " 87  native-country_ Vietnam                     26048 non-null  uint8\n",
      " 88  native-country_ Yugoslavia                  26048 non-null  uint8\n",
      "dtypes: int64(3), uint8(86)\n",
      "memory usage: 3.9 MB\n"
     ]
    }
   ],
   "source": [
    "X_train.info()"
   ]
  },
  {
   "cell_type": "code",
   "execution_count": 128,
   "id": "b6a0e07b",
   "metadata": {},
   "outputs": [],
   "source": [
    "y_train = y_train.astype('category')"
   ]
  },
  {
   "cell_type": "code",
   "execution_count": 129,
   "id": "583a99bf",
   "metadata": {},
   "outputs": [],
   "source": [
    "X_test = pd.get_dummies(X_test, columns = ['workclass', 'relationship', 'marital-status', 'occupation', 'race', 'sex', 'native-country'])"
   ]
  },
  {
   "cell_type": "code",
   "execution_count": 130,
   "id": "ace4f98e",
   "metadata": {},
   "outputs": [
    {
     "name": "stdout",
     "output_type": "stream",
     "text": [
      "<class 'pandas.core.frame.DataFrame'>\n",
      "Int64Index: 6513 entries, 14160 to 24639\n",
      "Data columns (total 86 columns):\n",
      " #   Column                                 Non-Null Count  Dtype\n",
      "---  ------                                 --------------  -----\n",
      " 0   age                                    6513 non-null   int64\n",
      " 1   education-num                          6513 non-null   int64\n",
      " 2   hoursperweek                           6513 non-null   int64\n",
      " 3   workclass_ ?                           6513 non-null   uint8\n",
      " 4   workclass_ Federal-gov                 6513 non-null   uint8\n",
      " 5   workclass_ Local-gov                   6513 non-null   uint8\n",
      " 6   workclass_ Private                     6513 non-null   uint8\n",
      " 7   workclass_ Self-emp-inc                6513 non-null   uint8\n",
      " 8   workclass_ Self-emp-not-inc            6513 non-null   uint8\n",
      " 9   workclass_ State-gov                   6513 non-null   uint8\n",
      " 10  workclass_ Without-pay                 6513 non-null   uint8\n",
      " 11  relationship_ Husband                  6513 non-null   uint8\n",
      " 12  relationship_ Not-in-family            6513 non-null   uint8\n",
      " 13  relationship_ Other-relative           6513 non-null   uint8\n",
      " 14  relationship_ Own-child                6513 non-null   uint8\n",
      " 15  relationship_ Unmarried                6513 non-null   uint8\n",
      " 16  relationship_ Wife                     6513 non-null   uint8\n",
      " 17  marital-status_ Divorced               6513 non-null   uint8\n",
      " 18  marital-status_ Married-AF-spouse      6513 non-null   uint8\n",
      " 19  marital-status_ Married-civ-spouse     6513 non-null   uint8\n",
      " 20  marital-status_ Married-spouse-absent  6513 non-null   uint8\n",
      " 21  marital-status_ Never-married          6513 non-null   uint8\n",
      " 22  marital-status_ Separated              6513 non-null   uint8\n",
      " 23  marital-status_ Widowed                6513 non-null   uint8\n",
      " 24  occupation_ ?                          6513 non-null   uint8\n",
      " 25  occupation_ Adm-clerical               6513 non-null   uint8\n",
      " 26  occupation_ Armed-Forces               6513 non-null   uint8\n",
      " 27  occupation_ Craft-repair               6513 non-null   uint8\n",
      " 28  occupation_ Exec-managerial            6513 non-null   uint8\n",
      " 29  occupation_ Farming-fishing            6513 non-null   uint8\n",
      " 30  occupation_ Handlers-cleaners          6513 non-null   uint8\n",
      " 31  occupation_ Machine-op-inspct          6513 non-null   uint8\n",
      " 32  occupation_ Other-service              6513 non-null   uint8\n",
      " 33  occupation_ Priv-house-serv            6513 non-null   uint8\n",
      " 34  occupation_ Prof-specialty             6513 non-null   uint8\n",
      " 35  occupation_ Protective-serv            6513 non-null   uint8\n",
      " 36  occupation_ Sales                      6513 non-null   uint8\n",
      " 37  occupation_ Tech-support               6513 non-null   uint8\n",
      " 38  occupation_ Transport-moving           6513 non-null   uint8\n",
      " 39  race_ Amer-Indian-Eskimo               6513 non-null   uint8\n",
      " 40  race_ Asian-Pac-Islander               6513 non-null   uint8\n",
      " 41  race_ Black                            6513 non-null   uint8\n",
      " 42  race_ Other                            6513 non-null   uint8\n",
      " 43  race_ White                            6513 non-null   uint8\n",
      " 44  sex_ Female                            6513 non-null   uint8\n",
      " 45  sex_ Male                              6513 non-null   uint8\n",
      " 46  native-country_ ?                      6513 non-null   uint8\n",
      " 47  native-country_ Cambodia               6513 non-null   uint8\n",
      " 48  native-country_ Canada                 6513 non-null   uint8\n",
      " 49  native-country_ China                  6513 non-null   uint8\n",
      " 50  native-country_ Columbia               6513 non-null   uint8\n",
      " 51  native-country_ Cuba                   6513 non-null   uint8\n",
      " 52  native-country_ Dominican-Republic     6513 non-null   uint8\n",
      " 53  native-country_ Ecuador                6513 non-null   uint8\n",
      " 54  native-country_ El-Salvador            6513 non-null   uint8\n",
      " 55  native-country_ England                6513 non-null   uint8\n",
      " 56  native-country_ France                 6513 non-null   uint8\n",
      " 57  native-country_ Germany                6513 non-null   uint8\n",
      " 58  native-country_ Greece                 6513 non-null   uint8\n",
      " 59  native-country_ Guatemala              6513 non-null   uint8\n",
      " 60  native-country_ Haiti                  6513 non-null   uint8\n",
      " 61  native-country_ Honduras               6513 non-null   uint8\n",
      " 62  native-country_ Hong                   6513 non-null   uint8\n",
      " 63  native-country_ Hungary                6513 non-null   uint8\n",
      " 64  native-country_ India                  6513 non-null   uint8\n",
      " 65  native-country_ Iran                   6513 non-null   uint8\n",
      " 66  native-country_ Ireland                6513 non-null   uint8\n",
      " 67  native-country_ Italy                  6513 non-null   uint8\n",
      " 68  native-country_ Jamaica                6513 non-null   uint8\n",
      " 69  native-country_ Japan                  6513 non-null   uint8\n",
      " 70  native-country_ Laos                   6513 non-null   uint8\n",
      " 71  native-country_ Mexico                 6513 non-null   uint8\n",
      " 72  native-country_ Nicaragua              6513 non-null   uint8\n",
      " 73  native-country_ Peru                   6513 non-null   uint8\n",
      " 74  native-country_ Philippines            6513 non-null   uint8\n",
      " 75  native-country_ Poland                 6513 non-null   uint8\n",
      " 76  native-country_ Portugal               6513 non-null   uint8\n",
      " 77  native-country_ Puerto-Rico            6513 non-null   uint8\n",
      " 78  native-country_ Scotland               6513 non-null   uint8\n",
      " 79  native-country_ South                  6513 non-null   uint8\n",
      " 80  native-country_ Taiwan                 6513 non-null   uint8\n",
      " 81  native-country_ Thailand               6513 non-null   uint8\n",
      " 82  native-country_ Trinadad&Tobago        6513 non-null   uint8\n",
      " 83  native-country_ United-States          6513 non-null   uint8\n",
      " 84  native-country_ Vietnam                6513 non-null   uint8\n",
      " 85  native-country_ Yugoslavia             6513 non-null   uint8\n",
      "dtypes: int64(3), uint8(83)\n",
      "memory usage: 731.4 KB\n"
     ]
    }
   ],
   "source": [
    "X_test.info()"
   ]
  },
  {
   "cell_type": "code",
   "execution_count": 131,
   "id": "d3c0c53b",
   "metadata": {},
   "outputs": [
    {
     "data": {
      "text/plain": [
       "Index(['native-country_ Holand-Netherlands',\n",
       "       'native-country_ Outlying-US(Guam-USVI-etc)',\n",
       "       'workclass_ Never-worked'],\n",
       "      dtype='object')"
      ]
     },
     "execution_count": 131,
     "metadata": {},
     "output_type": "execute_result"
    }
   ],
   "source": [
    "X_train.columns.difference(X_test.columns)"
   ]
  },
  {
   "cell_type": "code",
   "execution_count": 132,
   "id": "23060489",
   "metadata": {},
   "outputs": [
    {
     "data": {
      "text/plain": [
       "5514     0\n",
       "19777    0\n",
       "10781    0\n",
       "32240    0\n",
       "9876     0\n",
       "        ..\n",
       "29802    0\n",
       "5390     0\n",
       "860      0\n",
       "15795    0\n",
       "23654    0\n",
       "Name: workclass_ Never-worked, Length: 26048, dtype: uint8"
      ]
     },
     "execution_count": 132,
     "metadata": {},
     "output_type": "execute_result"
    }
   ],
   "source": [
    "X_train[\"workclass_ Never-worked\"]"
   ]
  },
  {
   "cell_type": "code",
   "execution_count": 133,
   "id": "1705a6e1",
   "metadata": {},
   "outputs": [],
   "source": [
    "# X_test[\"workclass_Never-worked \"].drop\n",
    "X_train = X_train.drop(['workclass_ Never-worked'], axis=1)"
   ]
  },
  {
   "cell_type": "code",
   "execution_count": 134,
   "id": "e16b3b85",
   "metadata": {},
   "outputs": [],
   "source": [
    "X_train = X_train.drop(['native-country_ Holand-Netherlands'], axis=1)"
   ]
  },
  {
   "cell_type": "code",
   "execution_count": 135,
   "id": "db8bd090",
   "metadata": {},
   "outputs": [],
   "source": [
    "X_train = X_train.drop(['native-country_ Outlying-US(Guam-USVI-etc)'], axis=1)"
   ]
  },
  {
   "cell_type": "code",
   "execution_count": 136,
   "id": "dc25943a",
   "metadata": {},
   "outputs": [],
   "source": [
    "y_test = y_test.astype('category')"
   ]
  },
  {
   "cell_type": "code",
   "execution_count": 137,
   "id": "2589eb22",
   "metadata": {},
   "outputs": [],
   "source": [
    "from sklearn.linear_model import LogisticRegression\n",
    "from sklearn.metrics import confusion_matrix\n",
    "logisticRegr = LogisticRegression()"
   ]
  },
  {
   "cell_type": "code",
   "execution_count": 138,
   "id": "85e7ab8e",
   "metadata": {},
   "outputs": [],
   "source": [
    "def logistic_regression_train(logisticRegr,x,y):\n",
    "    logisticRegr.fit(x,y)\n",
    "def logistic_regression_test(logisticRegr,x):\n",
    "    y_pred = logisticRegr.predict_proba(x)\n",
    "    return y_pred\n",
    "def logistic_regression_pred_test(logisticRegr,x):\n",
    "    y_pred_test = logisticRegr.predict(x)\n",
    "    return y_pred_test\n",
    "\n",
    "def average_diff(y_pred, X_test):\n",
    "    column_i = y_pred.T[0]\n",
    "    X_test_copy = X_test.copy()\n",
    "    X_test_copy['preds'] = column_i\n",
    "    Female = X_test_copy[\"preds\"][X_test_copy[\"sex_ Female\"]== 1]\n",
    "    female_average = sum(Female)/len(Female)\n",
    "    male = X_test_copy[\"preds\"][X_test_copy[\"sex_ Male\"] == 1]\n",
    "    male_average = sum(male)/len(male)\n",
    "    diff = (female_average - male_average)\n",
    "    return diff \n",
    "\n",
    "def accuracy(y_test, y_pred_final):\n",
    "#     y_pred_final = np.argmax(y_pred, axis=1)\n",
    "    tn, fp, fn, tp = confusion_matrix(y_test, y_pred_final).ravel()\n",
    "    true_positive  = tn\n",
    "    false_positive = fn\n",
    "    true_negative  = tp\n",
    "    false_negative = fp\n",
    "    accuracy = (true_positive + true_negative) / (true_negative + true_positive + false_positive + false_negative )\n",
    "    return(accuracy)\n",
    "    \n",
    "    "
   ]
  },
  {
   "cell_type": "code",
   "execution_count": 139,
   "id": "0c2c3245",
   "metadata": {},
   "outputs": [
    {
     "name": "stderr",
     "output_type": "stream",
     "text": [
      "C:\\Users\\sathv\\anaconda3\\lib\\site-packages\\sklearn\\linear_model\\_logistic.py:814: ConvergenceWarning: lbfgs failed to converge (status=1):\n",
      "STOP: TOTAL NO. of ITERATIONS REACHED LIMIT.\n",
      "\n",
      "Increase the number of iterations (max_iter) or scale the data as shown in:\n",
      "    https://scikit-learn.org/stable/modules/preprocessing.html\n",
      "Please also refer to the documentation for alternative solver options:\n",
      "    https://scikit-learn.org/stable/modules/linear_model.html#logistic-regression\n",
      "  n_iter_i = _check_optimize_result(\n"
     ]
    }
   ],
   "source": [
    "model = logistic_regression_train(logisticRegr, X_train, y_train)"
   ]
  },
  {
   "cell_type": "code",
   "execution_count": 140,
   "id": "f314eabd",
   "metadata": {},
   "outputs": [],
   "source": [
    "y_pred = logistic_regression_test(logisticRegr, X_test)"
   ]
  },
  {
   "cell_type": "code",
   "execution_count": 141,
   "id": "c4a8b553",
   "metadata": {},
   "outputs": [
    {
     "data": {
      "text/plain": [
       "array([[0.97174508, 0.02825492],\n",
       "       [0.46430759, 0.53569241],\n",
       "       [0.22980319, 0.77019681],\n",
       "       ...,\n",
       "       [0.13975102, 0.86024898],\n",
       "       [0.95560919, 0.04439081],\n",
       "       [0.99385381, 0.00614619]])"
      ]
     },
     "execution_count": 141,
     "metadata": {},
     "output_type": "execute_result"
    }
   ],
   "source": [
    "y_pred"
   ]
  },
  {
   "cell_type": "code",
   "execution_count": 142,
   "id": "e4be0875",
   "metadata": {},
   "outputs": [],
   "source": [
    "dirty_diff = average_diff(y_pred, X_test)"
   ]
  },
  {
   "cell_type": "code",
   "execution_count": 143,
   "id": "e51b2dea",
   "metadata": {},
   "outputs": [
    {
     "data": {
      "text/plain": [
       "0.18883654232056923"
      ]
     },
     "execution_count": 143,
     "metadata": {},
     "output_type": "execute_result"
    }
   ],
   "source": [
    "dirty_diff"
   ]
  },
  {
   "cell_type": "code",
   "execution_count": 144,
   "id": "aa104f6e",
   "metadata": {},
   "outputs": [],
   "source": [
    "dirty_test_score = logisticRegr.score(X_test, y_test)"
   ]
  },
  {
   "cell_type": "code",
   "execution_count": 145,
   "id": "f3c7e204",
   "metadata": {},
   "outputs": [
    {
     "data": {
      "text/plain": [
       "0.8334101028711807"
      ]
     },
     "execution_count": 145,
     "metadata": {},
     "output_type": "execute_result"
    }
   ],
   "source": [
    "dirty_test_score"
   ]
  },
  {
   "cell_type": "code",
   "execution_count": 146,
   "id": "9577a752",
   "metadata": {},
   "outputs": [],
   "source": [
    "X_clean_train, X_clean_test, y_clean_train, y_clean_test = train_test_split(X, y, test_size=0.20, random_state = 42)"
   ]
  },
  {
   "cell_type": "code",
   "execution_count": 147,
   "id": "66199a3d",
   "metadata": {},
   "outputs": [],
   "source": [
    "index = detect_outlier(X_clean_train,\"age\")\n",
    "X_clean_train = impute(X_clean_train,\"age\",index)\n",
    "index = detect_outlier(X_clean_train,\"hoursperweek\")\n",
    "X_clean_train = impute(X_clean_train,\"hoursperweek\",index)"
   ]
  },
  {
   "cell_type": "code",
   "execution_count": 148,
   "id": "f6c8a065",
   "metadata": {},
   "outputs": [],
   "source": [
    "index= detect_outlier(X_clean_test,\"age\")\n",
    "X_clean_test = impute(X_clean_test,\"age\",index)\n",
    "index = detect_outlier(X_clean_test,\"hoursperweek\")\n",
    "X_clean_test = impute(X_clean_test,\"hoursperweek\",index)"
   ]
  },
  {
   "cell_type": "code",
   "execution_count": 149,
   "id": "3a156ded",
   "metadata": {},
   "outputs": [],
   "source": [
    "X_clean_train = pd.get_dummies(X_clean_train, columns = ['workclass', 'relationship', 'marital-status', 'occupation', 'race', 'sex', 'native-country'])"
   ]
  },
  {
   "cell_type": "code",
   "execution_count": 150,
   "id": "4515639f",
   "metadata": {},
   "outputs": [],
   "source": [
    "y_clean_train = y_clean_train.astype('category')"
   ]
  },
  {
   "cell_type": "code",
   "execution_count": 151,
   "id": "d42694c3",
   "metadata": {},
   "outputs": [],
   "source": [
    "X_clean_test = pd.get_dummies(X_clean_test, columns = ['workclass', 'relationship', 'marital-status', 'occupation', 'race', 'sex', 'native-country'])"
   ]
  },
  {
   "cell_type": "code",
   "execution_count": 152,
   "id": "4d9da956",
   "metadata": {},
   "outputs": [],
   "source": [
    "y_clean_test = y_clean_test.astype('category')"
   ]
  },
  {
   "cell_type": "code",
   "execution_count": 153,
   "id": "87b54c78",
   "metadata": {},
   "outputs": [
    {
     "data": {
      "text/plain": [
       "Index(['native-country_ Holand-Netherlands',\n",
       "       'native-country_ Outlying-US(Guam-USVI-etc)',\n",
       "       'workclass_ Never-worked'],\n",
       "      dtype='object')"
      ]
     },
     "execution_count": 153,
     "metadata": {},
     "output_type": "execute_result"
    }
   ],
   "source": [
    "X_clean_train.columns.difference(X_clean_test.columns)"
   ]
  },
  {
   "cell_type": "code",
   "execution_count": 154,
   "id": "a173fe54",
   "metadata": {},
   "outputs": [],
   "source": [
    "X_clean_train = X_clean_train.drop(['native-country_ Holand-Netherlands','native-country_ Outlying-US(Guam-USVI-etc)','workclass_ Never-worked' ], axis=1)"
   ]
  },
  {
   "cell_type": "code",
   "execution_count": 155,
   "id": "e5e89385",
   "metadata": {},
   "outputs": [
    {
     "name": "stderr",
     "output_type": "stream",
     "text": [
      "C:\\Users\\sathv\\anaconda3\\lib\\site-packages\\sklearn\\linear_model\\_logistic.py:814: ConvergenceWarning: lbfgs failed to converge (status=1):\n",
      "STOP: TOTAL NO. of ITERATIONS REACHED LIMIT.\n",
      "\n",
      "Increase the number of iterations (max_iter) or scale the data as shown in:\n",
      "    https://scikit-learn.org/stable/modules/preprocessing.html\n",
      "Please also refer to the documentation for alternative solver options:\n",
      "    https://scikit-learn.org/stable/modules/linear_model.html#logistic-regression\n",
      "  n_iter_i = _check_optimize_result(\n"
     ]
    }
   ],
   "source": [
    "clean_model = logistic_regression_train(logisticRegr, X_clean_train, y_clean_train)"
   ]
  },
  {
   "cell_type": "code",
   "execution_count": 156,
   "id": "d9ecdc04",
   "metadata": {},
   "outputs": [],
   "source": [
    "y_clean_pred = logistic_regression_test(logisticRegr, X_clean_test)"
   ]
  },
  {
   "cell_type": "code",
   "execution_count": 157,
   "id": "5558678f",
   "metadata": {},
   "outputs": [
    {
     "data": {
      "text/plain": [
       "array([[0.97174508, 0.02825492],\n",
       "       [0.46430759, 0.53569241],\n",
       "       [0.22980319, 0.77019681],\n",
       "       ...,\n",
       "       [0.13975102, 0.86024898],\n",
       "       [0.95560919, 0.04439081],\n",
       "       [0.99385381, 0.00614619]])"
      ]
     },
     "execution_count": 157,
     "metadata": {},
     "output_type": "execute_result"
    }
   ],
   "source": [
    "y_clean_pred"
   ]
  },
  {
   "cell_type": "code",
   "execution_count": 158,
   "id": "bff2bed5",
   "metadata": {},
   "outputs": [],
   "source": [
    "clean_diff = average_diff(y_clean_pred, X_clean_test)"
   ]
  },
  {
   "cell_type": "code",
   "execution_count": 159,
   "id": "37db4a0c",
   "metadata": {},
   "outputs": [
    {
     "data": {
      "text/plain": [
       "0.1865727948664242"
      ]
     },
     "execution_count": 159,
     "metadata": {},
     "output_type": "execute_result"
    }
   ],
   "source": [
    "clean_diff"
   ]
  },
  {
   "cell_type": "code",
   "execution_count": 160,
   "id": "8d7a63cc",
   "metadata": {},
   "outputs": [],
   "source": [
    "clean_test_score = logisticRegr.score(X_clean_test, y_clean_test)"
   ]
  },
  {
   "cell_type": "code",
   "execution_count": 161,
   "id": "9bfc136c",
   "metadata": {},
   "outputs": [
    {
     "data": {
      "text/plain": [
       "0.8334101028711807"
      ]
     },
     "execution_count": 161,
     "metadata": {},
     "output_type": "execute_result"
    }
   ],
   "source": [
    "clean_test_score"
   ]
  },
  {
   "cell_type": "code",
   "execution_count": 162,
   "id": "8a4972a1",
   "metadata": {},
   "outputs": [
    {
     "name": "stdout",
     "output_type": "stream",
     "text": [
      "Detect Method         Method          Test Data        Encoding Technique    ML Model               Accuracy    Fairness\n",
      "--------------------  --------------  ---------------  --------------------  -------------------  ----------  ----------\n",
      "Local Outlier Factor  Impute by mode  Dirty test data  One-Hot Encoding      Logistic Regression     0.83341    0.188837\n",
      "Local Outlier Factor  Impute by mode  Clean test data  One-Hot Encoding      Logistic Regression     0.83341    0.186573\n"
     ]
    }
   ],
   "source": [
    "from tabulate import tabulate\n",
    "data = [[\"Local Outlier Factor\",\"Impute by mode\",\"Dirty test data\",\"One-Hot Encoding\", \"Logistic Regression\", dirty_test_score, dirty_diff],\n",
    "[\"Local Outlier Factor\",\"Impute by mode\", \"Clean test data\", \"One-Hot Encoding\", \"Logistic Regression\", clean_test_score, clean_diff]]\n",
    "print (tabulate(data, headers=[\"Detect Method\",\"Method\", \"Test Data\", \"Encoding Technique\", \"ML Model\", \"Accuracy\", \"Fairness\"]))"
   ]
  }
 ],
 "metadata": {
  "kernelspec": {
   "display_name": "Python 3 (ipykernel)",
   "language": "python",
   "name": "python3"
  },
  "language_info": {
   "codemirror_mode": {
    "name": "ipython",
    "version": 3
   },
   "file_extension": ".py",
   "mimetype": "text/x-python",
   "name": "python",
   "nbconvert_exporter": "python",
   "pygments_lexer": "ipython3",
   "version": "3.9.13"
  }
 },
 "nbformat": 4,
 "nbformat_minor": 5
}
