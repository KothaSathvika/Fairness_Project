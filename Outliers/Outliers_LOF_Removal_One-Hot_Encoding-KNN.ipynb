{
 "cells": [
  {
   "cell_type": "code",
   "execution_count": 1,
   "id": "b822a0ab",
   "metadata": {},
   "outputs": [],
   "source": [
    "import pandas as pd\n",
    "import numpy as np\n",
    "from sklearn.model_selection import train_test_split\n",
    "from sklearn.neighbors import LocalOutlierFactor"
   ]
  },
  {
   "cell_type": "code",
   "execution_count": 2,
   "id": "6c95fe01",
   "metadata": {},
   "outputs": [],
   "source": [
    "population = pd.read_csv(r\"C:\\Users\\sathv\\OneDrive\\Desktop\\RDM\\adult.data.csv\")"
   ]
  },
  {
   "cell_type": "code",
   "execution_count": 3,
   "id": "ea2f5807",
   "metadata": {},
   "outputs": [],
   "source": [
    "sample_1 = population"
   ]
  },
  {
   "cell_type": "code",
   "execution_count": 4,
   "id": "1c1fb9ab",
   "metadata": {},
   "outputs": [],
   "source": [
    "X= sample_1[[\"age\",\"workclass\",\"education-num\",\"marital-status\",\"occupation\",\"relationship\",\"race\",\"sex\",\"hoursperweek\",\"native-country\"]]\n",
    "y = sample_1[\"class\"]"
   ]
  },
  {
   "cell_type": "code",
   "execution_count": 5,
   "id": "ef1026b6",
   "metadata": {},
   "outputs": [],
   "source": [
    "X_train, X_test, y_train, y_test = train_test_split(X, y, test_size=0.20, random_state = 42)"
   ]
  },
  {
   "cell_type": "code",
   "execution_count": 6,
   "id": "b9e02fc0",
   "metadata": {
    "scrolled": false
   },
   "outputs": [
    {
     "data": {
      "text/html": [
       "<div>\n",
       "<style scoped>\n",
       "    .dataframe tbody tr th:only-of-type {\n",
       "        vertical-align: middle;\n",
       "    }\n",
       "\n",
       "    .dataframe tbody tr th {\n",
       "        vertical-align: top;\n",
       "    }\n",
       "\n",
       "    .dataframe thead th {\n",
       "        text-align: right;\n",
       "    }\n",
       "</style>\n",
       "<table border=\"1\" class=\"dataframe\">\n",
       "  <thead>\n",
       "    <tr style=\"text-align: right;\">\n",
       "      <th></th>\n",
       "      <th>age</th>\n",
       "      <th>workclass</th>\n",
       "      <th>education-num</th>\n",
       "      <th>marital-status</th>\n",
       "      <th>occupation</th>\n",
       "      <th>relationship</th>\n",
       "      <th>race</th>\n",
       "      <th>sex</th>\n",
       "      <th>hoursperweek</th>\n",
       "      <th>native-country</th>\n",
       "    </tr>\n",
       "  </thead>\n",
       "  <tbody>\n",
       "    <tr>\n",
       "      <th>5514</th>\n",
       "      <td>33</td>\n",
       "      <td>Local-gov</td>\n",
       "      <td>13</td>\n",
       "      <td>Never-married</td>\n",
       "      <td>Prof-specialty</td>\n",
       "      <td>Not-in-family</td>\n",
       "      <td>White</td>\n",
       "      <td>Female</td>\n",
       "      <td>50</td>\n",
       "      <td>United-States</td>\n",
       "    </tr>\n",
       "    <tr>\n",
       "      <th>19777</th>\n",
       "      <td>36</td>\n",
       "      <td>Private</td>\n",
       "      <td>11</td>\n",
       "      <td>Married-civ-spouse</td>\n",
       "      <td>Exec-managerial</td>\n",
       "      <td>Husband</td>\n",
       "      <td>White</td>\n",
       "      <td>Male</td>\n",
       "      <td>50</td>\n",
       "      <td>United-States</td>\n",
       "    </tr>\n",
       "    <tr>\n",
       "      <th>10781</th>\n",
       "      <td>58</td>\n",
       "      <td>Self-emp-not-inc</td>\n",
       "      <td>5</td>\n",
       "      <td>Separated</td>\n",
       "      <td>Craft-repair</td>\n",
       "      <td>Not-in-family</td>\n",
       "      <td>White</td>\n",
       "      <td>Male</td>\n",
       "      <td>40</td>\n",
       "      <td>United-States</td>\n",
       "    </tr>\n",
       "    <tr>\n",
       "      <th>32240</th>\n",
       "      <td>21</td>\n",
       "      <td>Private</td>\n",
       "      <td>11</td>\n",
       "      <td>Married-civ-spouse</td>\n",
       "      <td>Farming-fishing</td>\n",
       "      <td>Husband</td>\n",
       "      <td>White</td>\n",
       "      <td>Male</td>\n",
       "      <td>46</td>\n",
       "      <td>United-States</td>\n",
       "    </tr>\n",
       "    <tr>\n",
       "      <th>9876</th>\n",
       "      <td>27</td>\n",
       "      <td>Private</td>\n",
       "      <td>10</td>\n",
       "      <td>Divorced</td>\n",
       "      <td>Other-service</td>\n",
       "      <td>Not-in-family</td>\n",
       "      <td>White</td>\n",
       "      <td>Male</td>\n",
       "      <td>40</td>\n",
       "      <td>United-States</td>\n",
       "    </tr>\n",
       "    <tr>\n",
       "      <th>...</th>\n",
       "      <td>...</td>\n",
       "      <td>...</td>\n",
       "      <td>...</td>\n",
       "      <td>...</td>\n",
       "      <td>...</td>\n",
       "      <td>...</td>\n",
       "      <td>...</td>\n",
       "      <td>...</td>\n",
       "      <td>...</td>\n",
       "      <td>...</td>\n",
       "    </tr>\n",
       "    <tr>\n",
       "      <th>29802</th>\n",
       "      <td>47</td>\n",
       "      <td>Private</td>\n",
       "      <td>13</td>\n",
       "      <td>Married-civ-spouse</td>\n",
       "      <td>Craft-repair</td>\n",
       "      <td>Husband</td>\n",
       "      <td>White</td>\n",
       "      <td>Male</td>\n",
       "      <td>40</td>\n",
       "      <td>United-States</td>\n",
       "    </tr>\n",
       "    <tr>\n",
       "      <th>5390</th>\n",
       "      <td>31</td>\n",
       "      <td>Private</td>\n",
       "      <td>8</td>\n",
       "      <td>Divorced</td>\n",
       "      <td>Other-service</td>\n",
       "      <td>Unmarried</td>\n",
       "      <td>White</td>\n",
       "      <td>Female</td>\n",
       "      <td>21</td>\n",
       "      <td>United-States</td>\n",
       "    </tr>\n",
       "    <tr>\n",
       "      <th>860</th>\n",
       "      <td>18</td>\n",
       "      <td>Private</td>\n",
       "      <td>7</td>\n",
       "      <td>Never-married</td>\n",
       "      <td>Adm-clerical</td>\n",
       "      <td>Own-child</td>\n",
       "      <td>White</td>\n",
       "      <td>Female</td>\n",
       "      <td>20</td>\n",
       "      <td>United-States</td>\n",
       "    </tr>\n",
       "    <tr>\n",
       "      <th>15795</th>\n",
       "      <td>50</td>\n",
       "      <td>Self-emp-not-inc</td>\n",
       "      <td>9</td>\n",
       "      <td>Married-civ-spouse</td>\n",
       "      <td>Farming-fishing</td>\n",
       "      <td>Husband</td>\n",
       "      <td>White</td>\n",
       "      <td>Male</td>\n",
       "      <td>84</td>\n",
       "      <td>United-States</td>\n",
       "    </tr>\n",
       "    <tr>\n",
       "      <th>23654</th>\n",
       "      <td>34</td>\n",
       "      <td>Self-emp-inc</td>\n",
       "      <td>13</td>\n",
       "      <td>Divorced</td>\n",
       "      <td>Farming-fishing</td>\n",
       "      <td>Not-in-family</td>\n",
       "      <td>White</td>\n",
       "      <td>Male</td>\n",
       "      <td>60</td>\n",
       "      <td>United-States</td>\n",
       "    </tr>\n",
       "  </tbody>\n",
       "</table>\n",
       "<p>26048 rows × 10 columns</p>\n",
       "</div>"
      ],
      "text/plain": [
       "       age          workclass  education-num       marital-status  \\\n",
       "5514    33          Local-gov             13        Never-married   \n",
       "19777   36            Private             11   Married-civ-spouse   \n",
       "10781   58   Self-emp-not-inc              5            Separated   \n",
       "32240   21            Private             11   Married-civ-spouse   \n",
       "9876    27            Private             10             Divorced   \n",
       "...    ...                ...            ...                  ...   \n",
       "29802   47            Private             13   Married-civ-spouse   \n",
       "5390    31            Private              8             Divorced   \n",
       "860     18            Private              7        Never-married   \n",
       "15795   50   Self-emp-not-inc              9   Married-civ-spouse   \n",
       "23654   34       Self-emp-inc             13             Divorced   \n",
       "\n",
       "             occupation    relationship    race      sex  hoursperweek  \\\n",
       "5514     Prof-specialty   Not-in-family   White   Female            50   \n",
       "19777   Exec-managerial         Husband   White     Male            50   \n",
       "10781      Craft-repair   Not-in-family   White     Male            40   \n",
       "32240   Farming-fishing         Husband   White     Male            46   \n",
       "9876      Other-service   Not-in-family   White     Male            40   \n",
       "...                 ...             ...     ...      ...           ...   \n",
       "29802      Craft-repair         Husband   White     Male            40   \n",
       "5390      Other-service       Unmarried   White   Female            21   \n",
       "860        Adm-clerical       Own-child   White   Female            20   \n",
       "15795   Farming-fishing         Husband   White     Male            84   \n",
       "23654   Farming-fishing   Not-in-family   White     Male            60   \n",
       "\n",
       "       native-country  \n",
       "5514    United-States  \n",
       "19777   United-States  \n",
       "10781   United-States  \n",
       "32240   United-States  \n",
       "9876    United-States  \n",
       "...               ...  \n",
       "29802   United-States  \n",
       "5390    United-States  \n",
       "860     United-States  \n",
       "15795   United-States  \n",
       "23654   United-States  \n",
       "\n",
       "[26048 rows x 10 columns]"
      ]
     },
     "execution_count": 6,
     "metadata": {},
     "output_type": "execute_result"
    }
   ],
   "source": [
    "X_train"
   ]
  },
  {
   "cell_type": "code",
   "execution_count": 7,
   "id": "31e6f68b",
   "metadata": {},
   "outputs": [],
   "source": [
    "def detect_outlier(data,col):\n",
    "    only_na = []\n",
    "    new_data = data.copy()\n",
    "    clf = LocalOutlierFactor(n_neighbors=30)\n",
    "    normalized_df = (new_data[col]- new_data[col].mean())/new_data[col].std()\n",
    "    clf.fit_predict(normalized_df.values.reshape(-1,1))\n",
    "    results = clf.negative_outlier_factor_\n",
    "    new_data[\"LOF\"] = results.tolist()\n",
    "    new_data = new_data.query(\"LOF < -1.5\")\n",
    "    for i in new_data.index:\n",
    "        only_na.append(i)\n",
    "    return only_na"
   ]
  },
  {
   "cell_type": "code",
   "execution_count": 8,
   "id": "c63c4a60",
   "metadata": {},
   "outputs": [],
   "source": [
    "def drop_rows(x,only_na):\n",
    "    new_data = x.copy()\n",
    "    for i in only_na:\n",
    "        new_data.drop(i,inplace=True)\n",
    "#     new_data.drop(only_na,axis=1,inplace=True)\n",
    "    return new_data"
   ]
  },
  {
   "cell_type": "code",
   "execution_count": 9,
   "id": "0e12d5dc",
   "metadata": {},
   "outputs": [],
   "source": [
    "only_na = detect_outlier(X_train,\"age\")"
   ]
  },
  {
   "cell_type": "code",
   "execution_count": 10,
   "id": "1279de00",
   "metadata": {},
   "outputs": [],
   "source": [
    "X_train = drop_rows(X_train, only_na)"
   ]
  },
  {
   "cell_type": "code",
   "execution_count": 11,
   "id": "b7a58082",
   "metadata": {},
   "outputs": [],
   "source": [
    "y_train = drop_rows(y_train, only_na)"
   ]
  },
  {
   "cell_type": "code",
   "execution_count": 12,
   "id": "5aa6e8ca",
   "metadata": {},
   "outputs": [],
   "source": [
    "only_na1 = detect_outlier(X_train, \"hoursperweek\")"
   ]
  },
  {
   "cell_type": "code",
   "execution_count": 13,
   "id": "bcd86ef9",
   "metadata": {},
   "outputs": [],
   "source": [
    "X_train = drop_rows(X_train, only_na1)"
   ]
  },
  {
   "cell_type": "code",
   "execution_count": 14,
   "id": "69cc4309",
   "metadata": {},
   "outputs": [],
   "source": [
    "y_train = drop_rows(y_train, only_na1)"
   ]
  },
  {
   "cell_type": "code",
   "execution_count": 15,
   "id": "bcf57f35",
   "metadata": {},
   "outputs": [],
   "source": [
    "X_train = pd.get_dummies(X_train, columns = ['workclass', 'relationship', 'marital-status', 'occupation', 'race', 'sex', 'native-country'])"
   ]
  },
  {
   "cell_type": "code",
   "execution_count": 16,
   "id": "e149acfb",
   "metadata": {},
   "outputs": [
    {
     "name": "stdout",
     "output_type": "stream",
     "text": [
      "<class 'pandas.core.frame.DataFrame'>\n",
      "Int64Index: 25631 entries, 5514 to 23654\n",
      "Data columns (total 89 columns):\n",
      " #   Column                                      Non-Null Count  Dtype\n",
      "---  ------                                      --------------  -----\n",
      " 0   age                                         25631 non-null  int64\n",
      " 1   education-num                               25631 non-null  int64\n",
      " 2   hoursperweek                                25631 non-null  int64\n",
      " 3   workclass_ ?                                25631 non-null  uint8\n",
      " 4   workclass_ Federal-gov                      25631 non-null  uint8\n",
      " 5   workclass_ Local-gov                        25631 non-null  uint8\n",
      " 6   workclass_ Never-worked                     25631 non-null  uint8\n",
      " 7   workclass_ Private                          25631 non-null  uint8\n",
      " 8   workclass_ Self-emp-inc                     25631 non-null  uint8\n",
      " 9   workclass_ Self-emp-not-inc                 25631 non-null  uint8\n",
      " 10  workclass_ State-gov                        25631 non-null  uint8\n",
      " 11  workclass_ Without-pay                      25631 non-null  uint8\n",
      " 12  relationship_ Husband                       25631 non-null  uint8\n",
      " 13  relationship_ Not-in-family                 25631 non-null  uint8\n",
      " 14  relationship_ Other-relative                25631 non-null  uint8\n",
      " 15  relationship_ Own-child                     25631 non-null  uint8\n",
      " 16  relationship_ Unmarried                     25631 non-null  uint8\n",
      " 17  relationship_ Wife                          25631 non-null  uint8\n",
      " 18  marital-status_ Divorced                    25631 non-null  uint8\n",
      " 19  marital-status_ Married-AF-spouse           25631 non-null  uint8\n",
      " 20  marital-status_ Married-civ-spouse          25631 non-null  uint8\n",
      " 21  marital-status_ Married-spouse-absent       25631 non-null  uint8\n",
      " 22  marital-status_ Never-married               25631 non-null  uint8\n",
      " 23  marital-status_ Separated                   25631 non-null  uint8\n",
      " 24  marital-status_ Widowed                     25631 non-null  uint8\n",
      " 25  occupation_ ?                               25631 non-null  uint8\n",
      " 26  occupation_ Adm-clerical                    25631 non-null  uint8\n",
      " 27  occupation_ Armed-Forces                    25631 non-null  uint8\n",
      " 28  occupation_ Craft-repair                    25631 non-null  uint8\n",
      " 29  occupation_ Exec-managerial                 25631 non-null  uint8\n",
      " 30  occupation_ Farming-fishing                 25631 non-null  uint8\n",
      " 31  occupation_ Handlers-cleaners               25631 non-null  uint8\n",
      " 32  occupation_ Machine-op-inspct               25631 non-null  uint8\n",
      " 33  occupation_ Other-service                   25631 non-null  uint8\n",
      " 34  occupation_ Priv-house-serv                 25631 non-null  uint8\n",
      " 35  occupation_ Prof-specialty                  25631 non-null  uint8\n",
      " 36  occupation_ Protective-serv                 25631 non-null  uint8\n",
      " 37  occupation_ Sales                           25631 non-null  uint8\n",
      " 38  occupation_ Tech-support                    25631 non-null  uint8\n",
      " 39  occupation_ Transport-moving                25631 non-null  uint8\n",
      " 40  race_ Amer-Indian-Eskimo                    25631 non-null  uint8\n",
      " 41  race_ Asian-Pac-Islander                    25631 non-null  uint8\n",
      " 42  race_ Black                                 25631 non-null  uint8\n",
      " 43  race_ Other                                 25631 non-null  uint8\n",
      " 44  race_ White                                 25631 non-null  uint8\n",
      " 45  sex_ Female                                 25631 non-null  uint8\n",
      " 46  sex_ Male                                   25631 non-null  uint8\n",
      " 47  native-country_ ?                           25631 non-null  uint8\n",
      " 48  native-country_ Cambodia                    25631 non-null  uint8\n",
      " 49  native-country_ Canada                      25631 non-null  uint8\n",
      " 50  native-country_ China                       25631 non-null  uint8\n",
      " 51  native-country_ Columbia                    25631 non-null  uint8\n",
      " 52  native-country_ Cuba                        25631 non-null  uint8\n",
      " 53  native-country_ Dominican-Republic          25631 non-null  uint8\n",
      " 54  native-country_ Ecuador                     25631 non-null  uint8\n",
      " 55  native-country_ El-Salvador                 25631 non-null  uint8\n",
      " 56  native-country_ England                     25631 non-null  uint8\n",
      " 57  native-country_ France                      25631 non-null  uint8\n",
      " 58  native-country_ Germany                     25631 non-null  uint8\n",
      " 59  native-country_ Greece                      25631 non-null  uint8\n",
      " 60  native-country_ Guatemala                   25631 non-null  uint8\n",
      " 61  native-country_ Haiti                       25631 non-null  uint8\n",
      " 62  native-country_ Holand-Netherlands          25631 non-null  uint8\n",
      " 63  native-country_ Honduras                    25631 non-null  uint8\n",
      " 64  native-country_ Hong                        25631 non-null  uint8\n",
      " 65  native-country_ Hungary                     25631 non-null  uint8\n",
      " 66  native-country_ India                       25631 non-null  uint8\n",
      " 67  native-country_ Iran                        25631 non-null  uint8\n",
      " 68  native-country_ Ireland                     25631 non-null  uint8\n",
      " 69  native-country_ Italy                       25631 non-null  uint8\n",
      " 70  native-country_ Jamaica                     25631 non-null  uint8\n",
      " 71  native-country_ Japan                       25631 non-null  uint8\n",
      " 72  native-country_ Laos                        25631 non-null  uint8\n",
      " 73  native-country_ Mexico                      25631 non-null  uint8\n",
      " 74  native-country_ Nicaragua                   25631 non-null  uint8\n",
      " 75  native-country_ Outlying-US(Guam-USVI-etc)  25631 non-null  uint8\n",
      " 76  native-country_ Peru                        25631 non-null  uint8\n",
      " 77  native-country_ Philippines                 25631 non-null  uint8\n",
      " 78  native-country_ Poland                      25631 non-null  uint8\n",
      " 79  native-country_ Portugal                    25631 non-null  uint8\n",
      " 80  native-country_ Puerto-Rico                 25631 non-null  uint8\n",
      " 81  native-country_ Scotland                    25631 non-null  uint8\n",
      " 82  native-country_ South                       25631 non-null  uint8\n",
      " 83  native-country_ Taiwan                      25631 non-null  uint8\n",
      " 84  native-country_ Thailand                    25631 non-null  uint8\n",
      " 85  native-country_ Trinadad&Tobago             25631 non-null  uint8\n",
      " 86  native-country_ United-States               25631 non-null  uint8\n",
      " 87  native-country_ Vietnam                     25631 non-null  uint8\n",
      " 88  native-country_ Yugoslavia                  25631 non-null  uint8\n",
      "dtypes: int64(3), uint8(86)\n",
      "memory usage: 2.9 MB\n"
     ]
    }
   ],
   "source": [
    "X_train.info()"
   ]
  },
  {
   "cell_type": "code",
   "execution_count": 17,
   "id": "b6a0e07b",
   "metadata": {},
   "outputs": [],
   "source": [
    "y_train = y_train.astype('category')"
   ]
  },
  {
   "cell_type": "code",
   "execution_count": 18,
   "id": "583a99bf",
   "metadata": {},
   "outputs": [],
   "source": [
    "X_test = pd.get_dummies(X_test, columns = ['workclass', 'relationship', 'marital-status', 'occupation', 'race', 'sex', 'native-country'])"
   ]
  },
  {
   "cell_type": "code",
   "execution_count": 19,
   "id": "ace4f98e",
   "metadata": {},
   "outputs": [
    {
     "name": "stdout",
     "output_type": "stream",
     "text": [
      "<class 'pandas.core.frame.DataFrame'>\n",
      "Int64Index: 6513 entries, 14160 to 24639\n",
      "Data columns (total 86 columns):\n",
      " #   Column                                 Non-Null Count  Dtype\n",
      "---  ------                                 --------------  -----\n",
      " 0   age                                    6513 non-null   int64\n",
      " 1   education-num                          6513 non-null   int64\n",
      " 2   hoursperweek                           6513 non-null   int64\n",
      " 3   workclass_ ?                           6513 non-null   uint8\n",
      " 4   workclass_ Federal-gov                 6513 non-null   uint8\n",
      " 5   workclass_ Local-gov                   6513 non-null   uint8\n",
      " 6   workclass_ Private                     6513 non-null   uint8\n",
      " 7   workclass_ Self-emp-inc                6513 non-null   uint8\n",
      " 8   workclass_ Self-emp-not-inc            6513 non-null   uint8\n",
      " 9   workclass_ State-gov                   6513 non-null   uint8\n",
      " 10  workclass_ Without-pay                 6513 non-null   uint8\n",
      " 11  relationship_ Husband                  6513 non-null   uint8\n",
      " 12  relationship_ Not-in-family            6513 non-null   uint8\n",
      " 13  relationship_ Other-relative           6513 non-null   uint8\n",
      " 14  relationship_ Own-child                6513 non-null   uint8\n",
      " 15  relationship_ Unmarried                6513 non-null   uint8\n",
      " 16  relationship_ Wife                     6513 non-null   uint8\n",
      " 17  marital-status_ Divorced               6513 non-null   uint8\n",
      " 18  marital-status_ Married-AF-spouse      6513 non-null   uint8\n",
      " 19  marital-status_ Married-civ-spouse     6513 non-null   uint8\n",
      " 20  marital-status_ Married-spouse-absent  6513 non-null   uint8\n",
      " 21  marital-status_ Never-married          6513 non-null   uint8\n",
      " 22  marital-status_ Separated              6513 non-null   uint8\n",
      " 23  marital-status_ Widowed                6513 non-null   uint8\n",
      " 24  occupation_ ?                          6513 non-null   uint8\n",
      " 25  occupation_ Adm-clerical               6513 non-null   uint8\n",
      " 26  occupation_ Armed-Forces               6513 non-null   uint8\n",
      " 27  occupation_ Craft-repair               6513 non-null   uint8\n",
      " 28  occupation_ Exec-managerial            6513 non-null   uint8\n",
      " 29  occupation_ Farming-fishing            6513 non-null   uint8\n",
      " 30  occupation_ Handlers-cleaners          6513 non-null   uint8\n",
      " 31  occupation_ Machine-op-inspct          6513 non-null   uint8\n",
      " 32  occupation_ Other-service              6513 non-null   uint8\n",
      " 33  occupation_ Priv-house-serv            6513 non-null   uint8\n",
      " 34  occupation_ Prof-specialty             6513 non-null   uint8\n",
      " 35  occupation_ Protective-serv            6513 non-null   uint8\n",
      " 36  occupation_ Sales                      6513 non-null   uint8\n",
      " 37  occupation_ Tech-support               6513 non-null   uint8\n",
      " 38  occupation_ Transport-moving           6513 non-null   uint8\n",
      " 39  race_ Amer-Indian-Eskimo               6513 non-null   uint8\n",
      " 40  race_ Asian-Pac-Islander               6513 non-null   uint8\n",
      " 41  race_ Black                            6513 non-null   uint8\n",
      " 42  race_ Other                            6513 non-null   uint8\n",
      " 43  race_ White                            6513 non-null   uint8\n",
      " 44  sex_ Female                            6513 non-null   uint8\n",
      " 45  sex_ Male                              6513 non-null   uint8\n",
      " 46  native-country_ ?                      6513 non-null   uint8\n",
      " 47  native-country_ Cambodia               6513 non-null   uint8\n",
      " 48  native-country_ Canada                 6513 non-null   uint8\n",
      " 49  native-country_ China                  6513 non-null   uint8\n",
      " 50  native-country_ Columbia               6513 non-null   uint8\n",
      " 51  native-country_ Cuba                   6513 non-null   uint8\n",
      " 52  native-country_ Dominican-Republic     6513 non-null   uint8\n",
      " 53  native-country_ Ecuador                6513 non-null   uint8\n",
      " 54  native-country_ El-Salvador            6513 non-null   uint8\n",
      " 55  native-country_ England                6513 non-null   uint8\n",
      " 56  native-country_ France                 6513 non-null   uint8\n",
      " 57  native-country_ Germany                6513 non-null   uint8\n",
      " 58  native-country_ Greece                 6513 non-null   uint8\n",
      " 59  native-country_ Guatemala              6513 non-null   uint8\n",
      " 60  native-country_ Haiti                  6513 non-null   uint8\n",
      " 61  native-country_ Honduras               6513 non-null   uint8\n",
      " 62  native-country_ Hong                   6513 non-null   uint8\n",
      " 63  native-country_ Hungary                6513 non-null   uint8\n",
      " 64  native-country_ India                  6513 non-null   uint8\n",
      " 65  native-country_ Iran                   6513 non-null   uint8\n",
      " 66  native-country_ Ireland                6513 non-null   uint8\n",
      " 67  native-country_ Italy                  6513 non-null   uint8\n",
      " 68  native-country_ Jamaica                6513 non-null   uint8\n",
      " 69  native-country_ Japan                  6513 non-null   uint8\n",
      " 70  native-country_ Laos                   6513 non-null   uint8\n",
      " 71  native-country_ Mexico                 6513 non-null   uint8\n",
      " 72  native-country_ Nicaragua              6513 non-null   uint8\n",
      " 73  native-country_ Peru                   6513 non-null   uint8\n",
      " 74  native-country_ Philippines            6513 non-null   uint8\n",
      " 75  native-country_ Poland                 6513 non-null   uint8\n",
      " 76  native-country_ Portugal               6513 non-null   uint8\n",
      " 77  native-country_ Puerto-Rico            6513 non-null   uint8\n",
      " 78  native-country_ Scotland               6513 non-null   uint8\n",
      " 79  native-country_ South                  6513 non-null   uint8\n",
      " 80  native-country_ Taiwan                 6513 non-null   uint8\n",
      " 81  native-country_ Thailand               6513 non-null   uint8\n",
      " 82  native-country_ Trinadad&Tobago        6513 non-null   uint8\n",
      " 83  native-country_ United-States          6513 non-null   uint8\n",
      " 84  native-country_ Vietnam                6513 non-null   uint8\n",
      " 85  native-country_ Yugoslavia             6513 non-null   uint8\n",
      "dtypes: int64(3), uint8(83)\n",
      "memory usage: 731.4 KB\n"
     ]
    }
   ],
   "source": [
    "X_test.info()"
   ]
  },
  {
   "cell_type": "code",
   "execution_count": 20,
   "id": "d3c0c53b",
   "metadata": {},
   "outputs": [
    {
     "data": {
      "text/plain": [
       "Index(['native-country_ Holand-Netherlands',\n",
       "       'native-country_ Outlying-US(Guam-USVI-etc)',\n",
       "       'workclass_ Never-worked'],\n",
       "      dtype='object')"
      ]
     },
     "execution_count": 20,
     "metadata": {},
     "output_type": "execute_result"
    }
   ],
   "source": [
    "X_train.columns.difference(X_test.columns)"
   ]
  },
  {
   "cell_type": "code",
   "execution_count": 21,
   "id": "23060489",
   "metadata": {},
   "outputs": [
    {
     "data": {
      "text/plain": [
       "5514     0\n",
       "19777    0\n",
       "10781    0\n",
       "32240    0\n",
       "9876     0\n",
       "        ..\n",
       "21575    0\n",
       "29802    0\n",
       "860      0\n",
       "15795    0\n",
       "23654    0\n",
       "Name: workclass_ Never-worked, Length: 25631, dtype: uint8"
      ]
     },
     "execution_count": 21,
     "metadata": {},
     "output_type": "execute_result"
    }
   ],
   "source": [
    "X_train[\"workclass_ Never-worked\"]"
   ]
  },
  {
   "cell_type": "code",
   "execution_count": 22,
   "id": "1705a6e1",
   "metadata": {},
   "outputs": [],
   "source": [
    "# X_test[\"workclass_Never-worked \"].drop\n",
    "X_train = X_train.drop(['workclass_ Never-worked'], axis=1)"
   ]
  },
  {
   "cell_type": "code",
   "execution_count": 23,
   "id": "e16b3b85",
   "metadata": {},
   "outputs": [],
   "source": [
    "X_train = X_train.drop(['native-country_ Holand-Netherlands'], axis=1)"
   ]
  },
  {
   "cell_type": "code",
   "execution_count": 24,
   "id": "db8bd090",
   "metadata": {},
   "outputs": [],
   "source": [
    "X_train = X_train.drop(['native-country_ Outlying-US(Guam-USVI-etc)'], axis=1)"
   ]
  },
  {
   "cell_type": "code",
   "execution_count": 25,
   "id": "dc25943a",
   "metadata": {},
   "outputs": [],
   "source": [
    "y_test = y_test.astype('category')"
   ]
  },
  {
   "cell_type": "code",
   "execution_count": 26,
   "id": "2589eb22",
   "metadata": {},
   "outputs": [],
   "source": [
    "from sklearn.linear_model import LogisticRegression\n",
    "from sklearn.metrics import confusion_matrix\n",
    "logisticRegr = LogisticRegression()"
   ]
  },
  {
   "cell_type": "code",
   "execution_count": 27,
   "id": "85e7ab8e",
   "metadata": {},
   "outputs": [],
   "source": [
    "def logistic_regression_train(logisticRegr,x,y):\n",
    "    logisticRegr.fit(x,y)\n",
    "def logistic_regression_test(logisticRegr,x):\n",
    "    y_pred = logisticRegr.predict_proba(x)\n",
    "    return y_pred\n",
    "def logistic_regression_pred_test(logisticRegr,x):\n",
    "    y_pred_test = logisticRegr.predict(x)\n",
    "    return y_pred_test\n",
    "\n",
    "def average_diff(y_pred, X_test):\n",
    "    column_i = y_pred.T[0]\n",
    "    X_test_copy = X_test.copy()\n",
    "    X_test_copy['preds'] = column_i\n",
    "    Female = X_test_copy[\"preds\"][X_test_copy[\"sex_ Female\"]== 1]\n",
    "    female_average = sum(Female)/len(Female)\n",
    "    male = X_test_copy[\"preds\"][X_test_copy[\"sex_ Male\"] == 1]\n",
    "    male_average = sum(male)/len(male)\n",
    "    diff = (female_average - male_average)\n",
    "    return diff \n",
    "\n",
    "def accuracy(y_test, y_pred_final):\n",
    "#     y_pred_final = np.argmax(y_pred, axis=1)\n",
    "    tn, fp, fn, tp = confusion_matrix(y_test, y_pred_final).ravel()\n",
    "    true_positive  = tn\n",
    "    false_positive = fn\n",
    "    true_negative  = tp\n",
    "    false_negative = fp\n",
    "    accuracy = (true_positive + true_negative) / (true_negative + true_positive + false_positive + false_negative )\n",
    "    return(accuracy)\n",
    "    \n",
    "    "
   ]
  },
  {
   "cell_type": "code",
   "execution_count": 28,
   "id": "7bc688e4",
   "metadata": {},
   "outputs": [
    {
     "name": "stderr",
     "output_type": "stream",
     "text": [
      "C:\\Users\\sathv\\anaconda3\\lib\\site-packages\\sklearn\\neighbors\\_classification.py:228: FutureWarning: Unlike other reduction functions (e.g. `skew`, `kurtosis`), the default behavior of `mode` typically preserves the axis it acts along. In SciPy 1.11.0, this behavior will change: the default value of `keepdims` will become False, the `axis` over which the statistic is taken will be eliminated, and the value None will no longer be accepted. Set `keepdims` to True or False to avoid this warning.\n",
      "  mode, _ = stats.mode(_y[neigh_ind, k], axis=1)\n"
     ]
    }
   ],
   "source": [
    "from sklearn.neighbors import KNeighborsClassifier\n",
    "classifier = KNeighborsClassifier(n_neighbors = 5, metric = 'minkowski', p = 2)\n",
    "classifier.fit(X_train, y_train)\n",
    "\n",
    "y_pred = classifier.predict_proba(X_test)\n",
    "\n",
    "dirty_diff = average_diff(y_pred,X_test)\n",
    "dirty_diff\n",
    "\n",
    "y_pred_test = classifier.predict(X_test)\n",
    "\n",
    "from sklearn.metrics import confusion_matrix,accuracy_score\n",
    "dirty_test_score = accuracy_score(y_test,y_pred_test)"
   ]
  },
  {
   "cell_type": "code",
   "execution_count": 29,
   "id": "9577a752",
   "metadata": {},
   "outputs": [],
   "source": [
    "X_clean_train, X_clean_test, y_clean_train, y_clean_test = train_test_split(X, y, test_size=0.20, random_state = 42)"
   ]
  },
  {
   "cell_type": "code",
   "execution_count": 30,
   "id": "2cc7c522",
   "metadata": {},
   "outputs": [],
   "source": [
    "only_na = detect_outlier(X_clean_train, \"age\")"
   ]
  },
  {
   "cell_type": "code",
   "execution_count": 31,
   "id": "fb2c2f9c",
   "metadata": {},
   "outputs": [],
   "source": [
    "X_clean_train = drop_rows(X_clean_train, only_na)"
   ]
  },
  {
   "cell_type": "code",
   "execution_count": 32,
   "id": "26136a2d",
   "metadata": {},
   "outputs": [],
   "source": [
    "y_clean_train = drop_rows(y_clean_train, only_na)"
   ]
  },
  {
   "cell_type": "code",
   "execution_count": 33,
   "id": "9948df4d",
   "metadata": {},
   "outputs": [],
   "source": [
    "only_na = detect_outlier(X_clean_train, \"hoursperweek\")"
   ]
  },
  {
   "cell_type": "code",
   "execution_count": 34,
   "id": "aa2710f7",
   "metadata": {},
   "outputs": [],
   "source": [
    "X_clean_train = drop_rows(X_clean_train, only_na)"
   ]
  },
  {
   "cell_type": "code",
   "execution_count": 35,
   "id": "2d7f232a",
   "metadata": {},
   "outputs": [],
   "source": [
    "y_clean_train = drop_rows(y_clean_train, only_na)"
   ]
  },
  {
   "cell_type": "code",
   "execution_count": 36,
   "id": "46f2bf35",
   "metadata": {},
   "outputs": [],
   "source": [
    "only_na = detect_outlier(X_clean_test, \"age\")"
   ]
  },
  {
   "cell_type": "code",
   "execution_count": 37,
   "id": "71056015",
   "metadata": {},
   "outputs": [],
   "source": [
    "X_clean_test = drop_rows(X_clean_test, only_na)"
   ]
  },
  {
   "cell_type": "code",
   "execution_count": 38,
   "id": "23bec7eb",
   "metadata": {},
   "outputs": [],
   "source": [
    "y_clean_test = drop_rows(y_clean_test, only_na)"
   ]
  },
  {
   "cell_type": "code",
   "execution_count": 39,
   "id": "b7dbba7c",
   "metadata": {},
   "outputs": [],
   "source": [
    "only_na = detect_outlier(X_clean_test, \"hoursperweek\")"
   ]
  },
  {
   "cell_type": "code",
   "execution_count": 40,
   "id": "68a8ddb5",
   "metadata": {},
   "outputs": [],
   "source": [
    "X_clean_test = drop_rows(X_clean_test, only_na)"
   ]
  },
  {
   "cell_type": "code",
   "execution_count": 41,
   "id": "8d809f44",
   "metadata": {},
   "outputs": [],
   "source": [
    "y_clean_test = drop_rows(y_clean_test, only_na)"
   ]
  },
  {
   "cell_type": "code",
   "execution_count": 42,
   "id": "3a156ded",
   "metadata": {},
   "outputs": [],
   "source": [
    "X_clean_train = pd.get_dummies(X_clean_train, columns = ['workclass', 'relationship', 'marital-status', 'occupation', 'race', 'sex', 'native-country'])"
   ]
  },
  {
   "cell_type": "code",
   "execution_count": 43,
   "id": "4515639f",
   "metadata": {},
   "outputs": [],
   "source": [
    "y_clean_train = y_clean_train.astype('category')"
   ]
  },
  {
   "cell_type": "code",
   "execution_count": 44,
   "id": "d42694c3",
   "metadata": {},
   "outputs": [],
   "source": [
    "X_clean_test = pd.get_dummies(X_clean_test, columns = ['workclass', 'relationship', 'marital-status', 'occupation', 'race', 'sex', 'native-country'])"
   ]
  },
  {
   "cell_type": "code",
   "execution_count": 45,
   "id": "4d9da956",
   "metadata": {},
   "outputs": [],
   "source": [
    "y_clean_test = y_clean_test.astype('category')"
   ]
  },
  {
   "cell_type": "code",
   "execution_count": 46,
   "id": "87b54c78",
   "metadata": {},
   "outputs": [
    {
     "data": {
      "text/plain": [
       "Index(['native-country_ Holand-Netherlands',\n",
       "       'native-country_ Outlying-US(Guam-USVI-etc)',\n",
       "       'workclass_ Never-worked'],\n",
       "      dtype='object')"
      ]
     },
     "execution_count": 46,
     "metadata": {},
     "output_type": "execute_result"
    }
   ],
   "source": [
    "X_clean_train.columns.difference(X_clean_test.columns)"
   ]
  },
  {
   "cell_type": "code",
   "execution_count": 47,
   "id": "a173fe54",
   "metadata": {},
   "outputs": [],
   "source": [
    "X_clean_train = X_clean_train.drop(['native-country_ Holand-Netherlands','native-country_ Outlying-US(Guam-USVI-etc)','workclass_ Never-worked' ], axis=1)"
   ]
  },
  {
   "cell_type": "code",
   "execution_count": 48,
   "id": "ef21a271",
   "metadata": {},
   "outputs": [
    {
     "name": "stderr",
     "output_type": "stream",
     "text": [
      "C:\\Users\\sathv\\anaconda3\\lib\\site-packages\\sklearn\\neighbors\\_classification.py:228: FutureWarning: Unlike other reduction functions (e.g. `skew`, `kurtosis`), the default behavior of `mode` typically preserves the axis it acts along. In SciPy 1.11.0, this behavior will change: the default value of `keepdims` will become False, the `axis` over which the statistic is taken will be eliminated, and the value None will no longer be accepted. Set `keepdims` to True or False to avoid this warning.\n",
      "  mode, _ = stats.mode(_y[neigh_ind, k], axis=1)\n"
     ]
    }
   ],
   "source": [
    "clean_model = KNeighborsClassifier(n_neighbors = 5, metric = 'minkowski', p = 2)\n",
    "clean_model.fit(X_clean_train, y_clean_train)\n",
    "\n",
    "y_clean_pred = classifier.predict_proba(X_clean_test)\n",
    "\n",
    "clean_diff = average_diff(y_clean_pred,X_clean_test)\n",
    "clean_diff\n",
    "\n",
    "y_pred_clean_test = classifier.predict(X_test)\n",
    "\n",
    "clean_test_score = accuracy_score(y_test,y_pred_test)\n"
   ]
  },
  {
   "cell_type": "code",
   "execution_count": 49,
   "id": "8a4972a1",
   "metadata": {},
   "outputs": [
    {
     "name": "stdout",
     "output_type": "stream",
     "text": [
      "Detection Method      Method             Test Data        Encoding Technique    ML Model      Accuracy    Fairness\n",
      "--------------------  -----------------  ---------------  --------------------  ----------  ----------  ----------\n",
      "Local outlier factor  Removing Outliers  Dirty test data  One-Hot Encoding      KNN           0.816214    0.193431\n",
      "Local outlier factor  Removing Outliers  Clean test data  One-Hot Encoding      KNN           0.816214    0.195299\n"
     ]
    }
   ],
   "source": [
    "from tabulate import tabulate\n",
    "data = [[\"Local outlier factor\",\"Removing Outliers\",\"Dirty test data\",\"One-Hot Encoding\", \"KNN\", dirty_test_score, dirty_diff],\n",
    "[\"Local outlier factor\",\"Removing Outliers\", \"Clean test data\", \"One-Hot Encoding\", \"KNN\", clean_test_score, clean_diff]]\n",
    "print (tabulate(data, headers=[\"Detection Method\",\"Method\", \"Test Data\", \"Encoding Technique\", \"ML Model\", \"Accuracy\", \"Fairness\"]))"
   ]
  },
  {
   "cell_type": "code",
   "execution_count": null,
   "id": "6979f2f7",
   "metadata": {},
   "outputs": [],
   "source": []
  }
 ],
 "metadata": {
  "kernelspec": {
   "display_name": "Python 3 (ipykernel)",
   "language": "python",
   "name": "python3"
  },
  "language_info": {
   "codemirror_mode": {
    "name": "ipython",
    "version": 3
   },
   "file_extension": ".py",
   "mimetype": "text/x-python",
   "name": "python",
   "nbconvert_exporter": "python",
   "pygments_lexer": "ipython3",
   "version": "3.9.13"
  }
 },
 "nbformat": 4,
 "nbformat_minor": 5
}
