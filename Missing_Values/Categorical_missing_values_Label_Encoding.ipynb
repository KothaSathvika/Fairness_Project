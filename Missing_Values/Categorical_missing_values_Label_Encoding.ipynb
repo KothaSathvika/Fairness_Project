{
 "cells": [
  {
   "cell_type": "markdown",
   "id": "755d3e79",
   "metadata": {},
   "source": [
    "1. Take a dataset\n",
    "2. Split it into 80:20 ratio\n",
    "3. Find missing values in X_train(both numeric and categorical)\n",
    "4. Remove those rows which ahs missing values from X_train\n",
    "5. Drop rows from y_train for same indices of X_train\n",
    "6. Perform label encoding \n",
    "7. Train the model\n",
    "8. Test the model for both dirty and clean data\n",
    "9. Check the accuracy and fairness"
   ]
  },
  {
   "cell_type": "code",
   "execution_count": 93,
   "id": "643fabcb",
   "metadata": {},
   "outputs": [],
   "source": [
    "import pandas as pd\n",
    "import numpy as np\n",
    "from sklearn.model_selection import train_test_split"
   ]
  },
  {
   "cell_type": "code",
   "execution_count": 94,
   "id": "b731e38c",
   "metadata": {},
   "outputs": [],
   "source": [
    "population = pd.read_csv(r\"C:\\Users\\sathv\\OneDrive\\Desktop\\RDM\\adult_csv.csv\")"
   ]
  },
  {
   "cell_type": "code",
   "execution_count": 95,
   "id": "98da9549",
   "metadata": {
    "scrolled": true
   },
   "outputs": [
    {
     "name": "stdout",
     "output_type": "stream",
     "text": [
      "<class 'pandas.core.frame.DataFrame'>\n",
      "RangeIndex: 48842 entries, 0 to 48841\n",
      "Data columns (total 15 columns):\n",
      " #   Column          Non-Null Count  Dtype \n",
      "---  ------          --------------  ----- \n",
      " 0   age             48842 non-null  int64 \n",
      " 1   workclass       46043 non-null  object\n",
      " 2   fnlwgt          48842 non-null  int64 \n",
      " 3   education       48842 non-null  object\n",
      " 4   education-num   48842 non-null  int64 \n",
      " 5   marital-status  48842 non-null  object\n",
      " 6   occupation      46033 non-null  object\n",
      " 7   relationship    48842 non-null  object\n",
      " 8   race            48842 non-null  object\n",
      " 9   sex             48842 non-null  object\n",
      " 10  capitalgain     48842 non-null  int64 \n",
      " 11  capitalloss     48842 non-null  int64 \n",
      " 12  hoursperweek    48842 non-null  int64 \n",
      " 13  native-country  47985 non-null  object\n",
      " 14  class           48842 non-null  object\n",
      "dtypes: int64(6), object(9)\n",
      "memory usage: 5.6+ MB\n"
     ]
    },
    {
     "data": {
      "text/html": [
       "<div>\n",
       "<style scoped>\n",
       "    .dataframe tbody tr th:only-of-type {\n",
       "        vertical-align: middle;\n",
       "    }\n",
       "\n",
       "    .dataframe tbody tr th {\n",
       "        vertical-align: top;\n",
       "    }\n",
       "\n",
       "    .dataframe thead th {\n",
       "        text-align: right;\n",
       "    }\n",
       "</style>\n",
       "<table border=\"1\" class=\"dataframe\">\n",
       "  <thead>\n",
       "    <tr style=\"text-align: right;\">\n",
       "      <th></th>\n",
       "      <th>age</th>\n",
       "      <th>workclass</th>\n",
       "      <th>fnlwgt</th>\n",
       "      <th>education</th>\n",
       "      <th>education-num</th>\n",
       "      <th>marital-status</th>\n",
       "      <th>occupation</th>\n",
       "      <th>relationship</th>\n",
       "      <th>race</th>\n",
       "      <th>sex</th>\n",
       "      <th>capitalgain</th>\n",
       "      <th>capitalloss</th>\n",
       "      <th>hoursperweek</th>\n",
       "      <th>native-country</th>\n",
       "      <th>class</th>\n",
       "    </tr>\n",
       "  </thead>\n",
       "  <tbody>\n",
       "    <tr>\n",
       "      <th>0</th>\n",
       "      <td>2</td>\n",
       "      <td>State-gov</td>\n",
       "      <td>77516</td>\n",
       "      <td>Bachelors</td>\n",
       "      <td>13</td>\n",
       "      <td>Never-married</td>\n",
       "      <td>Adm-clerical</td>\n",
       "      <td>Not-in-family</td>\n",
       "      <td>White</td>\n",
       "      <td>Male</td>\n",
       "      <td>1</td>\n",
       "      <td>0</td>\n",
       "      <td>2</td>\n",
       "      <td>United-States</td>\n",
       "      <td>&lt;=50K</td>\n",
       "    </tr>\n",
       "    <tr>\n",
       "      <th>1</th>\n",
       "      <td>3</td>\n",
       "      <td>Self-emp-not-inc</td>\n",
       "      <td>83311</td>\n",
       "      <td>Bachelors</td>\n",
       "      <td>13</td>\n",
       "      <td>Married-civ-spouse</td>\n",
       "      <td>Exec-managerial</td>\n",
       "      <td>Husband</td>\n",
       "      <td>White</td>\n",
       "      <td>Male</td>\n",
       "      <td>0</td>\n",
       "      <td>0</td>\n",
       "      <td>0</td>\n",
       "      <td>United-States</td>\n",
       "      <td>&lt;=50K</td>\n",
       "    </tr>\n",
       "    <tr>\n",
       "      <th>2</th>\n",
       "      <td>2</td>\n",
       "      <td>Private</td>\n",
       "      <td>215646</td>\n",
       "      <td>HS-grad</td>\n",
       "      <td>9</td>\n",
       "      <td>Divorced</td>\n",
       "      <td>Handlers-cleaners</td>\n",
       "      <td>Not-in-family</td>\n",
       "      <td>White</td>\n",
       "      <td>Male</td>\n",
       "      <td>0</td>\n",
       "      <td>0</td>\n",
       "      <td>2</td>\n",
       "      <td>United-States</td>\n",
       "      <td>&lt;=50K</td>\n",
       "    </tr>\n",
       "    <tr>\n",
       "      <th>3</th>\n",
       "      <td>3</td>\n",
       "      <td>Private</td>\n",
       "      <td>234721</td>\n",
       "      <td>11th</td>\n",
       "      <td>7</td>\n",
       "      <td>Married-civ-spouse</td>\n",
       "      <td>Handlers-cleaners</td>\n",
       "      <td>Husband</td>\n",
       "      <td>Black</td>\n",
       "      <td>Male</td>\n",
       "      <td>0</td>\n",
       "      <td>0</td>\n",
       "      <td>2</td>\n",
       "      <td>United-States</td>\n",
       "      <td>&lt;=50K</td>\n",
       "    </tr>\n",
       "    <tr>\n",
       "      <th>4</th>\n",
       "      <td>1</td>\n",
       "      <td>Private</td>\n",
       "      <td>338409</td>\n",
       "      <td>Bachelors</td>\n",
       "      <td>13</td>\n",
       "      <td>Married-civ-spouse</td>\n",
       "      <td>Prof-specialty</td>\n",
       "      <td>Wife</td>\n",
       "      <td>Black</td>\n",
       "      <td>Female</td>\n",
       "      <td>0</td>\n",
       "      <td>0</td>\n",
       "      <td>2</td>\n",
       "      <td>Cuba</td>\n",
       "      <td>&lt;=50K</td>\n",
       "    </tr>\n",
       "  </tbody>\n",
       "</table>\n",
       "</div>"
      ],
      "text/plain": [
       "   age         workclass  fnlwgt  education  education-num  \\\n",
       "0    2         State-gov   77516  Bachelors             13   \n",
       "1    3  Self-emp-not-inc   83311  Bachelors             13   \n",
       "2    2           Private  215646    HS-grad              9   \n",
       "3    3           Private  234721       11th              7   \n",
       "4    1           Private  338409  Bachelors             13   \n",
       "\n",
       "       marital-status         occupation   relationship   race     sex  \\\n",
       "0       Never-married       Adm-clerical  Not-in-family  White    Male   \n",
       "1  Married-civ-spouse    Exec-managerial        Husband  White    Male   \n",
       "2            Divorced  Handlers-cleaners  Not-in-family  White    Male   \n",
       "3  Married-civ-spouse  Handlers-cleaners        Husband  Black    Male   \n",
       "4  Married-civ-spouse     Prof-specialty           Wife  Black  Female   \n",
       "\n",
       "   capitalgain  capitalloss  hoursperweek native-country  class  \n",
       "0            1            0             2  United-States  <=50K  \n",
       "1            0            0             0  United-States  <=50K  \n",
       "2            0            0             2  United-States  <=50K  \n",
       "3            0            0             2  United-States  <=50K  \n",
       "4            0            0             2           Cuba  <=50K  "
      ]
     },
     "execution_count": 95,
     "metadata": {},
     "output_type": "execute_result"
    }
   ],
   "source": [
    "population.info()\n",
    "population.head()"
   ]
  },
  {
   "cell_type": "markdown",
   "id": "cfb79c9c",
   "metadata": {},
   "source": [
    "Classified the training features and predicted feature"
   ]
  },
  {
   "cell_type": "code",
   "execution_count": 96,
   "id": "0254832d",
   "metadata": {},
   "outputs": [],
   "source": [
    "sample_1 = population"
   ]
  },
  {
   "cell_type": "code",
   "execution_count": 97,
   "id": "d37ec977",
   "metadata": {},
   "outputs": [],
   "source": [
    "X= sample_1[[\"age\",\"workclass\",\"education-num\",\"marital-status\",\"occupation\",\"relationship\",\"race\",\"sex\",\"capitalgain\",\"capitalloss\",\"hoursperweek\",\"native-country\"]]\n",
    "y = sample_1[\"class\"]"
   ]
  },
  {
   "cell_type": "markdown",
   "id": "b4ae5b36",
   "metadata": {},
   "source": [
    "Split the dataset into 70:20 ratio"
   ]
  },
  {
   "cell_type": "code",
   "execution_count": 98,
   "id": "bbcf0b0e",
   "metadata": {},
   "outputs": [],
   "source": [
    "X_train, X_test, y_train, y_test = train_test_split(X, y, test_size=0.20, random_state = 42)"
   ]
  },
  {
   "cell_type": "code",
   "execution_count": 99,
   "id": "0dfbe55a",
   "metadata": {},
   "outputs": [],
   "source": [
    "X_train_dirty = X_train\n",
    "X_test_dirty = X_test\n",
    "y_train_dirty = y_train\n",
    "y_test_dirty = y_test"
   ]
  },
  {
   "cell_type": "code",
   "execution_count": 100,
   "id": "48d06703",
   "metadata": {},
   "outputs": [
    {
     "data": {
      "text/plain": [
       "age                 0\n",
       "workclass         577\n",
       "education-num       0\n",
       "marital-status      0\n",
       "occupation        578\n",
       "relationship        0\n",
       "race                0\n",
       "sex                 0\n",
       "capitalgain         0\n",
       "capitalloss         0\n",
       "hoursperweek        0\n",
       "native-country    180\n",
       "dtype: int64"
      ]
     },
     "execution_count": 100,
     "metadata": {},
     "output_type": "execute_result"
    }
   ],
   "source": [
    "X_test_dirty.isnull().sum()"
   ]
  },
  {
   "cell_type": "code",
   "execution_count": 101,
   "id": "30470344",
   "metadata": {},
   "outputs": [
    {
     "name": "stdout",
     "output_type": "stream",
     "text": [
      "<class 'pandas.core.frame.DataFrame'>\n",
      "Int64Index: 39073 entries, 37193 to 15795\n",
      "Data columns (total 12 columns):\n",
      " #   Column          Non-Null Count  Dtype \n",
      "---  ------          --------------  ----- \n",
      " 0   age             39073 non-null  int64 \n",
      " 1   workclass       36851 non-null  object\n",
      " 2   education-num   39073 non-null  int64 \n",
      " 3   marital-status  39073 non-null  object\n",
      " 4   occupation      36842 non-null  object\n",
      " 5   relationship    39073 non-null  object\n",
      " 6   race            39073 non-null  object\n",
      " 7   sex             39073 non-null  object\n",
      " 8   capitalgain     39073 non-null  int64 \n",
      " 9   capitalloss     39073 non-null  int64 \n",
      " 10  hoursperweek    39073 non-null  int64 \n",
      " 11  native-country  38396 non-null  object\n",
      "dtypes: int64(5), object(7)\n",
      "memory usage: 3.9+ MB\n"
     ]
    }
   ],
   "source": [
    "X_train.info()"
   ]
  },
  {
   "cell_type": "code",
   "execution_count": 102,
   "id": "26dcb219",
   "metadata": {
    "scrolled": true
   },
   "outputs": [
    {
     "data": {
      "text/plain": [
       "37193    <=50K\n",
       "31093     >50K\n",
       "33814    <=50K\n",
       "14500    <=50K\n",
       "23399    <=50K\n",
       "         ...  \n",
       "11284     >50K\n",
       "44732    <=50K\n",
       "38158    <=50K\n",
       "860      <=50K\n",
       "15795    <=50K\n",
       "Name: class, Length: 39073, dtype: object"
      ]
     },
     "execution_count": 102,
     "metadata": {},
     "output_type": "execute_result"
    }
   ],
   "source": [
    "y_train"
   ]
  },
  {
   "cell_type": "markdown",
   "id": "12c1f422",
   "metadata": {},
   "source": [
    "# Functions to get the columns by type,checking if there are any missing values in the row and deleting those rows."
   ]
  },
  {
   "cell_type": "code",
   "execution_count": 103,
   "id": "1016ce1b",
   "metadata": {},
   "outputs": [],
   "source": [
    "def variable(data,x):\n",
    "    cols = data.select_dtypes([x]).columns\n",
    "    missing_values = []\n",
    "    for i in range(len(cols)):\n",
    "        if data[cols[i]].isnull().values.any():\n",
    "            missing_values.append(cols[i])\n",
    "    return(missing_values,list(cols))\n",
    "    "
   ]
  },
  {
   "cell_type": "code",
   "execution_count": 104,
   "id": "e9c2fecb",
   "metadata": {},
   "outputs": [],
   "source": [
    "def remove(data):\n",
    "    new_data = data.dropna()\n",
    "    only_na = data[~data.index.isin(new_data.index)]\n",
    "    only_na = list(only_na.index)\n",
    "    return(new_data,list(only_na))"
   ]
  },
  {
   "cell_type": "markdown",
   "id": "2b1e0f55",
   "metadata": {},
   "source": [
    "Checking for X_train for type numeric"
   ]
  },
  {
   "cell_type": "code",
   "execution_count": 105,
   "id": "3419792e",
   "metadata": {},
   "outputs": [],
   "source": [
    "missing_values, cols = variable(X_train, np.number)"
   ]
  },
  {
   "cell_type": "code",
   "execution_count": 106,
   "id": "998f1541",
   "metadata": {},
   "outputs": [
    {
     "data": {
      "text/plain": [
       "[]"
      ]
     },
     "execution_count": 106,
     "metadata": {},
     "output_type": "execute_result"
    }
   ],
   "source": [
    "missing_values"
   ]
  },
  {
   "cell_type": "markdown",
   "id": "aec0b705",
   "metadata": {},
   "source": [
    "Checking for X_train for type category"
   ]
  },
  {
   "cell_type": "code",
   "execution_count": 107,
   "id": "c749a24d",
   "metadata": {
    "scrolled": true
   },
   "outputs": [
    {
     "name": "stderr",
     "output_type": "stream",
     "text": [
      "C:\\Users\\sathv\\AppData\\Local\\Temp\\ipykernel_19972\\1850552422.py:1: DeprecationWarning: `np.object` is a deprecated alias for the builtin `object`. To silence this warning, use `object` by itself. Doing this will not modify any behavior and is safe. \n",
      "Deprecated in NumPy 1.20; for more details and guidance: https://numpy.org/devdocs/release/1.20.0-notes.html#deprecations\n",
      "  missing_values, cat_cols = variable(X_train, np.object)\n"
     ]
    }
   ],
   "source": [
    "missing_values, cat_cols = variable(X_train, np.object)"
   ]
  },
  {
   "cell_type": "code",
   "execution_count": 108,
   "id": "7659368d",
   "metadata": {},
   "outputs": [
    {
     "data": {
      "text/plain": [
       "['workclass', 'occupation', 'native-country']"
      ]
     },
     "execution_count": 108,
     "metadata": {},
     "output_type": "execute_result"
    }
   ],
   "source": [
    "missing_values"
   ]
  },
  {
   "cell_type": "code",
   "execution_count": 109,
   "id": "5ae32376",
   "metadata": {},
   "outputs": [
    {
     "data": {
      "text/plain": [
       "['workclass',\n",
       " 'marital-status',\n",
       " 'occupation',\n",
       " 'relationship',\n",
       " 'race',\n",
       " 'sex',\n",
       " 'native-country']"
      ]
     },
     "execution_count": 109,
     "metadata": {},
     "output_type": "execute_result"
    }
   ],
   "source": [
    "cat_cols"
   ]
  },
  {
   "cell_type": "code",
   "execution_count": 110,
   "id": "3e8964d2",
   "metadata": {},
   "outputs": [],
   "source": [
    "X_train,only_na = remove(X_train)"
   ]
  },
  {
   "cell_type": "code",
   "execution_count": 111,
   "id": "5d1d4f79",
   "metadata": {},
   "outputs": [
    {
     "data": {
      "text/html": [
       "<div>\n",
       "<style scoped>\n",
       "    .dataframe tbody tr th:only-of-type {\n",
       "        vertical-align: middle;\n",
       "    }\n",
       "\n",
       "    .dataframe tbody tr th {\n",
       "        vertical-align: top;\n",
       "    }\n",
       "\n",
       "    .dataframe thead th {\n",
       "        text-align: right;\n",
       "    }\n",
       "</style>\n",
       "<table border=\"1\" class=\"dataframe\">\n",
       "  <thead>\n",
       "    <tr style=\"text-align: right;\">\n",
       "      <th></th>\n",
       "      <th>age</th>\n",
       "      <th>workclass</th>\n",
       "      <th>education-num</th>\n",
       "      <th>marital-status</th>\n",
       "      <th>occupation</th>\n",
       "      <th>relationship</th>\n",
       "      <th>race</th>\n",
       "      <th>sex</th>\n",
       "      <th>capitalgain</th>\n",
       "      <th>capitalloss</th>\n",
       "      <th>hoursperweek</th>\n",
       "      <th>native-country</th>\n",
       "    </tr>\n",
       "  </thead>\n",
       "  <tbody>\n",
       "    <tr>\n",
       "      <th>37193</th>\n",
       "      <td>1</td>\n",
       "      <td>Private</td>\n",
       "      <td>9</td>\n",
       "      <td>Married-civ-spouse</td>\n",
       "      <td>Transport-moving</td>\n",
       "      <td>Husband</td>\n",
       "      <td>White</td>\n",
       "      <td>Male</td>\n",
       "      <td>0</td>\n",
       "      <td>0</td>\n",
       "      <td>2</td>\n",
       "      <td>United-States</td>\n",
       "    </tr>\n",
       "    <tr>\n",
       "      <th>31093</th>\n",
       "      <td>2</td>\n",
       "      <td>State-gov</td>\n",
       "      <td>14</td>\n",
       "      <td>Married-civ-spouse</td>\n",
       "      <td>Prof-specialty</td>\n",
       "      <td>Husband</td>\n",
       "      <td>White</td>\n",
       "      <td>Male</td>\n",
       "      <td>0</td>\n",
       "      <td>0</td>\n",
       "      <td>2</td>\n",
       "      <td>United-States</td>\n",
       "    </tr>\n",
       "    <tr>\n",
       "      <th>33814</th>\n",
       "      <td>1</td>\n",
       "      <td>Local-gov</td>\n",
       "      <td>8</td>\n",
       "      <td>Married-civ-spouse</td>\n",
       "      <td>Farming-fishing</td>\n",
       "      <td>Husband</td>\n",
       "      <td>White</td>\n",
       "      <td>Male</td>\n",
       "      <td>0</td>\n",
       "      <td>0</td>\n",
       "      <td>2</td>\n",
       "      <td>United-States</td>\n",
       "    </tr>\n",
       "    <tr>\n",
       "      <th>14500</th>\n",
       "      <td>4</td>\n",
       "      <td>Private</td>\n",
       "      <td>9</td>\n",
       "      <td>Divorced</td>\n",
       "      <td>Craft-repair</td>\n",
       "      <td>Unmarried</td>\n",
       "      <td>White</td>\n",
       "      <td>Male</td>\n",
       "      <td>0</td>\n",
       "      <td>0</td>\n",
       "      <td>0</td>\n",
       "      <td>United-States</td>\n",
       "    </tr>\n",
       "    <tr>\n",
       "      <th>23399</th>\n",
       "      <td>4</td>\n",
       "      <td>Self-emp-not-inc</td>\n",
       "      <td>9</td>\n",
       "      <td>Widowed</td>\n",
       "      <td>Sales</td>\n",
       "      <td>Not-in-family</td>\n",
       "      <td>White</td>\n",
       "      <td>Male</td>\n",
       "      <td>0</td>\n",
       "      <td>0</td>\n",
       "      <td>4</td>\n",
       "      <td>United-States</td>\n",
       "    </tr>\n",
       "    <tr>\n",
       "      <th>...</th>\n",
       "      <td>...</td>\n",
       "      <td>...</td>\n",
       "      <td>...</td>\n",
       "      <td>...</td>\n",
       "      <td>...</td>\n",
       "      <td>...</td>\n",
       "      <td>...</td>\n",
       "      <td>...</td>\n",
       "      <td>...</td>\n",
       "      <td>...</td>\n",
       "      <td>...</td>\n",
       "      <td>...</td>\n",
       "    </tr>\n",
       "    <tr>\n",
       "      <th>6265</th>\n",
       "      <td>4</td>\n",
       "      <td>Self-emp-not-inc</td>\n",
       "      <td>4</td>\n",
       "      <td>Married-civ-spouse</td>\n",
       "      <td>Farming-fishing</td>\n",
       "      <td>Husband</td>\n",
       "      <td>White</td>\n",
       "      <td>Male</td>\n",
       "      <td>0</td>\n",
       "      <td>0</td>\n",
       "      <td>1</td>\n",
       "      <td>United-States</td>\n",
       "    </tr>\n",
       "    <tr>\n",
       "      <th>44732</th>\n",
       "      <td>0</td>\n",
       "      <td>Private</td>\n",
       "      <td>9</td>\n",
       "      <td>Never-married</td>\n",
       "      <td>Machine-op-inspct</td>\n",
       "      <td>Own-child</td>\n",
       "      <td>White</td>\n",
       "      <td>Female</td>\n",
       "      <td>0</td>\n",
       "      <td>0</td>\n",
       "      <td>2</td>\n",
       "      <td>United-States</td>\n",
       "    </tr>\n",
       "    <tr>\n",
       "      <th>38158</th>\n",
       "      <td>0</td>\n",
       "      <td>Private</td>\n",
       "      <td>9</td>\n",
       "      <td>Divorced</td>\n",
       "      <td>Adm-clerical</td>\n",
       "      <td>Not-in-family</td>\n",
       "      <td>White</td>\n",
       "      <td>Female</td>\n",
       "      <td>0</td>\n",
       "      <td>0</td>\n",
       "      <td>2</td>\n",
       "      <td>United-States</td>\n",
       "    </tr>\n",
       "    <tr>\n",
       "      <th>860</th>\n",
       "      <td>0</td>\n",
       "      <td>Private</td>\n",
       "      <td>7</td>\n",
       "      <td>Never-married</td>\n",
       "      <td>Adm-clerical</td>\n",
       "      <td>Own-child</td>\n",
       "      <td>White</td>\n",
       "      <td>Female</td>\n",
       "      <td>0</td>\n",
       "      <td>0</td>\n",
       "      <td>0</td>\n",
       "      <td>United-States</td>\n",
       "    </tr>\n",
       "    <tr>\n",
       "      <th>15795</th>\n",
       "      <td>3</td>\n",
       "      <td>Self-emp-not-inc</td>\n",
       "      <td>9</td>\n",
       "      <td>Married-civ-spouse</td>\n",
       "      <td>Farming-fishing</td>\n",
       "      <td>Husband</td>\n",
       "      <td>White</td>\n",
       "      <td>Male</td>\n",
       "      <td>0</td>\n",
       "      <td>0</td>\n",
       "      <td>4</td>\n",
       "      <td>United-States</td>\n",
       "    </tr>\n",
       "  </tbody>\n",
       "</table>\n",
       "<p>36199 rows × 12 columns</p>\n",
       "</div>"
      ],
      "text/plain": [
       "       age         workclass  education-num      marital-status  \\\n",
       "37193    1           Private              9  Married-civ-spouse   \n",
       "31093    2         State-gov             14  Married-civ-spouse   \n",
       "33814    1         Local-gov              8  Married-civ-spouse   \n",
       "14500    4           Private              9            Divorced   \n",
       "23399    4  Self-emp-not-inc              9             Widowed   \n",
       "...    ...               ...            ...                 ...   \n",
       "6265     4  Self-emp-not-inc              4  Married-civ-spouse   \n",
       "44732    0           Private              9       Never-married   \n",
       "38158    0           Private              9            Divorced   \n",
       "860      0           Private              7       Never-married   \n",
       "15795    3  Self-emp-not-inc              9  Married-civ-spouse   \n",
       "\n",
       "              occupation   relationship   race     sex  capitalgain  \\\n",
       "37193   Transport-moving        Husband  White    Male            0   \n",
       "31093     Prof-specialty        Husband  White    Male            0   \n",
       "33814    Farming-fishing        Husband  White    Male            0   \n",
       "14500       Craft-repair      Unmarried  White    Male            0   \n",
       "23399              Sales  Not-in-family  White    Male            0   \n",
       "...                  ...            ...    ...     ...          ...   \n",
       "6265     Farming-fishing        Husband  White    Male            0   \n",
       "44732  Machine-op-inspct      Own-child  White  Female            0   \n",
       "38158       Adm-clerical  Not-in-family  White  Female            0   \n",
       "860         Adm-clerical      Own-child  White  Female            0   \n",
       "15795    Farming-fishing        Husband  White    Male            0   \n",
       "\n",
       "       capitalloss  hoursperweek native-country  \n",
       "37193            0             2  United-States  \n",
       "31093            0             2  United-States  \n",
       "33814            0             2  United-States  \n",
       "14500            0             0  United-States  \n",
       "23399            0             4  United-States  \n",
       "...            ...           ...            ...  \n",
       "6265             0             1  United-States  \n",
       "44732            0             2  United-States  \n",
       "38158            0             2  United-States  \n",
       "860              0             0  United-States  \n",
       "15795            0             4  United-States  \n",
       "\n",
       "[36199 rows x 12 columns]"
      ]
     },
     "execution_count": 111,
     "metadata": {},
     "output_type": "execute_result"
    }
   ],
   "source": [
    "X_train"
   ]
  },
  {
   "cell_type": "markdown",
   "id": "3be89672",
   "metadata": {},
   "source": [
    "# Drop rows from y_train to match the number of rows in both X_train and Y_train"
   ]
  },
  {
   "cell_type": "code",
   "execution_count": 112,
   "id": "9337fedb",
   "metadata": {},
   "outputs": [],
   "source": [
    "def drop_rows(x,only_na):\n",
    "    x = x.drop(index=only_na)\n",
    "    return x  "
   ]
  },
  {
   "cell_type": "code",
   "execution_count": 113,
   "id": "b5a5a874",
   "metadata": {},
   "outputs": [],
   "source": [
    "y_train = drop_rows(y_train,only_na)"
   ]
  },
  {
   "cell_type": "code",
   "execution_count": 114,
   "id": "50f50492",
   "metadata": {},
   "outputs": [
    {
     "data": {
      "text/plain": [
       "37193    <=50K\n",
       "31093     >50K\n",
       "33814    <=50K\n",
       "14500    <=50K\n",
       "23399    <=50K\n",
       "         ...  \n",
       "6265     <=50K\n",
       "44732    <=50K\n",
       "38158    <=50K\n",
       "860      <=50K\n",
       "15795    <=50K\n",
       "Name: class, Length: 36199, dtype: object"
      ]
     },
     "execution_count": 114,
     "metadata": {},
     "output_type": "execute_result"
    }
   ],
   "source": [
    "y_train"
   ]
  },
  {
   "cell_type": "markdown",
   "id": "fe405888",
   "metadata": {},
   "source": [
    "Convert categorical variables to numerical variables \n",
    "1. Label Encoding"
   ]
  },
  {
   "cell_type": "code",
   "execution_count": 115,
   "id": "59780df6",
   "metadata": {},
   "outputs": [],
   "source": [
    "from sklearn import preprocessing\n",
    "label_encoder = preprocessing.LabelEncoder()"
   ]
  },
  {
   "cell_type": "code",
   "execution_count": 116,
   "id": "b0b34432",
   "metadata": {},
   "outputs": [],
   "source": [
    "def label_encoding(data,cat_cols):\n",
    "    if cat_cols is None:\n",
    "        data= label_encoder.fit_transform(data)\n",
    "        return data\n",
    "        \n",
    "    else:\n",
    "        for i in range(len(cat_cols)):\n",
    "            data[cat_cols[i]]= label_encoder.fit_transform(data[cat_cols[i]])\n",
    "        "
   ]
  },
  {
   "cell_type": "markdown",
   "id": "e32e83db",
   "metadata": {},
   "source": [
    "# Label encoding for X_train"
   ]
  },
  {
   "cell_type": "code",
   "execution_count": 117,
   "id": "97fc649c",
   "metadata": {},
   "outputs": [
    {
     "name": "stderr",
     "output_type": "stream",
     "text": [
      "C:\\Users\\sathv\\AppData\\Local\\Temp\\ipykernel_19972\\2140269111.py:8: SettingWithCopyWarning: \n",
      "A value is trying to be set on a copy of a slice from a DataFrame.\n",
      "Try using .loc[row_indexer,col_indexer] = value instead\n",
      "\n",
      "See the caveats in the documentation: https://pandas.pydata.org/pandas-docs/stable/user_guide/indexing.html#returning-a-view-versus-a-copy\n",
      "  data[cat_cols[i]]= label_encoder.fit_transform(data[cat_cols[i]])\n"
     ]
    }
   ],
   "source": [
    "label_encoding(X_train,cat_cols)"
   ]
  },
  {
   "cell_type": "code",
   "execution_count": 118,
   "id": "842c1a1a",
   "metadata": {
    "scrolled": true
   },
   "outputs": [
    {
     "data": {
      "text/html": [
       "<div>\n",
       "<style scoped>\n",
       "    .dataframe tbody tr th:only-of-type {\n",
       "        vertical-align: middle;\n",
       "    }\n",
       "\n",
       "    .dataframe tbody tr th {\n",
       "        vertical-align: top;\n",
       "    }\n",
       "\n",
       "    .dataframe thead th {\n",
       "        text-align: right;\n",
       "    }\n",
       "</style>\n",
       "<table border=\"1\" class=\"dataframe\">\n",
       "  <thead>\n",
       "    <tr style=\"text-align: right;\">\n",
       "      <th></th>\n",
       "      <th>age</th>\n",
       "      <th>workclass</th>\n",
       "      <th>education-num</th>\n",
       "      <th>marital-status</th>\n",
       "      <th>occupation</th>\n",
       "      <th>relationship</th>\n",
       "      <th>race</th>\n",
       "      <th>sex</th>\n",
       "      <th>capitalgain</th>\n",
       "      <th>capitalloss</th>\n",
       "      <th>hoursperweek</th>\n",
       "      <th>native-country</th>\n",
       "    </tr>\n",
       "  </thead>\n",
       "  <tbody>\n",
       "    <tr>\n",
       "      <th>37193</th>\n",
       "      <td>1</td>\n",
       "      <td>2</td>\n",
       "      <td>9</td>\n",
       "      <td>2</td>\n",
       "      <td>13</td>\n",
       "      <td>0</td>\n",
       "      <td>4</td>\n",
       "      <td>1</td>\n",
       "      <td>0</td>\n",
       "      <td>0</td>\n",
       "      <td>2</td>\n",
       "      <td>37</td>\n",
       "    </tr>\n",
       "    <tr>\n",
       "      <th>31093</th>\n",
       "      <td>2</td>\n",
       "      <td>5</td>\n",
       "      <td>14</td>\n",
       "      <td>2</td>\n",
       "      <td>9</td>\n",
       "      <td>0</td>\n",
       "      <td>4</td>\n",
       "      <td>1</td>\n",
       "      <td>0</td>\n",
       "      <td>0</td>\n",
       "      <td>2</td>\n",
       "      <td>37</td>\n",
       "    </tr>\n",
       "    <tr>\n",
       "      <th>33814</th>\n",
       "      <td>1</td>\n",
       "      <td>1</td>\n",
       "      <td>8</td>\n",
       "      <td>2</td>\n",
       "      <td>4</td>\n",
       "      <td>0</td>\n",
       "      <td>4</td>\n",
       "      <td>1</td>\n",
       "      <td>0</td>\n",
       "      <td>0</td>\n",
       "      <td>2</td>\n",
       "      <td>37</td>\n",
       "    </tr>\n",
       "    <tr>\n",
       "      <th>14500</th>\n",
       "      <td>4</td>\n",
       "      <td>2</td>\n",
       "      <td>9</td>\n",
       "      <td>0</td>\n",
       "      <td>2</td>\n",
       "      <td>4</td>\n",
       "      <td>4</td>\n",
       "      <td>1</td>\n",
       "      <td>0</td>\n",
       "      <td>0</td>\n",
       "      <td>0</td>\n",
       "      <td>37</td>\n",
       "    </tr>\n",
       "    <tr>\n",
       "      <th>23399</th>\n",
       "      <td>4</td>\n",
       "      <td>4</td>\n",
       "      <td>9</td>\n",
       "      <td>6</td>\n",
       "      <td>11</td>\n",
       "      <td>1</td>\n",
       "      <td>4</td>\n",
       "      <td>1</td>\n",
       "      <td>0</td>\n",
       "      <td>0</td>\n",
       "      <td>4</td>\n",
       "      <td>37</td>\n",
       "    </tr>\n",
       "    <tr>\n",
       "      <th>...</th>\n",
       "      <td>...</td>\n",
       "      <td>...</td>\n",
       "      <td>...</td>\n",
       "      <td>...</td>\n",
       "      <td>...</td>\n",
       "      <td>...</td>\n",
       "      <td>...</td>\n",
       "      <td>...</td>\n",
       "      <td>...</td>\n",
       "      <td>...</td>\n",
       "      <td>...</td>\n",
       "      <td>...</td>\n",
       "    </tr>\n",
       "    <tr>\n",
       "      <th>6265</th>\n",
       "      <td>4</td>\n",
       "      <td>4</td>\n",
       "      <td>4</td>\n",
       "      <td>2</td>\n",
       "      <td>4</td>\n",
       "      <td>0</td>\n",
       "      <td>4</td>\n",
       "      <td>1</td>\n",
       "      <td>0</td>\n",
       "      <td>0</td>\n",
       "      <td>1</td>\n",
       "      <td>37</td>\n",
       "    </tr>\n",
       "    <tr>\n",
       "      <th>44732</th>\n",
       "      <td>0</td>\n",
       "      <td>2</td>\n",
       "      <td>9</td>\n",
       "      <td>4</td>\n",
       "      <td>6</td>\n",
       "      <td>3</td>\n",
       "      <td>4</td>\n",
       "      <td>0</td>\n",
       "      <td>0</td>\n",
       "      <td>0</td>\n",
       "      <td>2</td>\n",
       "      <td>37</td>\n",
       "    </tr>\n",
       "    <tr>\n",
       "      <th>38158</th>\n",
       "      <td>0</td>\n",
       "      <td>2</td>\n",
       "      <td>9</td>\n",
       "      <td>0</td>\n",
       "      <td>0</td>\n",
       "      <td>1</td>\n",
       "      <td>4</td>\n",
       "      <td>0</td>\n",
       "      <td>0</td>\n",
       "      <td>0</td>\n",
       "      <td>2</td>\n",
       "      <td>37</td>\n",
       "    </tr>\n",
       "    <tr>\n",
       "      <th>860</th>\n",
       "      <td>0</td>\n",
       "      <td>2</td>\n",
       "      <td>7</td>\n",
       "      <td>4</td>\n",
       "      <td>0</td>\n",
       "      <td>3</td>\n",
       "      <td>4</td>\n",
       "      <td>0</td>\n",
       "      <td>0</td>\n",
       "      <td>0</td>\n",
       "      <td>0</td>\n",
       "      <td>37</td>\n",
       "    </tr>\n",
       "    <tr>\n",
       "      <th>15795</th>\n",
       "      <td>3</td>\n",
       "      <td>4</td>\n",
       "      <td>9</td>\n",
       "      <td>2</td>\n",
       "      <td>4</td>\n",
       "      <td>0</td>\n",
       "      <td>4</td>\n",
       "      <td>1</td>\n",
       "      <td>0</td>\n",
       "      <td>0</td>\n",
       "      <td>4</td>\n",
       "      <td>37</td>\n",
       "    </tr>\n",
       "  </tbody>\n",
       "</table>\n",
       "<p>36199 rows × 12 columns</p>\n",
       "</div>"
      ],
      "text/plain": [
       "       age  workclass  education-num  marital-status  occupation  \\\n",
       "37193    1          2              9               2          13   \n",
       "31093    2          5             14               2           9   \n",
       "33814    1          1              8               2           4   \n",
       "14500    4          2              9               0           2   \n",
       "23399    4          4              9               6          11   \n",
       "...    ...        ...            ...             ...         ...   \n",
       "6265     4          4              4               2           4   \n",
       "44732    0          2              9               4           6   \n",
       "38158    0          2              9               0           0   \n",
       "860      0          2              7               4           0   \n",
       "15795    3          4              9               2           4   \n",
       "\n",
       "       relationship  race  sex  capitalgain  capitalloss  hoursperweek  \\\n",
       "37193             0     4    1            0            0             2   \n",
       "31093             0     4    1            0            0             2   \n",
       "33814             0     4    1            0            0             2   \n",
       "14500             4     4    1            0            0             0   \n",
       "23399             1     4    1            0            0             4   \n",
       "...             ...   ...  ...          ...          ...           ...   \n",
       "6265              0     4    1            0            0             1   \n",
       "44732             3     4    0            0            0             2   \n",
       "38158             1     4    0            0            0             2   \n",
       "860               3     4    0            0            0             0   \n",
       "15795             0     4    1            0            0             4   \n",
       "\n",
       "       native-country  \n",
       "37193              37  \n",
       "31093              37  \n",
       "33814              37  \n",
       "14500              37  \n",
       "23399              37  \n",
       "...               ...  \n",
       "6265               37  \n",
       "44732              37  \n",
       "38158              37  \n",
       "860                37  \n",
       "15795              37  \n",
       "\n",
       "[36199 rows x 12 columns]"
      ]
     },
     "execution_count": 118,
     "metadata": {},
     "output_type": "execute_result"
    }
   ],
   "source": [
    "X_train"
   ]
  },
  {
   "cell_type": "code",
   "execution_count": 119,
   "id": "9cbbf25e",
   "metadata": {},
   "outputs": [
    {
     "data": {
      "text/plain": [
       "37193    1\n",
       "31093    1\n",
       "33814    1\n",
       "14500    1\n",
       "23399    1\n",
       "        ..\n",
       "6265     1\n",
       "44732    0\n",
       "38158    0\n",
       "860      0\n",
       "15795    1\n",
       "Name: sex, Length: 36199, dtype: int32"
      ]
     },
     "execution_count": 119,
     "metadata": {},
     "output_type": "execute_result"
    }
   ],
   "source": [
    "X_train[\"sex\"]"
   ]
  },
  {
   "cell_type": "markdown",
   "id": "131aadb9",
   "metadata": {},
   "source": [
    "# Label encoding for y_train"
   ]
  },
  {
   "cell_type": "code",
   "execution_count": 120,
   "id": "706eb74e",
   "metadata": {
    "scrolled": true
   },
   "outputs": [
    {
     "data": {
      "text/plain": [
       "37193    <=50K\n",
       "31093     >50K\n",
       "33814    <=50K\n",
       "14500    <=50K\n",
       "23399    <=50K\n",
       "         ...  \n",
       "6265     <=50K\n",
       "44732    <=50K\n",
       "38158    <=50K\n",
       "860      <=50K\n",
       "15795    <=50K\n",
       "Name: class, Length: 36199, dtype: object"
      ]
     },
     "execution_count": 120,
     "metadata": {},
     "output_type": "execute_result"
    }
   ],
   "source": [
    "y_train"
   ]
  },
  {
   "cell_type": "code",
   "execution_count": 121,
   "id": "187c276d",
   "metadata": {},
   "outputs": [],
   "source": [
    "# col = None\n",
    "y_train = label_encoding(y_train, None)"
   ]
  },
  {
   "cell_type": "code",
   "execution_count": 122,
   "id": "c94c8913",
   "metadata": {},
   "outputs": [
    {
     "data": {
      "text/plain": [
       "array([0, 1, 0, ..., 0, 0, 0])"
      ]
     },
     "execution_count": 122,
     "metadata": {},
     "output_type": "execute_result"
    }
   ],
   "source": [
    "y_train"
   ]
  },
  {
   "cell_type": "markdown",
   "id": "1f6eb984",
   "metadata": {},
   "source": [
    "# Label encoding for X_test"
   ]
  },
  {
   "cell_type": "code",
   "execution_count": 123,
   "id": "8aa8f016",
   "metadata": {},
   "outputs": [],
   "source": [
    "label_encoding(X_test, cat_cols)"
   ]
  },
  {
   "cell_type": "code",
   "execution_count": 124,
   "id": "f469ef13",
   "metadata": {},
   "outputs": [
    {
     "data": {
      "text/html": [
       "<div>\n",
       "<style scoped>\n",
       "    .dataframe tbody tr th:only-of-type {\n",
       "        vertical-align: middle;\n",
       "    }\n",
       "\n",
       "    .dataframe tbody tr th {\n",
       "        vertical-align: top;\n",
       "    }\n",
       "\n",
       "    .dataframe thead th {\n",
       "        text-align: right;\n",
       "    }\n",
       "</style>\n",
       "<table border=\"1\" class=\"dataframe\">\n",
       "  <thead>\n",
       "    <tr style=\"text-align: right;\">\n",
       "      <th></th>\n",
       "      <th>age</th>\n",
       "      <th>workclass</th>\n",
       "      <th>education-num</th>\n",
       "      <th>marital-status</th>\n",
       "      <th>occupation</th>\n",
       "      <th>relationship</th>\n",
       "      <th>race</th>\n",
       "      <th>sex</th>\n",
       "      <th>capitalgain</th>\n",
       "      <th>capitalloss</th>\n",
       "      <th>hoursperweek</th>\n",
       "      <th>native-country</th>\n",
       "    </tr>\n",
       "  </thead>\n",
       "  <tbody>\n",
       "    <tr>\n",
       "      <th>7762</th>\n",
       "      <td>0</td>\n",
       "      <td>3</td>\n",
       "      <td>9</td>\n",
       "      <td>4</td>\n",
       "      <td>7</td>\n",
       "      <td>1</td>\n",
       "      <td>4</td>\n",
       "      <td>1</td>\n",
       "      <td>0</td>\n",
       "      <td>0</td>\n",
       "      <td>0</td>\n",
       "      <td>38</td>\n",
       "    </tr>\n",
       "    <tr>\n",
       "      <th>23881</th>\n",
       "      <td>0</td>\n",
       "      <td>3</td>\n",
       "      <td>8</td>\n",
       "      <td>4</td>\n",
       "      <td>11</td>\n",
       "      <td>3</td>\n",
       "      <td>4</td>\n",
       "      <td>0</td>\n",
       "      <td>0</td>\n",
       "      <td>0</td>\n",
       "      <td>0</td>\n",
       "      <td>38</td>\n",
       "    </tr>\n",
       "    <tr>\n",
       "      <th>30507</th>\n",
       "      <td>0</td>\n",
       "      <td>1</td>\n",
       "      <td>9</td>\n",
       "      <td>4</td>\n",
       "      <td>5</td>\n",
       "      <td>2</td>\n",
       "      <td>2</td>\n",
       "      <td>1</td>\n",
       "      <td>0</td>\n",
       "      <td>0</td>\n",
       "      <td>2</td>\n",
       "      <td>38</td>\n",
       "    </tr>\n",
       "    <tr>\n",
       "      <th>28911</th>\n",
       "      <td>0</td>\n",
       "      <td>3</td>\n",
       "      <td>10</td>\n",
       "      <td>4</td>\n",
       "      <td>11</td>\n",
       "      <td>3</td>\n",
       "      <td>4</td>\n",
       "      <td>0</td>\n",
       "      <td>0</td>\n",
       "      <td>0</td>\n",
       "      <td>1</td>\n",
       "      <td>38</td>\n",
       "    </tr>\n",
       "    <tr>\n",
       "      <th>19484</th>\n",
       "      <td>3</td>\n",
       "      <td>3</td>\n",
       "      <td>9</td>\n",
       "      <td>4</td>\n",
       "      <td>6</td>\n",
       "      <td>4</td>\n",
       "      <td>0</td>\n",
       "      <td>1</td>\n",
       "      <td>0</td>\n",
       "      <td>0</td>\n",
       "      <td>3</td>\n",
       "      <td>32</td>\n",
       "    </tr>\n",
       "    <tr>\n",
       "      <th>...</th>\n",
       "      <td>...</td>\n",
       "      <td>...</td>\n",
       "      <td>...</td>\n",
       "      <td>...</td>\n",
       "      <td>...</td>\n",
       "      <td>...</td>\n",
       "      <td>...</td>\n",
       "      <td>...</td>\n",
       "      <td>...</td>\n",
       "      <td>...</td>\n",
       "      <td>...</td>\n",
       "      <td>...</td>\n",
       "    </tr>\n",
       "    <tr>\n",
       "      <th>43046</th>\n",
       "      <td>4</td>\n",
       "      <td>5</td>\n",
       "      <td>14</td>\n",
       "      <td>5</td>\n",
       "      <td>11</td>\n",
       "      <td>4</td>\n",
       "      <td>4</td>\n",
       "      <td>0</td>\n",
       "      <td>0</td>\n",
       "      <td>0</td>\n",
       "      <td>2</td>\n",
       "      <td>38</td>\n",
       "    </tr>\n",
       "    <tr>\n",
       "      <th>18798</th>\n",
       "      <td>0</td>\n",
       "      <td>3</td>\n",
       "      <td>9</td>\n",
       "      <td>4</td>\n",
       "      <td>7</td>\n",
       "      <td>3</td>\n",
       "      <td>4</td>\n",
       "      <td>1</td>\n",
       "      <td>0</td>\n",
       "      <td>0</td>\n",
       "      <td>2</td>\n",
       "      <td>38</td>\n",
       "    </tr>\n",
       "    <tr>\n",
       "      <th>29519</th>\n",
       "      <td>2</td>\n",
       "      <td>3</td>\n",
       "      <td>10</td>\n",
       "      <td>0</td>\n",
       "      <td>13</td>\n",
       "      <td>1</td>\n",
       "      <td>2</td>\n",
       "      <td>1</td>\n",
       "      <td>0</td>\n",
       "      <td>0</td>\n",
       "      <td>3</td>\n",
       "      <td>38</td>\n",
       "    </tr>\n",
       "    <tr>\n",
       "      <th>550</th>\n",
       "      <td>3</td>\n",
       "      <td>5</td>\n",
       "      <td>10</td>\n",
       "      <td>0</td>\n",
       "      <td>3</td>\n",
       "      <td>1</td>\n",
       "      <td>4</td>\n",
       "      <td>1</td>\n",
       "      <td>0</td>\n",
       "      <td>0</td>\n",
       "      <td>3</td>\n",
       "      <td>38</td>\n",
       "    </tr>\n",
       "    <tr>\n",
       "      <th>14337</th>\n",
       "      <td>2</td>\n",
       "      <td>3</td>\n",
       "      <td>9</td>\n",
       "      <td>2</td>\n",
       "      <td>2</td>\n",
       "      <td>0</td>\n",
       "      <td>4</td>\n",
       "      <td>1</td>\n",
       "      <td>0</td>\n",
       "      <td>0</td>\n",
       "      <td>2</td>\n",
       "      <td>38</td>\n",
       "    </tr>\n",
       "  </tbody>\n",
       "</table>\n",
       "<p>9769 rows × 12 columns</p>\n",
       "</div>"
      ],
      "text/plain": [
       "       age  workclass  education-num  marital-status  occupation  \\\n",
       "7762     0          3              9               4           7   \n",
       "23881    0          3              8               4          11   \n",
       "30507    0          1              9               4           5   \n",
       "28911    0          3             10               4          11   \n",
       "19484    3          3              9               4           6   \n",
       "...    ...        ...            ...             ...         ...   \n",
       "43046    4          5             14               5          11   \n",
       "18798    0          3              9               4           7   \n",
       "29519    2          3             10               0          13   \n",
       "550      3          5             10               0           3   \n",
       "14337    2          3              9               2           2   \n",
       "\n",
       "       relationship  race  sex  capitalgain  capitalloss  hoursperweek  \\\n",
       "7762              1     4    1            0            0             0   \n",
       "23881             3     4    0            0            0             0   \n",
       "30507             2     2    1            0            0             2   \n",
       "28911             3     4    0            0            0             1   \n",
       "19484             4     0    1            0            0             3   \n",
       "...             ...   ...  ...          ...          ...           ...   \n",
       "43046             4     4    0            0            0             2   \n",
       "18798             3     4    1            0            0             2   \n",
       "29519             1     2    1            0            0             3   \n",
       "550               1     4    1            0            0             3   \n",
       "14337             0     4    1            0            0             2   \n",
       "\n",
       "       native-country  \n",
       "7762               38  \n",
       "23881              38  \n",
       "30507              38  \n",
       "28911              38  \n",
       "19484              32  \n",
       "...               ...  \n",
       "43046              38  \n",
       "18798              38  \n",
       "29519              38  \n",
       "550                38  \n",
       "14337              38  \n",
       "\n",
       "[9769 rows x 12 columns]"
      ]
     },
     "execution_count": 124,
     "metadata": {},
     "output_type": "execute_result"
    }
   ],
   "source": [
    "X_test"
   ]
  },
  {
   "cell_type": "markdown",
   "id": "cd91e8f8",
   "metadata": {},
   "source": [
    "# Label encoding for y_test"
   ]
  },
  {
   "cell_type": "code",
   "execution_count": 125,
   "id": "4fc84ade",
   "metadata": {},
   "outputs": [],
   "source": [
    "y_test= label_encoding(y_test, None)"
   ]
  },
  {
   "cell_type": "code",
   "execution_count": 126,
   "id": "6a294fa7",
   "metadata": {
    "scrolled": true
   },
   "outputs": [
    {
     "data": {
      "text/plain": [
       "array([0, 0, 0, ..., 0, 0, 1])"
      ]
     },
     "execution_count": 126,
     "metadata": {},
     "output_type": "execute_result"
    }
   ],
   "source": [
    "y_test"
   ]
  },
  {
   "cell_type": "markdown",
   "id": "4270cac4",
   "metadata": {},
   "source": [
    "# Train the model with train data"
   ]
  },
  {
   "cell_type": "code",
   "execution_count": 127,
   "id": "3f4e697b",
   "metadata": {},
   "outputs": [],
   "source": [
    "from sklearn.linear_model import LogisticRegression\n",
    "from sklearn.metrics import confusion_matrix\n",
    "logisticRegr = LogisticRegression()"
   ]
  },
  {
   "cell_type": "code",
   "execution_count": 128,
   "id": "4d99e2a2",
   "metadata": {},
   "outputs": [],
   "source": [
    "def logistic_regression_train(logisticRegr,x,y):\n",
    "    logisticRegr.fit(x,y)\n",
    "def logistic_regression_test(logisticRegr,x):\n",
    "    y_pred = logisticRegr.predict_proba(x)\n",
    "    return y_pred\n",
    "def logistic_regression_pred_test(logisticRegr,x):\n",
    "    y_pred_test = logisticRegr.predict(x)\n",
    "    return y_pred_test\n",
    "\n",
    "def average_diff(y_pred, X_test):\n",
    "    column_i = y_pred.T[0]\n",
    "    X_test_copy = X_test.copy()\n",
    "    X_test_copy['preds'] = column_i\n",
    "    Female = X_test_copy[\"preds\"][X_test_copy[\"sex\"] == 0]\n",
    "    female_average = sum(Female)/len(Female)\n",
    "    male = X_test_copy[\"preds\"][X_test_copy[\"sex\"] == 1]\n",
    "    male_average = sum(male)/len(male)\n",
    "    diff = (female_average - male_average)\n",
    "    return diff \n",
    "\n",
    "def accuracy(y_test, y_pred_final):\n",
    "#     y_pred_final = np.argmax(y_pred, axis=1)\n",
    "    tn, fp, fn, tp = confusion_matrix(y_test, y_pred_final).ravel()\n",
    "    true_positive  = tn\n",
    "    false_positive = fn\n",
    "    true_negative  = tp\n",
    "    false_negative = fp\n",
    "    accuracy = (true_positive + true_negative) / (true_negative + true_positive + false_positive + false_negative )\n",
    "    return(accuracy)\n",
    "    \n",
    "    "
   ]
  },
  {
   "cell_type": "markdown",
   "id": "4398a135",
   "metadata": {},
   "source": [
    "# Training the model"
   ]
  },
  {
   "cell_type": "code",
   "execution_count": 129,
   "id": "79cc208e",
   "metadata": {
    "scrolled": true
   },
   "outputs": [
    {
     "name": "stderr",
     "output_type": "stream",
     "text": [
      "C:\\Users\\sathv\\anaconda3\\lib\\site-packages\\sklearn\\linear_model\\_logistic.py:814: ConvergenceWarning: lbfgs failed to converge (status=1):\n",
      "STOP: TOTAL NO. of ITERATIONS REACHED LIMIT.\n",
      "\n",
      "Increase the number of iterations (max_iter) or scale the data as shown in:\n",
      "    https://scikit-learn.org/stable/modules/preprocessing.html\n",
      "Please also refer to the documentation for alternative solver options:\n",
      "    https://scikit-learn.org/stable/modules/linear_model.html#logistic-regression\n",
      "  n_iter_i = _check_optimize_result(\n"
     ]
    }
   ],
   "source": [
    "model = logistic_regression_train(logisticRegr, X_train, y_train)"
   ]
  },
  {
   "cell_type": "markdown",
   "id": "a9da9c56",
   "metadata": {},
   "source": [
    "# Check predictions on dirty test data"
   ]
  },
  {
   "cell_type": "code",
   "execution_count": 130,
   "id": "f49c7e50",
   "metadata": {},
   "outputs": [],
   "source": [
    "y_pred = logistic_regression_test(logisticRegr, X_test)"
   ]
  },
  {
   "cell_type": "code",
   "execution_count": 131,
   "id": "be1116b9",
   "metadata": {},
   "outputs": [
    {
     "data": {
      "text/plain": [
       "array([[0.97917155, 0.02082845],\n",
       "       [0.99542328, 0.00457672],\n",
       "       [0.95353853, 0.04646147],\n",
       "       ...,\n",
       "       [0.67261535, 0.32738465],\n",
       "       [0.59927653, 0.40072347],\n",
       "       [0.83370887, 0.16629113]])"
      ]
     },
     "execution_count": 131,
     "metadata": {},
     "output_type": "execute_result"
    }
   ],
   "source": [
    "y_pred"
   ]
  },
  {
   "cell_type": "code",
   "execution_count": 132,
   "id": "f33810bf",
   "metadata": {},
   "outputs": [],
   "source": [
    "dirty_diff = average_diff(y_pred, X_test)"
   ]
  },
  {
   "cell_type": "code",
   "execution_count": 133,
   "id": "a6d9bc4c",
   "metadata": {},
   "outputs": [
    {
     "data": {
      "text/plain": [
       "0.1882626655935421"
      ]
     },
     "execution_count": 133,
     "metadata": {},
     "output_type": "execute_result"
    }
   ],
   "source": [
    "dirty_diff"
   ]
  },
  {
   "cell_type": "markdown",
   "id": "1452dc59",
   "metadata": {},
   "source": [
    "# Checking accuracy of the model"
   ]
  },
  {
   "cell_type": "code",
   "execution_count": 134,
   "id": "af933e97",
   "metadata": {},
   "outputs": [],
   "source": [
    "y_pred_test = logistic_regression_pred_test(logisticRegr, X_test)"
   ]
  },
  {
   "cell_type": "code",
   "execution_count": 135,
   "id": "0951a57b",
   "metadata": {},
   "outputs": [
    {
     "data": {
      "text/plain": [
       "array([0, 0, 0, ..., 0, 0, 0])"
      ]
     },
     "execution_count": 135,
     "metadata": {},
     "output_type": "execute_result"
    }
   ],
   "source": [
    "y_pred_test"
   ]
  },
  {
   "cell_type": "code",
   "execution_count": 136,
   "id": "75cdc3b9",
   "metadata": {},
   "outputs": [],
   "source": [
    "accur = accuracy(y_test, y_pred_test)"
   ]
  },
  {
   "cell_type": "code",
   "execution_count": 137,
   "id": "faaa8556",
   "metadata": {},
   "outputs": [
    {
     "data": {
      "text/plain": [
       "0.8264919643771113"
      ]
     },
     "execution_count": 137,
     "metadata": {},
     "output_type": "execute_result"
    }
   ],
   "source": [
    "accur"
   ]
  },
  {
   "cell_type": "code",
   "execution_count": 138,
   "id": "a00c1930",
   "metadata": {},
   "outputs": [],
   "source": [
    "dirty_test_score = logisticRegr.score(X_test, y_test)"
   ]
  },
  {
   "cell_type": "code",
   "execution_count": 139,
   "id": "4559c76a",
   "metadata": {},
   "outputs": [
    {
     "data": {
      "text/plain": [
       "0.8264919643771113"
      ]
     },
     "execution_count": 139,
     "metadata": {},
     "output_type": "execute_result"
    }
   ],
   "source": [
    "dirty_test_score"
   ]
  },
  {
   "cell_type": "markdown",
   "id": "1cffedd1",
   "metadata": {},
   "source": [
    "# Testing on clean test data"
   ]
  },
  {
   "cell_type": "code",
   "execution_count": 140,
   "id": "7b0c36e1",
   "metadata": {},
   "outputs": [],
   "source": [
    "X_clean_train, X_clean_test, y_clean_train, y_clean_test = train_test_split(X, y, test_size=0.20, random_state = 42)"
   ]
  },
  {
   "cell_type": "code",
   "execution_count": 141,
   "id": "65d89bc9",
   "metadata": {},
   "outputs": [
    {
     "data": {
      "text/plain": [
       "age                  0\n",
       "workclass         2222\n",
       "education-num        0\n",
       "marital-status       0\n",
       "occupation        2231\n",
       "relationship         0\n",
       "race                 0\n",
       "sex                  0\n",
       "capitalgain          0\n",
       "capitalloss          0\n",
       "hoursperweek         0\n",
       "native-country     677\n",
       "dtype: int64"
      ]
     },
     "execution_count": 141,
     "metadata": {},
     "output_type": "execute_result"
    }
   ],
   "source": [
    "X_clean_train.isnull().sum()"
   ]
  },
  {
   "cell_type": "code",
   "execution_count": 142,
   "id": "58bcb0a1",
   "metadata": {},
   "outputs": [
    {
     "data": {
      "text/plain": [
       "0"
      ]
     },
     "execution_count": 142,
     "metadata": {},
     "output_type": "execute_result"
    }
   ],
   "source": [
    "y_clean_train.isnull().sum()"
   ]
  },
  {
   "cell_type": "code",
   "execution_count": 143,
   "id": "b5f95c1f",
   "metadata": {
    "scrolled": true
   },
   "outputs": [
    {
     "data": {
      "text/plain": [
       "age                 0\n",
       "workclass         577\n",
       "education-num       0\n",
       "marital-status      0\n",
       "occupation        578\n",
       "relationship        0\n",
       "race                0\n",
       "sex                 0\n",
       "capitalgain         0\n",
       "capitalloss         0\n",
       "hoursperweek        0\n",
       "native-country    180\n",
       "dtype: int64"
      ]
     },
     "execution_count": 143,
     "metadata": {},
     "output_type": "execute_result"
    }
   ],
   "source": [
    "X_clean_test.isnull().sum()"
   ]
  },
  {
   "cell_type": "code",
   "execution_count": 144,
   "id": "9f15bf52",
   "metadata": {},
   "outputs": [
    {
     "name": "stdout",
     "output_type": "stream",
     "text": [
      "<class 'pandas.core.frame.DataFrame'>\n",
      "Int64Index: 9769 entries, 7762 to 14337\n",
      "Data columns (total 12 columns):\n",
      " #   Column          Non-Null Count  Dtype \n",
      "---  ------          --------------  ----- \n",
      " 0   age             9769 non-null   int64 \n",
      " 1   workclass       9192 non-null   object\n",
      " 2   education-num   9769 non-null   int64 \n",
      " 3   marital-status  9769 non-null   object\n",
      " 4   occupation      9191 non-null   object\n",
      " 5   relationship    9769 non-null   object\n",
      " 6   race            9769 non-null   object\n",
      " 7   sex             9769 non-null   object\n",
      " 8   capitalgain     9769 non-null   int64 \n",
      " 9   capitalloss     9769 non-null   int64 \n",
      " 10  hoursperweek    9769 non-null   int64 \n",
      " 11  native-country  9589 non-null   object\n",
      "dtypes: int64(5), object(7)\n",
      "memory usage: 992.2+ KB\n"
     ]
    }
   ],
   "source": [
    "X_clean_test.info()"
   ]
  },
  {
   "cell_type": "code",
   "execution_count": 145,
   "id": "e9e8aeda",
   "metadata": {},
   "outputs": [
    {
     "data": {
      "text/plain": [
       "0"
      ]
     },
     "execution_count": 145,
     "metadata": {},
     "output_type": "execute_result"
    }
   ],
   "source": [
    "y_clean_test.isnull().sum()"
   ]
  },
  {
   "cell_type": "code",
   "execution_count": 146,
   "id": "5a4d9d60",
   "metadata": {
    "scrolled": true
   },
   "outputs": [
    {
     "name": "stderr",
     "output_type": "stream",
     "text": [
      "C:\\Users\\sathv\\AppData\\Local\\Temp\\ipykernel_19972\\3080944258.py:1: DeprecationWarning: `np.object` is a deprecated alias for the builtin `object`. To silence this warning, use `object` by itself. Doing this will not modify any behavior and is safe. \n",
      "Deprecated in NumPy 1.20; for more details and guidance: https://numpy.org/devdocs/release/1.20.0-notes.html#deprecations\n",
      "  missing_values, cat_clean_cols = variable(X_clean_train, np.object)\n"
     ]
    }
   ],
   "source": [
    "missing_values, cat_clean_cols = variable(X_clean_train, np.object)"
   ]
  },
  {
   "cell_type": "code",
   "execution_count": 147,
   "id": "853969c7",
   "metadata": {},
   "outputs": [
    {
     "data": {
      "text/plain": [
       "['workclass', 'occupation', 'native-country']"
      ]
     },
     "execution_count": 147,
     "metadata": {},
     "output_type": "execute_result"
    }
   ],
   "source": [
    "missing_values"
   ]
  },
  {
   "cell_type": "code",
   "execution_count": 148,
   "id": "275b15b4",
   "metadata": {},
   "outputs": [],
   "source": [
    "X_clean_train,only_na = remove(X_clean_train)"
   ]
  },
  {
   "cell_type": "code",
   "execution_count": 149,
   "id": "8d16dc74",
   "metadata": {
    "scrolled": true
   },
   "outputs": [
    {
     "name": "stdout",
     "output_type": "stream",
     "text": [
      "<class 'pandas.core.frame.DataFrame'>\n",
      "Int64Index: 36199 entries, 37193 to 15795\n",
      "Data columns (total 12 columns):\n",
      " #   Column          Non-Null Count  Dtype \n",
      "---  ------          --------------  ----- \n",
      " 0   age             36199 non-null  int64 \n",
      " 1   workclass       36199 non-null  object\n",
      " 2   education-num   36199 non-null  int64 \n",
      " 3   marital-status  36199 non-null  object\n",
      " 4   occupation      36199 non-null  object\n",
      " 5   relationship    36199 non-null  object\n",
      " 6   race            36199 non-null  object\n",
      " 7   sex             36199 non-null  object\n",
      " 8   capitalgain     36199 non-null  int64 \n",
      " 9   capitalloss     36199 non-null  int64 \n",
      " 10  hoursperweek    36199 non-null  int64 \n",
      " 11  native-country  36199 non-null  object\n",
      "dtypes: int64(5), object(7)\n",
      "memory usage: 3.6+ MB\n"
     ]
    }
   ],
   "source": [
    "X_clean_train.info()"
   ]
  },
  {
   "cell_type": "code",
   "execution_count": 150,
   "id": "bb883951",
   "metadata": {},
   "outputs": [],
   "source": [
    "def drop_rows(x,only_na):\n",
    "    x = x.drop(index=only_na)\n",
    "    return x  "
   ]
  },
  {
   "cell_type": "code",
   "execution_count": 151,
   "id": "67e7e4b5",
   "metadata": {},
   "outputs": [],
   "source": [
    "y_clean_train = drop_rows(y_clean_train,only_na)"
   ]
  },
  {
   "cell_type": "code",
   "execution_count": 152,
   "id": "00f16389",
   "metadata": {
    "scrolled": false
   },
   "outputs": [
    {
     "data": {
      "text/plain": [
       "37193    <=50K\n",
       "31093     >50K\n",
       "33814    <=50K\n",
       "14500    <=50K\n",
       "23399    <=50K\n",
       "         ...  \n",
       "6265     <=50K\n",
       "44732    <=50K\n",
       "38158    <=50K\n",
       "860      <=50K\n",
       "15795    <=50K\n",
       "Name: class, Length: 36199, dtype: object"
      ]
     },
     "execution_count": 152,
     "metadata": {},
     "output_type": "execute_result"
    }
   ],
   "source": [
    "y_clean_train"
   ]
  },
  {
   "cell_type": "code",
   "execution_count": 153,
   "id": "779e6142",
   "metadata": {
    "scrolled": true
   },
   "outputs": [
    {
     "name": "stderr",
     "output_type": "stream",
     "text": [
      "C:\\Users\\sathv\\AppData\\Local\\Temp\\ipykernel_19972\\4278472475.py:1: DeprecationWarning: `np.object` is a deprecated alias for the builtin `object`. To silence this warning, use `object` by itself. Doing this will not modify any behavior and is safe. \n",
      "Deprecated in NumPy 1.20; for more details and guidance: https://numpy.org/devdocs/release/1.20.0-notes.html#deprecations\n",
      "  missing_values_test, cat_clean_cols_test = variable(X_clean_test, np.object)\n"
     ]
    }
   ],
   "source": [
    "missing_values_test, cat_clean_cols_test = variable(X_clean_test, np.object)"
   ]
  },
  {
   "cell_type": "code",
   "execution_count": 154,
   "id": "c8b317fc",
   "metadata": {},
   "outputs": [
    {
     "data": {
      "text/plain": [
       "['workclass', 'occupation', 'native-country']"
      ]
     },
     "execution_count": 154,
     "metadata": {},
     "output_type": "execute_result"
    }
   ],
   "source": [
    "missing_values_test"
   ]
  },
  {
   "cell_type": "code",
   "execution_count": 155,
   "id": "9e29fad1",
   "metadata": {},
   "outputs": [],
   "source": [
    "# X_clean_test,only_na_test = remove(X_clean_test)"
   ]
  },
  {
   "cell_type": "code",
   "execution_count": 156,
   "id": "7b5478e7",
   "metadata": {
    "scrolled": true
   },
   "outputs": [
    {
     "data": {
      "text/plain": [
       "Int64Index([ 7762, 23881, 30507, 28911, 19484, 43031, 28188, 12761, 40834,\n",
       "            27875,\n",
       "            ...\n",
       "            42704,  9137, 29925, 19791,  4178, 43046, 18798, 29519,   550,\n",
       "            14337],\n",
       "           dtype='int64', length=9769)"
      ]
     },
     "execution_count": 156,
     "metadata": {},
     "output_type": "execute_result"
    }
   ],
   "source": [
    "X_clean_test.index"
   ]
  },
  {
   "cell_type": "code",
   "execution_count": 157,
   "id": "26252573",
   "metadata": {},
   "outputs": [
    {
     "name": "stdout",
     "output_type": "stream",
     "text": [
      "<class 'pandas.core.frame.DataFrame'>\n",
      "Int64Index: 9769 entries, 7762 to 14337\n",
      "Data columns (total 12 columns):\n",
      " #   Column          Non-Null Count  Dtype \n",
      "---  ------          --------------  ----- \n",
      " 0   age             9769 non-null   int64 \n",
      " 1   workclass       9192 non-null   object\n",
      " 2   education-num   9769 non-null   int64 \n",
      " 3   marital-status  9769 non-null   object\n",
      " 4   occupation      9191 non-null   object\n",
      " 5   relationship    9769 non-null   object\n",
      " 6   race            9769 non-null   object\n",
      " 7   sex             9769 non-null   object\n",
      " 8   capitalgain     9769 non-null   int64 \n",
      " 9   capitalloss     9769 non-null   int64 \n",
      " 10  hoursperweek    9769 non-null   int64 \n",
      " 11  native-country  9589 non-null   object\n",
      "dtypes: int64(5), object(7)\n",
      "memory usage: 992.2+ KB\n"
     ]
    }
   ],
   "source": [
    "X_clean_test.info()"
   ]
  },
  {
   "cell_type": "code",
   "execution_count": 158,
   "id": "ebb1abdb",
   "metadata": {},
   "outputs": [],
   "source": [
    "new_data = X_clean_test.dropna()"
   ]
  },
  {
   "cell_type": "code",
   "execution_count": 159,
   "id": "d6fba48a",
   "metadata": {
    "scrolled": true
   },
   "outputs": [
    {
     "data": {
      "text/plain": [
       "Int64Index([ 7762, 23881, 30507, 28911, 19484, 43031, 28188, 12761, 40834,\n",
       "            27875,\n",
       "            ...\n",
       "            42704,  9137, 29925, 19791,  4178, 43046, 18798, 29519,   550,\n",
       "            14337],\n",
       "           dtype='int64', length=9023)"
      ]
     },
     "execution_count": 159,
     "metadata": {},
     "output_type": "execute_result"
    }
   ],
   "source": [
    "new_data.index"
   ]
  },
  {
   "cell_type": "code",
   "execution_count": 160,
   "id": "8cd29add",
   "metadata": {},
   "outputs": [],
   "source": [
    "only_na_test = X_clean_test[~X_clean_test.index.isin(new_data.index)]"
   ]
  },
  {
   "cell_type": "code",
   "execution_count": 161,
   "id": "0eade775",
   "metadata": {},
   "outputs": [],
   "source": [
    "only_na_test = list(only_na_test.index)"
   ]
  },
  {
   "cell_type": "code",
   "execution_count": 162,
   "id": "0e2bf9f8",
   "metadata": {},
   "outputs": [
    {
     "data": {
      "text/plain": [
       "[36230,\n",
       " 2372,\n",
       " 24735,\n",
       " 31220,\n",
       " 20757,\n",
       " 8871,\n",
       " 2210,\n",
       " 16399,\n",
       " 43069,\n",
       " 8225,\n",
       " 25056,\n",
       " 5803,\n",
       " 42296,\n",
       " 38656,\n",
       " 13182,\n",
       " 42906,\n",
       " 21812,\n",
       " 25726,\n",
       " 3211,\n",
       " 27522,\n",
       " 38296,\n",
       " 25588,\n",
       " 35339,\n",
       " 26800,\n",
       " 40602,\n",
       " 4215,\n",
       " 32310,\n",
       " 7096,\n",
       " 29436,\n",
       " 32213,\n",
       " 4519,\n",
       " 12936,\n",
       " 27019,\n",
       " 23918,\n",
       " 40017,\n",
       " 34154,\n",
       " 38399,\n",
       " 27133,\n",
       " 33802,\n",
       " 41823,\n",
       " 25458,\n",
       " 13370,\n",
       " 8853,\n",
       " 10342,\n",
       " 1175,\n",
       " 29981,\n",
       " 6178,\n",
       " 48118,\n",
       " 16810,\n",
       " 22910,\n",
       " 12004,\n",
       " 47895,\n",
       " 10126,\n",
       " 31101,\n",
       " 5921,\n",
       " 40845,\n",
       " 46491,\n",
       " 14203,\n",
       " 13897,\n",
       " 1900,\n",
       " 43036,\n",
       " 8297,\n",
       " 18036,\n",
       " 25303,\n",
       " 30170,\n",
       " 35463,\n",
       " 1282,\n",
       " 11734,\n",
       " 21531,\n",
       " 37459,\n",
       " 42128,\n",
       " 22281,\n",
       " 13747,\n",
       " 12627,\n",
       " 45208,\n",
       " 42925,\n",
       " 4745,\n",
       " 13095,\n",
       " 18924,\n",
       " 19788,\n",
       " 4982,\n",
       " 11300,\n",
       " 3402,\n",
       " 47988,\n",
       " 26197,\n",
       " 31605,\n",
       " 18466,\n",
       " 7284,\n",
       " 47217,\n",
       " 48357,\n",
       " 47885,\n",
       " 14441,\n",
       " 33599,\n",
       " 19490,\n",
       " 40676,\n",
       " 1704,\n",
       " 22983,\n",
       " 17537,\n",
       " 32073,\n",
       " 34392,\n",
       " 17644,\n",
       " 33201,\n",
       " 41978,\n",
       " 46785,\n",
       " 34653,\n",
       " 46545,\n",
       " 9293,\n",
       " 31790,\n",
       " 47006,\n",
       " 30042,\n",
       " 32974,\n",
       " 29662,\n",
       " 41698,\n",
       " 44309,\n",
       " 725,\n",
       " 18010,\n",
       " 41314,\n",
       " 14363,\n",
       " 35526,\n",
       " 10539,\n",
       " 2213,\n",
       " 484,\n",
       " 38533,\n",
       " 4884,\n",
       " 12858,\n",
       " 47226,\n",
       " 1570,\n",
       " 8322,\n",
       " 27844,\n",
       " 24429,\n",
       " 16966,\n",
       " 21413,\n",
       " 1388,\n",
       " 22033,\n",
       " 31793,\n",
       " 39632,\n",
       " 4729,\n",
       " 21847,\n",
       " 9353,\n",
       " 17462,\n",
       " 16454,\n",
       " 28686,\n",
       " 20464,\n",
       " 29212,\n",
       " 36697,\n",
       " 46414,\n",
       " 47761,\n",
       " 5823,\n",
       " 42168,\n",
       " 43475,\n",
       " 2084,\n",
       " 26363,\n",
       " 31527,\n",
       " 39060,\n",
       " 32661,\n",
       " 20038,\n",
       " 24787,\n",
       " 44996,\n",
       " 7149,\n",
       " 27225,\n",
       " 3863,\n",
       " 45400,\n",
       " 45428,\n",
       " 9452,\n",
       " 38184,\n",
       " 9531,\n",
       " 26163,\n",
       " 35190,\n",
       " 33579,\n",
       " 47287,\n",
       " 34824,\n",
       " 8053,\n",
       " 31540,\n",
       " 16382,\n",
       " 27730,\n",
       " 41398,\n",
       " 26992,\n",
       " 25067,\n",
       " 40744,\n",
       " 43299,\n",
       " 19819,\n",
       " 10746,\n",
       " 30830,\n",
       " 35097,\n",
       " 13504,\n",
       " 28891,\n",
       " 9987,\n",
       " 1818,\n",
       " 43260,\n",
       " 19946,\n",
       " 25870,\n",
       " 24876,\n",
       " 20499,\n",
       " 12492,\n",
       " 30059,\n",
       " 48407,\n",
       " 6536,\n",
       " 37229,\n",
       " 48483,\n",
       " 8692,\n",
       " 47019,\n",
       " 10881,\n",
       " 890,\n",
       " 6948,\n",
       " 18365,\n",
       " 11477,\n",
       " 29710,\n",
       " 44598,\n",
       " 297,\n",
       " 40640,\n",
       " 48329,\n",
       " 15464,\n",
       " 17132,\n",
       " 9367,\n",
       " 36747,\n",
       " 8822,\n",
       " 12589,\n",
       " 8085,\n",
       " 33570,\n",
       " 48384,\n",
       " 23502,\n",
       " 37520,\n",
       " 4413,\n",
       " 30384,\n",
       " 38993,\n",
       " 37890,\n",
       " 3858,\n",
       " 43317,\n",
       " 5683,\n",
       " 37363,\n",
       " 6129,\n",
       " 29029,\n",
       " 40122,\n",
       " 45164,\n",
       " 8145,\n",
       " 20302,\n",
       " 21356,\n",
       " 4086,\n",
       " 30757,\n",
       " 16185,\n",
       " 18342,\n",
       " 43411,\n",
       " 38611,\n",
       " 22997,\n",
       " 41922,\n",
       " 16063,\n",
       " 28382,\n",
       " 24238,\n",
       " 9324,\n",
       " 2464,\n",
       " 11732,\n",
       " 28904,\n",
       " 17757,\n",
       " 1180,\n",
       " 16404,\n",
       " 2476,\n",
       " 31641,\n",
       " 40750,\n",
       " 31178,\n",
       " 31751,\n",
       " 34842,\n",
       " 4326,\n",
       " 41617,\n",
       " 36053,\n",
       " 44122,\n",
       " 39627,\n",
       " 21394,\n",
       " 31997,\n",
       " 48651,\n",
       " 9366,\n",
       " 2885,\n",
       " 39702,\n",
       " 1131,\n",
       " 29807,\n",
       " 14430,\n",
       " 39052,\n",
       " 16266,\n",
       " 25748,\n",
       " 29094,\n",
       " 4244,\n",
       " 5687,\n",
       " 4155,\n",
       " 3555,\n",
       " 48544,\n",
       " 26450,\n",
       " 12451,\n",
       " 1738,\n",
       " 4772,\n",
       " 5228,\n",
       " 41591,\n",
       " 13534,\n",
       " 354,\n",
       " 7861,\n",
       " 19055,\n",
       " 4613,\n",
       " 20072,\n",
       " 46340,\n",
       " 32531,\n",
       " 44534,\n",
       " 28210,\n",
       " 31421,\n",
       " 12114,\n",
       " 21272,\n",
       " 12981,\n",
       " 26416,\n",
       " 15176,\n",
       " 22771,\n",
       " 48134,\n",
       " 29325,\n",
       " 6676,\n",
       " 2761,\n",
       " 9536,\n",
       " 19326,\n",
       " 5841,\n",
       " 24047,\n",
       " 1851,\n",
       " 28932,\n",
       " 48470,\n",
       " 31775,\n",
       " 48593,\n",
       " 41705,\n",
       " 729,\n",
       " 13586,\n",
       " 1458,\n",
       " 43227,\n",
       " 30277,\n",
       " 35068,\n",
       " 28603,\n",
       " 39358,\n",
       " 7560,\n",
       " 37741,\n",
       " 43690,\n",
       " 12830,\n",
       " 32693,\n",
       " 47644,\n",
       " 33278,\n",
       " 47957,\n",
       " 33728,\n",
       " 1034,\n",
       " 30397,\n",
       " 48160,\n",
       " 42057,\n",
       " 27578,\n",
       " 811,\n",
       " 9712,\n",
       " 34389,\n",
       " 11099,\n",
       " 7193,\n",
       " 18577,\n",
       " 11532,\n",
       " 44344,\n",
       " 26922,\n",
       " 9040,\n",
       " 39336,\n",
       " 39174,\n",
       " 2952,\n",
       " 41642,\n",
       " 7615,\n",
       " 10343,\n",
       " 1846,\n",
       " 17193,\n",
       " 19414,\n",
       " 23330,\n",
       " 8057,\n",
       " 61,\n",
       " 37961,\n",
       " 6231,\n",
       " 7340,\n",
       " 45966,\n",
       " 32525,\n",
       " 26332,\n",
       " 31468,\n",
       " 7100,\n",
       " 19764,\n",
       " 32636,\n",
       " 23109,\n",
       " 19706,\n",
       " 7027,\n",
       " 10460,\n",
       " 33938,\n",
       " 18294,\n",
       " 48271,\n",
       " 5540,\n",
       " 33604,\n",
       " 38552,\n",
       " 28107,\n",
       " 9141,\n",
       " 27853,\n",
       " 26791,\n",
       " 23415,\n",
       " 26599,\n",
       " 18194,\n",
       " 18622,\n",
       " 20436,\n",
       " 19820,\n",
       " 47878,\n",
       " 19626,\n",
       " 4272,\n",
       " 31396,\n",
       " 30822,\n",
       " 21289,\n",
       " 2735,\n",
       " 36709,\n",
       " 2094,\n",
       " 46135,\n",
       " 44349,\n",
       " 7576,\n",
       " 28961,\n",
       " 35446,\n",
       " 41942,\n",
       " 34787,\n",
       " 38881,\n",
       " 430,\n",
       " 46433,\n",
       " 9351,\n",
       " 40588,\n",
       " 7905,\n",
       " 686,\n",
       " 499,\n",
       " 44932,\n",
       " 18236,\n",
       " 6432,\n",
       " 5854,\n",
       " 4766,\n",
       " 7327,\n",
       " 48549,\n",
       " 17531,\n",
       " 2549,\n",
       " 27669,\n",
       " 37308,\n",
       " 40664,\n",
       " 37349,\n",
       " 38,\n",
       " 17378,\n",
       " 15532,\n",
       " 20321,\n",
       " 10098,\n",
       " 18337,\n",
       " 1100,\n",
       " 13290,\n",
       " 37320,\n",
       " 34374,\n",
       " 42284,\n",
       " 6542,\n",
       " 4152,\n",
       " 24998,\n",
       " 34156,\n",
       " 38144,\n",
       " 41998,\n",
       " 43539,\n",
       " 3916,\n",
       " 13556,\n",
       " 2181,\n",
       " 10064,\n",
       " 8694,\n",
       " 1317,\n",
       " 48342,\n",
       " 27642,\n",
       " 4422,\n",
       " 28194,\n",
       " 3843,\n",
       " 31089,\n",
       " 9549,\n",
       " 2544,\n",
       " 25929,\n",
       " 6059,\n",
       " 9985,\n",
       " 45891,\n",
       " 26051,\n",
       " 16019,\n",
       " 22317,\n",
       " 24580,\n",
       " 13177,\n",
       " 8940,\n",
       " 48063,\n",
       " 19676,\n",
       " 734,\n",
       " 43271,\n",
       " 20686,\n",
       " 32829,\n",
       " 14577,\n",
       " 8477,\n",
       " 31118,\n",
       " 35858,\n",
       " 3594,\n",
       " 17201,\n",
       " 24015,\n",
       " 46494,\n",
       " 12609,\n",
       " 2104,\n",
       " 1707,\n",
       " 2571,\n",
       " 16647,\n",
       " 34894,\n",
       " 33925,\n",
       " 26982,\n",
       " 33248,\n",
       " 27466,\n",
       " 21722,\n",
       " 8543,\n",
       " 128,\n",
       " 1557,\n",
       " 9580,\n",
       " 23336,\n",
       " 23687,\n",
       " 6407,\n",
       " 14646,\n",
       " 18923,\n",
       " 30163,\n",
       " 40584,\n",
       " 24923,\n",
       " 37324,\n",
       " 28855,\n",
       " 40677,\n",
       " 28773,\n",
       " 41740,\n",
       " 37202,\n",
       " 39699,\n",
       " 3461,\n",
       " 13608,\n",
       " 25424,\n",
       " 30218,\n",
       " 3231,\n",
       " 16750,\n",
       " 7990,\n",
       " 8042,\n",
       " 36286,\n",
       " 41706,\n",
       " 29582,\n",
       " 45349,\n",
       " 25578,\n",
       " 19345,\n",
       " 36000,\n",
       " 6935,\n",
       " 9170,\n",
       " 38945,\n",
       " 34202,\n",
       " 15033,\n",
       " 20333,\n",
       " 11192,\n",
       " 15022,\n",
       " 23744,\n",
       " 8241,\n",
       " 19709,\n",
       " 42585,\n",
       " 4337,\n",
       " 38377,\n",
       " 20646,\n",
       " 30902,\n",
       " 23228,\n",
       " 10016,\n",
       " 12959,\n",
       " 27590,\n",
       " 21465,\n",
       " 20847,\n",
       " 35663,\n",
       " 47426,\n",
       " 1544,\n",
       " 25478,\n",
       " 27395,\n",
       " 37639,\n",
       " 5548,\n",
       " 31577,\n",
       " 40171,\n",
       " 33820,\n",
       " 19284,\n",
       " 33326,\n",
       " 47134,\n",
       " 44468,\n",
       " 21039,\n",
       " 7173,\n",
       " 47171,\n",
       " 13933,\n",
       " 37986,\n",
       " 13365,\n",
       " 30638,\n",
       " 39209,\n",
       " 12695,\n",
       " 8193,\n",
       " 8565,\n",
       " 10709,\n",
       " 14067,\n",
       " 5766,\n",
       " 47122,\n",
       " 43035,\n",
       " 25877,\n",
       " 32494,\n",
       " 20480,\n",
       " 47745,\n",
       " 24606,\n",
       " 29698,\n",
       " 11550,\n",
       " 10820,\n",
       " 24109,\n",
       " 38594,\n",
       " 44810,\n",
       " 9237,\n",
       " 22795,\n",
       " 31372,\n",
       " 1554,\n",
       " 5977,\n",
       " 32039,\n",
       " 39430,\n",
       " 18794,\n",
       " 21382,\n",
       " 38389,\n",
       " 31193,\n",
       " 44156,\n",
       " 38275,\n",
       " 38932,\n",
       " 35263,\n",
       " 37627,\n",
       " 39792,\n",
       " 32754,\n",
       " 31536,\n",
       " 45871,\n",
       " 40721,\n",
       " 13203,\n",
       " 33812,\n",
       " 38293,\n",
       " 42436,\n",
       " 40743,\n",
       " 35992,\n",
       " 28384,\n",
       " 29206,\n",
       " 20868,\n",
       " 44801,\n",
       " 5561,\n",
       " 30208,\n",
       " 7815,\n",
       " 4500,\n",
       " 28195,\n",
       " 5020,\n",
       " 8920,\n",
       " 33681,\n",
       " 12214,\n",
       " 46034,\n",
       " 40807,\n",
       " 34427,\n",
       " 34656,\n",
       " 25238,\n",
       " 37934,\n",
       " 41996,\n",
       " 18585,\n",
       " 37806,\n",
       " 25504,\n",
       " 46110,\n",
       " 2760,\n",
       " 6314,\n",
       " 33404,\n",
       " 8908,\n",
       " 4156,\n",
       " 20029,\n",
       " 36259,\n",
       " 42311,\n",
       " 26137,\n",
       " 34187,\n",
       " 20003,\n",
       " 32070,\n",
       " 36040,\n",
       " 31043,\n",
       " 47753,\n",
       " 38504,\n",
       " 648,\n",
       " 4548,\n",
       " 16731,\n",
       " 12362,\n",
       " 24891,\n",
       " 3942,\n",
       " 22848,\n",
       " 3269,\n",
       " 30827,\n",
       " 44946,\n",
       " 26410,\n",
       " 23818,\n",
       " 34096,\n",
       " 34226,\n",
       " 14857,\n",
       " 44507,\n",
       " 37401,\n",
       " 48485,\n",
       " 19168,\n",
       " 28586,\n",
       " 22225,\n",
       " 5853,\n",
       " 42802,\n",
       " 46386,\n",
       " 13321,\n",
       " 26012,\n",
       " 4393,\n",
       " 36481,\n",
       " 13069,\n",
       " 28143,\n",
       " 3579,\n",
       " 22786,\n",
       " 25636,\n",
       " 4217,\n",
       " 1185,\n",
       " 37309,\n",
       " 23421,\n",
       " 46398,\n",
       " 16123,\n",
       " 32990,\n",
       " 40237,\n",
       " 5201,\n",
       " 16635,\n",
       " 37584,\n",
       " 6319,\n",
       " 45883,\n",
       " 44293,\n",
       " 37712,\n",
       " 20227,\n",
       " 46357,\n",
       " 25930,\n",
       " 44449,\n",
       " 44168,\n",
       " 6663,\n",
       " 44323,\n",
       " 34339,\n",
       " 2323,\n",
       " 6753,\n",
       " 41593,\n",
       " 39234,\n",
       " 11500,\n",
       " 14005,\n",
       " 37047,\n",
       " 19842,\n",
       " 6342,\n",
       " 17708,\n",
       " 41514,\n",
       " 15130,\n",
       " 27513,\n",
       " 25266,\n",
       " 27507,\n",
       " 33978,\n",
       " 22907,\n",
       " 47065,\n",
       " 17039,\n",
       " 31908,\n",
       " 8147,\n",
       " 32644,\n",
       " 8134,\n",
       " 44537,\n",
       " 42608,\n",
       " 30513,\n",
       " 11713]"
      ]
     },
     "execution_count": 162,
     "metadata": {},
     "output_type": "execute_result"
    }
   ],
   "source": [
    "only_na_test"
   ]
  },
  {
   "cell_type": "code",
   "execution_count": 163,
   "id": "329bc0be",
   "metadata": {},
   "outputs": [],
   "source": [
    "X_clean_test = new_data"
   ]
  },
  {
   "cell_type": "code",
   "execution_count": 164,
   "id": "b0e29967",
   "metadata": {},
   "outputs": [],
   "source": [
    "y_clean_test = drop_rows(y_clean_test,only_na_test)"
   ]
  },
  {
   "cell_type": "code",
   "execution_count": 165,
   "id": "85875638",
   "metadata": {},
   "outputs": [
    {
     "data": {
      "text/plain": [
       "7762     <=50K\n",
       "23881    <=50K\n",
       "30507    <=50K\n",
       "28911    <=50K\n",
       "19484    <=50K\n",
       "         ...  \n",
       "43046    <=50K\n",
       "18798    <=50K\n",
       "29519    <=50K\n",
       "550      <=50K\n",
       "14337     >50K\n",
       "Name: class, Length: 9023, dtype: object"
      ]
     },
     "execution_count": 165,
     "metadata": {},
     "output_type": "execute_result"
    }
   ],
   "source": [
    "y_clean_test"
   ]
  },
  {
   "cell_type": "code",
   "execution_count": 166,
   "id": "69966b43",
   "metadata": {},
   "outputs": [],
   "source": [
    "label_encoding(X_clean_train,cat_clean_cols)"
   ]
  },
  {
   "cell_type": "code",
   "execution_count": 167,
   "id": "e849da19",
   "metadata": {},
   "outputs": [
    {
     "data": {
      "text/plain": [
       "age               0\n",
       "workclass         0\n",
       "education-num     0\n",
       "marital-status    0\n",
       "occupation        0\n",
       "relationship      0\n",
       "race              0\n",
       "sex               0\n",
       "capitalgain       0\n",
       "capitalloss       0\n",
       "hoursperweek      0\n",
       "native-country    0\n",
       "dtype: int64"
      ]
     },
     "execution_count": 167,
     "metadata": {},
     "output_type": "execute_result"
    }
   ],
   "source": [
    "X_clean_train.isnull().sum()"
   ]
  },
  {
   "cell_type": "code",
   "execution_count": 168,
   "id": "be36152e",
   "metadata": {},
   "outputs": [],
   "source": [
    "y_clean_train = label_encoding(y_clean_train, None)"
   ]
  },
  {
   "cell_type": "code",
   "execution_count": 169,
   "id": "a312df9d",
   "metadata": {},
   "outputs": [
    {
     "data": {
      "text/plain": [
       "array([0, 1, 0, ..., 0, 0, 0])"
      ]
     },
     "execution_count": 169,
     "metadata": {},
     "output_type": "execute_result"
    }
   ],
   "source": [
    "y_clean_train"
   ]
  },
  {
   "cell_type": "code",
   "execution_count": 170,
   "id": "d75e10bf",
   "metadata": {},
   "outputs": [],
   "source": [
    "label_encoding(X_clean_test, cat_clean_cols_test)"
   ]
  },
  {
   "cell_type": "code",
   "execution_count": 171,
   "id": "478e5087",
   "metadata": {},
   "outputs": [
    {
     "data": {
      "text/html": [
       "<div>\n",
       "<style scoped>\n",
       "    .dataframe tbody tr th:only-of-type {\n",
       "        vertical-align: middle;\n",
       "    }\n",
       "\n",
       "    .dataframe tbody tr th {\n",
       "        vertical-align: top;\n",
       "    }\n",
       "\n",
       "    .dataframe thead th {\n",
       "        text-align: right;\n",
       "    }\n",
       "</style>\n",
       "<table border=\"1\" class=\"dataframe\">\n",
       "  <thead>\n",
       "    <tr style=\"text-align: right;\">\n",
       "      <th></th>\n",
       "      <th>age</th>\n",
       "      <th>workclass</th>\n",
       "      <th>education-num</th>\n",
       "      <th>marital-status</th>\n",
       "      <th>occupation</th>\n",
       "      <th>relationship</th>\n",
       "      <th>race</th>\n",
       "      <th>sex</th>\n",
       "      <th>capitalgain</th>\n",
       "      <th>capitalloss</th>\n",
       "      <th>hoursperweek</th>\n",
       "      <th>native-country</th>\n",
       "    </tr>\n",
       "  </thead>\n",
       "  <tbody>\n",
       "    <tr>\n",
       "      <th>7762</th>\n",
       "      <td>0</td>\n",
       "      <td>2</td>\n",
       "      <td>9</td>\n",
       "      <td>4</td>\n",
       "      <td>7</td>\n",
       "      <td>1</td>\n",
       "      <td>4</td>\n",
       "      <td>1</td>\n",
       "      <td>0</td>\n",
       "      <td>0</td>\n",
       "      <td>0</td>\n",
       "      <td>38</td>\n",
       "    </tr>\n",
       "    <tr>\n",
       "      <th>23881</th>\n",
       "      <td>0</td>\n",
       "      <td>2</td>\n",
       "      <td>8</td>\n",
       "      <td>4</td>\n",
       "      <td>11</td>\n",
       "      <td>3</td>\n",
       "      <td>4</td>\n",
       "      <td>0</td>\n",
       "      <td>0</td>\n",
       "      <td>0</td>\n",
       "      <td>0</td>\n",
       "      <td>38</td>\n",
       "    </tr>\n",
       "    <tr>\n",
       "      <th>30507</th>\n",
       "      <td>0</td>\n",
       "      <td>1</td>\n",
       "      <td>9</td>\n",
       "      <td>4</td>\n",
       "      <td>5</td>\n",
       "      <td>2</td>\n",
       "      <td>2</td>\n",
       "      <td>1</td>\n",
       "      <td>0</td>\n",
       "      <td>0</td>\n",
       "      <td>2</td>\n",
       "      <td>38</td>\n",
       "    </tr>\n",
       "    <tr>\n",
       "      <th>28911</th>\n",
       "      <td>0</td>\n",
       "      <td>2</td>\n",
       "      <td>10</td>\n",
       "      <td>4</td>\n",
       "      <td>11</td>\n",
       "      <td>3</td>\n",
       "      <td>4</td>\n",
       "      <td>0</td>\n",
       "      <td>0</td>\n",
       "      <td>0</td>\n",
       "      <td>1</td>\n",
       "      <td>38</td>\n",
       "    </tr>\n",
       "    <tr>\n",
       "      <th>19484</th>\n",
       "      <td>3</td>\n",
       "      <td>2</td>\n",
       "      <td>9</td>\n",
       "      <td>4</td>\n",
       "      <td>6</td>\n",
       "      <td>4</td>\n",
       "      <td>0</td>\n",
       "      <td>1</td>\n",
       "      <td>0</td>\n",
       "      <td>0</td>\n",
       "      <td>3</td>\n",
       "      <td>32</td>\n",
       "    </tr>\n",
       "    <tr>\n",
       "      <th>...</th>\n",
       "      <td>...</td>\n",
       "      <td>...</td>\n",
       "      <td>...</td>\n",
       "      <td>...</td>\n",
       "      <td>...</td>\n",
       "      <td>...</td>\n",
       "      <td>...</td>\n",
       "      <td>...</td>\n",
       "      <td>...</td>\n",
       "      <td>...</td>\n",
       "      <td>...</td>\n",
       "      <td>...</td>\n",
       "    </tr>\n",
       "    <tr>\n",
       "      <th>43046</th>\n",
       "      <td>4</td>\n",
       "      <td>4</td>\n",
       "      <td>14</td>\n",
       "      <td>5</td>\n",
       "      <td>11</td>\n",
       "      <td>4</td>\n",
       "      <td>4</td>\n",
       "      <td>0</td>\n",
       "      <td>0</td>\n",
       "      <td>0</td>\n",
       "      <td>2</td>\n",
       "      <td>38</td>\n",
       "    </tr>\n",
       "    <tr>\n",
       "      <th>18798</th>\n",
       "      <td>0</td>\n",
       "      <td>2</td>\n",
       "      <td>9</td>\n",
       "      <td>4</td>\n",
       "      <td>7</td>\n",
       "      <td>3</td>\n",
       "      <td>4</td>\n",
       "      <td>1</td>\n",
       "      <td>0</td>\n",
       "      <td>0</td>\n",
       "      <td>2</td>\n",
       "      <td>38</td>\n",
       "    </tr>\n",
       "    <tr>\n",
       "      <th>29519</th>\n",
       "      <td>2</td>\n",
       "      <td>2</td>\n",
       "      <td>10</td>\n",
       "      <td>0</td>\n",
       "      <td>13</td>\n",
       "      <td>1</td>\n",
       "      <td>2</td>\n",
       "      <td>1</td>\n",
       "      <td>0</td>\n",
       "      <td>0</td>\n",
       "      <td>3</td>\n",
       "      <td>38</td>\n",
       "    </tr>\n",
       "    <tr>\n",
       "      <th>550</th>\n",
       "      <td>3</td>\n",
       "      <td>4</td>\n",
       "      <td>10</td>\n",
       "      <td>0</td>\n",
       "      <td>3</td>\n",
       "      <td>1</td>\n",
       "      <td>4</td>\n",
       "      <td>1</td>\n",
       "      <td>0</td>\n",
       "      <td>0</td>\n",
       "      <td>3</td>\n",
       "      <td>38</td>\n",
       "    </tr>\n",
       "    <tr>\n",
       "      <th>14337</th>\n",
       "      <td>2</td>\n",
       "      <td>2</td>\n",
       "      <td>9</td>\n",
       "      <td>2</td>\n",
       "      <td>2</td>\n",
       "      <td>0</td>\n",
       "      <td>4</td>\n",
       "      <td>1</td>\n",
       "      <td>0</td>\n",
       "      <td>0</td>\n",
       "      <td>2</td>\n",
       "      <td>38</td>\n",
       "    </tr>\n",
       "  </tbody>\n",
       "</table>\n",
       "<p>9023 rows × 12 columns</p>\n",
       "</div>"
      ],
      "text/plain": [
       "       age  workclass  education-num  marital-status  occupation  \\\n",
       "7762     0          2              9               4           7   \n",
       "23881    0          2              8               4          11   \n",
       "30507    0          1              9               4           5   \n",
       "28911    0          2             10               4          11   \n",
       "19484    3          2              9               4           6   \n",
       "...    ...        ...            ...             ...         ...   \n",
       "43046    4          4             14               5          11   \n",
       "18798    0          2              9               4           7   \n",
       "29519    2          2             10               0          13   \n",
       "550      3          4             10               0           3   \n",
       "14337    2          2              9               2           2   \n",
       "\n",
       "       relationship  race  sex  capitalgain  capitalloss  hoursperweek  \\\n",
       "7762              1     4    1            0            0             0   \n",
       "23881             3     4    0            0            0             0   \n",
       "30507             2     2    1            0            0             2   \n",
       "28911             3     4    0            0            0             1   \n",
       "19484             4     0    1            0            0             3   \n",
       "...             ...   ...  ...          ...          ...           ...   \n",
       "43046             4     4    0            0            0             2   \n",
       "18798             3     4    1            0            0             2   \n",
       "29519             1     2    1            0            0             3   \n",
       "550               1     4    1            0            0             3   \n",
       "14337             0     4    1            0            0             2   \n",
       "\n",
       "       native-country  \n",
       "7762               38  \n",
       "23881              38  \n",
       "30507              38  \n",
       "28911              38  \n",
       "19484              32  \n",
       "...               ...  \n",
       "43046              38  \n",
       "18798              38  \n",
       "29519              38  \n",
       "550                38  \n",
       "14337              38  \n",
       "\n",
       "[9023 rows x 12 columns]"
      ]
     },
     "execution_count": 171,
     "metadata": {},
     "output_type": "execute_result"
    }
   ],
   "source": [
    "X_clean_test"
   ]
  },
  {
   "cell_type": "code",
   "execution_count": 172,
   "id": "cc759fbd",
   "metadata": {},
   "outputs": [],
   "source": [
    "y_clean_test= label_encoding(y_clean_test, None)"
   ]
  },
  {
   "cell_type": "code",
   "execution_count": 173,
   "id": "d0cb1c24",
   "metadata": {},
   "outputs": [
    {
     "data": {
      "text/plain": [
       "array([0, 0, 0, ..., 0, 0, 1])"
      ]
     },
     "execution_count": 173,
     "metadata": {},
     "output_type": "execute_result"
    }
   ],
   "source": [
    "y_clean_test"
   ]
  },
  {
   "cell_type": "code",
   "execution_count": 174,
   "id": "ae5c1226",
   "metadata": {},
   "outputs": [
    {
     "name": "stderr",
     "output_type": "stream",
     "text": [
      "C:\\Users\\sathv\\anaconda3\\lib\\site-packages\\sklearn\\linear_model\\_logistic.py:814: ConvergenceWarning: lbfgs failed to converge (status=1):\n",
      "STOP: TOTAL NO. of ITERATIONS REACHED LIMIT.\n",
      "\n",
      "Increase the number of iterations (max_iter) or scale the data as shown in:\n",
      "    https://scikit-learn.org/stable/modules/preprocessing.html\n",
      "Please also refer to the documentation for alternative solver options:\n",
      "    https://scikit-learn.org/stable/modules/linear_model.html#logistic-regression\n",
      "  n_iter_i = _check_optimize_result(\n"
     ]
    }
   ],
   "source": [
    "clean_model = logistic_regression_train(logisticRegr, X_clean_train, y_clean_train)"
   ]
  },
  {
   "cell_type": "code",
   "execution_count": 175,
   "id": "191228fb",
   "metadata": {},
   "outputs": [],
   "source": [
    "y_clean_pred = logistic_regression_test(logisticRegr, X_clean_test)"
   ]
  },
  {
   "cell_type": "code",
   "execution_count": 176,
   "id": "46570c9a",
   "metadata": {},
   "outputs": [
    {
     "data": {
      "text/plain": [
       "age               0\n",
       "workclass         0\n",
       "education-num     0\n",
       "marital-status    0\n",
       "occupation        0\n",
       "relationship      0\n",
       "race              0\n",
       "sex               0\n",
       "capitalgain       0\n",
       "capitalloss       0\n",
       "hoursperweek      0\n",
       "native-country    0\n",
       "dtype: int64"
      ]
     },
     "execution_count": 176,
     "metadata": {},
     "output_type": "execute_result"
    }
   ],
   "source": [
    "X_clean_test.isnull().sum()"
   ]
  },
  {
   "cell_type": "code",
   "execution_count": 177,
   "id": "33250dc4",
   "metadata": {},
   "outputs": [
    {
     "data": {
      "text/plain": [
       "array([[0.97633601, 0.02366399],\n",
       "       [0.99478844, 0.00521156],\n",
       "       [0.95353853, 0.04646147],\n",
       "       ...,\n",
       "       [0.64325112, 0.35674888],\n",
       "       [0.56756342, 0.43243658],\n",
       "       [0.81481556, 0.18518444]])"
      ]
     },
     "execution_count": 177,
     "metadata": {},
     "output_type": "execute_result"
    }
   ],
   "source": [
    "y_clean_pred"
   ]
  },
  {
   "cell_type": "code",
   "execution_count": 178,
   "id": "004cd1d6",
   "metadata": {},
   "outputs": [],
   "source": [
    "clean_diff = average_diff(y_clean_pred, X_clean_test)"
   ]
  },
  {
   "cell_type": "code",
   "execution_count": 179,
   "id": "a1617dd6",
   "metadata": {},
   "outputs": [
    {
     "data": {
      "text/plain": [
       "0.2013134887208624"
      ]
     },
     "execution_count": 179,
     "metadata": {},
     "output_type": "execute_result"
    }
   ],
   "source": [
    "clean_diff"
   ]
  },
  {
   "cell_type": "code",
   "execution_count": 180,
   "id": "b9c566cc",
   "metadata": {},
   "outputs": [],
   "source": [
    "clean_test_score = logisticRegr.score(X_clean_test, y_clean_test)"
   ]
  },
  {
   "cell_type": "code",
   "execution_count": 181,
   "id": "44be3bbf",
   "metadata": {},
   "outputs": [
    {
     "data": {
      "text/plain": [
       "0.8204588274409842"
      ]
     },
     "execution_count": 181,
     "metadata": {},
     "output_type": "execute_result"
    }
   ],
   "source": [
    "clean_test_score"
   ]
  },
  {
   "cell_type": "code",
   "execution_count": 182,
   "id": "5ce91d8d",
   "metadata": {},
   "outputs": [
    {
     "name": "stdout",
     "output_type": "stream",
     "text": [
      "Method                   Test Data        Encoding Technique    ML Model               Accuracy    Fairness\n",
      "-----------------------  ---------------  --------------------  -------------------  ----------  ----------\n",
      "Removing Missing Values  Dirty test data  Label Encoding        Logistic Regression    0.826492    0.188263\n",
      "Removing Missing Values  Clean test data  Label Encoding        Logistic Regression    0.820459    0.201313\n"
     ]
    }
   ],
   "source": [
    "from tabulate import tabulate\n",
    "data = [[\"Removing Missing Values\",\"Dirty test data\",\"Label Encoding\", \"Logistic Regression\", dirty_test_score, dirty_diff],\n",
    "[\"Removing Missing Values\", \"Clean test data\", \"Label Encoding\", \"Logistic Regression\", clean_test_score, clean_diff]]\n",
    "print (tabulate(data, headers=[\"Method\", \"Test Data\", \"Encoding Technique\", \"ML Model\", \"Accuracy\", \"Fairness\"]))"
   ]
  }
 ],
 "metadata": {
  "kernelspec": {
   "display_name": "Python 3 (ipykernel)",
   "language": "python",
   "name": "python3"
  },
  "language_info": {
   "codemirror_mode": {
    "name": "ipython",
    "version": 3
   },
   "file_extension": ".py",
   "mimetype": "text/x-python",
   "name": "python",
   "nbconvert_exporter": "python",
   "pygments_lexer": "ipython3",
   "version": "3.9.13"
  }
 },
 "nbformat": 4,
 "nbformat_minor": 5
}
