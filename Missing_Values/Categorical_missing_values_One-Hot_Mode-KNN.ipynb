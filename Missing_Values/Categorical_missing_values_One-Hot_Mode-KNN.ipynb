{
 "cells": [
  {
   "cell_type": "markdown",
   "id": "755d3e79",
   "metadata": {},
   "source": [
    "1. Take a dataset\n",
    "2. Split it into 80:20 ratio\n",
    "3. Find missing values in X_train(both numeric and categorical)\n",
    "4. Remove those rows which ahs missing values from X_train\n",
    "5. Drop rows from y_train for same indices of X_train\n",
    "6. Perform label encoding \n",
    "7. Train the model\n",
    "8. Test the model for both dirty and clean data\n",
    "9. Check the accuracy and fairness"
   ]
  },
  {
   "cell_type": "code",
   "execution_count": 1,
   "id": "643fabcb",
   "metadata": {},
   "outputs": [],
   "source": [
    "import pandas as pd\n",
    "import numpy as np\n",
    "from sklearn.model_selection import train_test_split"
   ]
  },
  {
   "cell_type": "code",
   "execution_count": 2,
   "id": "b731e38c",
   "metadata": {},
   "outputs": [],
   "source": [
    "population = pd.read_csv(r\"C:\\Users\\sathv\\OneDrive\\Desktop\\RDM\\adult_csv.csv\")"
   ]
  },
  {
   "cell_type": "code",
   "execution_count": 3,
   "id": "98da9549",
   "metadata": {
    "scrolled": true
   },
   "outputs": [
    {
     "name": "stdout",
     "output_type": "stream",
     "text": [
      "<class 'pandas.core.frame.DataFrame'>\n",
      "RangeIndex: 48842 entries, 0 to 48841\n",
      "Data columns (total 15 columns):\n",
      " #   Column          Non-Null Count  Dtype \n",
      "---  ------          --------------  ----- \n",
      " 0   age             48842 non-null  int64 \n",
      " 1   workclass       46043 non-null  object\n",
      " 2   fnlwgt          48842 non-null  int64 \n",
      " 3   education       48842 non-null  object\n",
      " 4   education-num   48842 non-null  int64 \n",
      " 5   marital-status  48842 non-null  object\n",
      " 6   occupation      46033 non-null  object\n",
      " 7   relationship    48842 non-null  object\n",
      " 8   race            48842 non-null  object\n",
      " 9   sex             48842 non-null  object\n",
      " 10  capitalgain     48842 non-null  int64 \n",
      " 11  capitalloss     48842 non-null  int64 \n",
      " 12  hoursperweek    48842 non-null  int64 \n",
      " 13  native-country  47985 non-null  object\n",
      " 14  class           48842 non-null  object\n",
      "dtypes: int64(6), object(9)\n",
      "memory usage: 5.6+ MB\n"
     ]
    },
    {
     "data": {
      "text/html": [
       "<div>\n",
       "<style scoped>\n",
       "    .dataframe tbody tr th:only-of-type {\n",
       "        vertical-align: middle;\n",
       "    }\n",
       "\n",
       "    .dataframe tbody tr th {\n",
       "        vertical-align: top;\n",
       "    }\n",
       "\n",
       "    .dataframe thead th {\n",
       "        text-align: right;\n",
       "    }\n",
       "</style>\n",
       "<table border=\"1\" class=\"dataframe\">\n",
       "  <thead>\n",
       "    <tr style=\"text-align: right;\">\n",
       "      <th></th>\n",
       "      <th>age</th>\n",
       "      <th>workclass</th>\n",
       "      <th>fnlwgt</th>\n",
       "      <th>education</th>\n",
       "      <th>education-num</th>\n",
       "      <th>marital-status</th>\n",
       "      <th>occupation</th>\n",
       "      <th>relationship</th>\n",
       "      <th>race</th>\n",
       "      <th>sex</th>\n",
       "      <th>capitalgain</th>\n",
       "      <th>capitalloss</th>\n",
       "      <th>hoursperweek</th>\n",
       "      <th>native-country</th>\n",
       "      <th>class</th>\n",
       "    </tr>\n",
       "  </thead>\n",
       "  <tbody>\n",
       "    <tr>\n",
       "      <th>0</th>\n",
       "      <td>2</td>\n",
       "      <td>State-gov</td>\n",
       "      <td>77516</td>\n",
       "      <td>Bachelors</td>\n",
       "      <td>13</td>\n",
       "      <td>Never-married</td>\n",
       "      <td>Adm-clerical</td>\n",
       "      <td>Not-in-family</td>\n",
       "      <td>White</td>\n",
       "      <td>Male</td>\n",
       "      <td>1</td>\n",
       "      <td>0</td>\n",
       "      <td>2</td>\n",
       "      <td>United-States</td>\n",
       "      <td>&lt;=50K</td>\n",
       "    </tr>\n",
       "    <tr>\n",
       "      <th>1</th>\n",
       "      <td>3</td>\n",
       "      <td>Self-emp-not-inc</td>\n",
       "      <td>83311</td>\n",
       "      <td>Bachelors</td>\n",
       "      <td>13</td>\n",
       "      <td>Married-civ-spouse</td>\n",
       "      <td>Exec-managerial</td>\n",
       "      <td>Husband</td>\n",
       "      <td>White</td>\n",
       "      <td>Male</td>\n",
       "      <td>0</td>\n",
       "      <td>0</td>\n",
       "      <td>0</td>\n",
       "      <td>United-States</td>\n",
       "      <td>&lt;=50K</td>\n",
       "    </tr>\n",
       "    <tr>\n",
       "      <th>2</th>\n",
       "      <td>2</td>\n",
       "      <td>Private</td>\n",
       "      <td>215646</td>\n",
       "      <td>HS-grad</td>\n",
       "      <td>9</td>\n",
       "      <td>Divorced</td>\n",
       "      <td>Handlers-cleaners</td>\n",
       "      <td>Not-in-family</td>\n",
       "      <td>White</td>\n",
       "      <td>Male</td>\n",
       "      <td>0</td>\n",
       "      <td>0</td>\n",
       "      <td>2</td>\n",
       "      <td>United-States</td>\n",
       "      <td>&lt;=50K</td>\n",
       "    </tr>\n",
       "    <tr>\n",
       "      <th>3</th>\n",
       "      <td>3</td>\n",
       "      <td>Private</td>\n",
       "      <td>234721</td>\n",
       "      <td>11th</td>\n",
       "      <td>7</td>\n",
       "      <td>Married-civ-spouse</td>\n",
       "      <td>Handlers-cleaners</td>\n",
       "      <td>Husband</td>\n",
       "      <td>Black</td>\n",
       "      <td>Male</td>\n",
       "      <td>0</td>\n",
       "      <td>0</td>\n",
       "      <td>2</td>\n",
       "      <td>United-States</td>\n",
       "      <td>&lt;=50K</td>\n",
       "    </tr>\n",
       "    <tr>\n",
       "      <th>4</th>\n",
       "      <td>1</td>\n",
       "      <td>Private</td>\n",
       "      <td>338409</td>\n",
       "      <td>Bachelors</td>\n",
       "      <td>13</td>\n",
       "      <td>Married-civ-spouse</td>\n",
       "      <td>Prof-specialty</td>\n",
       "      <td>Wife</td>\n",
       "      <td>Black</td>\n",
       "      <td>Female</td>\n",
       "      <td>0</td>\n",
       "      <td>0</td>\n",
       "      <td>2</td>\n",
       "      <td>Cuba</td>\n",
       "      <td>&lt;=50K</td>\n",
       "    </tr>\n",
       "  </tbody>\n",
       "</table>\n",
       "</div>"
      ],
      "text/plain": [
       "   age         workclass  fnlwgt  education  education-num  \\\n",
       "0    2         State-gov   77516  Bachelors             13   \n",
       "1    3  Self-emp-not-inc   83311  Bachelors             13   \n",
       "2    2           Private  215646    HS-grad              9   \n",
       "3    3           Private  234721       11th              7   \n",
       "4    1           Private  338409  Bachelors             13   \n",
       "\n",
       "       marital-status         occupation   relationship   race     sex  \\\n",
       "0       Never-married       Adm-clerical  Not-in-family  White    Male   \n",
       "1  Married-civ-spouse    Exec-managerial        Husband  White    Male   \n",
       "2            Divorced  Handlers-cleaners  Not-in-family  White    Male   \n",
       "3  Married-civ-spouse  Handlers-cleaners        Husband  Black    Male   \n",
       "4  Married-civ-spouse     Prof-specialty           Wife  Black  Female   \n",
       "\n",
       "   capitalgain  capitalloss  hoursperweek native-country  class  \n",
       "0            1            0             2  United-States  <=50K  \n",
       "1            0            0             0  United-States  <=50K  \n",
       "2            0            0             2  United-States  <=50K  \n",
       "3            0            0             2  United-States  <=50K  \n",
       "4            0            0             2           Cuba  <=50K  "
      ]
     },
     "execution_count": 3,
     "metadata": {},
     "output_type": "execute_result"
    }
   ],
   "source": [
    "population.info()\n",
    "population.head()"
   ]
  },
  {
   "cell_type": "markdown",
   "id": "cfb79c9c",
   "metadata": {},
   "source": [
    "Classified the training features and predicted feature"
   ]
  },
  {
   "cell_type": "code",
   "execution_count": 4,
   "id": "0254832d",
   "metadata": {},
   "outputs": [],
   "source": [
    "sample_1 = population"
   ]
  },
  {
   "cell_type": "code",
   "execution_count": 5,
   "id": "d37ec977",
   "metadata": {},
   "outputs": [],
   "source": [
    "X= sample_1[[\"age\",\"workclass\",\"education-num\",\"marital-status\",\"occupation\",\"relationship\",\"race\",\"sex\",\"capitalgain\",\"capitalloss\",\"hoursperweek\",\"native-country\"]]\n",
    "y = sample_1[\"class\"]"
   ]
  },
  {
   "cell_type": "markdown",
   "id": "b4ae5b36",
   "metadata": {},
   "source": [
    "Split the dataset into 70:20 ratio"
   ]
  },
  {
   "cell_type": "code",
   "execution_count": 6,
   "id": "bbcf0b0e",
   "metadata": {},
   "outputs": [],
   "source": [
    "X_train, X_test, y_train, y_test = train_test_split(X, y, test_size=0.20, random_state = 42)"
   ]
  },
  {
   "cell_type": "code",
   "execution_count": 7,
   "id": "30470344",
   "metadata": {},
   "outputs": [
    {
     "name": "stdout",
     "output_type": "stream",
     "text": [
      "<class 'pandas.core.frame.DataFrame'>\n",
      "Int64Index: 39073 entries, 37193 to 15795\n",
      "Data columns (total 12 columns):\n",
      " #   Column          Non-Null Count  Dtype \n",
      "---  ------          --------------  ----- \n",
      " 0   age             39073 non-null  int64 \n",
      " 1   workclass       36851 non-null  object\n",
      " 2   education-num   39073 non-null  int64 \n",
      " 3   marital-status  39073 non-null  object\n",
      " 4   occupation      36842 non-null  object\n",
      " 5   relationship    39073 non-null  object\n",
      " 6   race            39073 non-null  object\n",
      " 7   sex             39073 non-null  object\n",
      " 8   capitalgain     39073 non-null  int64 \n",
      " 9   capitalloss     39073 non-null  int64 \n",
      " 10  hoursperweek    39073 non-null  int64 \n",
      " 11  native-country  38396 non-null  object\n",
      "dtypes: int64(5), object(7)\n",
      "memory usage: 3.9+ MB\n"
     ]
    }
   ],
   "source": [
    "X_train.info()"
   ]
  },
  {
   "cell_type": "code",
   "execution_count": 8,
   "id": "26dcb219",
   "metadata": {
    "scrolled": true
   },
   "outputs": [
    {
     "data": {
      "text/plain": [
       "37193    <=50K\n",
       "31093     >50K\n",
       "33814    <=50K\n",
       "14500    <=50K\n",
       "23399    <=50K\n",
       "         ...  \n",
       "11284     >50K\n",
       "44732    <=50K\n",
       "38158    <=50K\n",
       "860      <=50K\n",
       "15795    <=50K\n",
       "Name: class, Length: 39073, dtype: object"
      ]
     },
     "execution_count": 8,
     "metadata": {},
     "output_type": "execute_result"
    }
   ],
   "source": [
    "y_train"
   ]
  },
  {
   "cell_type": "markdown",
   "id": "12c1f422",
   "metadata": {},
   "source": [
    "# Functions to get the columns by type,checking if there are any missing values in the row and deleting those rows."
   ]
  },
  {
   "cell_type": "code",
   "execution_count": 9,
   "id": "1016ce1b",
   "metadata": {},
   "outputs": [],
   "source": [
    "def variable(data,x):\n",
    "    cols = data.select_dtypes([x]).columns\n",
    "    missing_values = []\n",
    "    for i in range(len(cols)):\n",
    "        if data[cols[i]].isnull().values.any():\n",
    "            missing_values.append(cols[i])\n",
    "    return(missing_values,list(cols))\n",
    "    "
   ]
  },
  {
   "cell_type": "markdown",
   "id": "2b1e0f55",
   "metadata": {},
   "source": [
    "Checking for X_train for type numeric"
   ]
  },
  {
   "cell_type": "code",
   "execution_count": 10,
   "id": "3419792e",
   "metadata": {},
   "outputs": [],
   "source": [
    "missing_values, cols = variable(X_train, np.number)"
   ]
  },
  {
   "cell_type": "code",
   "execution_count": 11,
   "id": "998f1541",
   "metadata": {},
   "outputs": [
    {
     "data": {
      "text/plain": [
       "[]"
      ]
     },
     "execution_count": 11,
     "metadata": {},
     "output_type": "execute_result"
    }
   ],
   "source": [
    "missing_values"
   ]
  },
  {
   "cell_type": "markdown",
   "id": "aec0b705",
   "metadata": {},
   "source": [
    "Checking for X_train for type category"
   ]
  },
  {
   "cell_type": "code",
   "execution_count": 12,
   "id": "c749a24d",
   "metadata": {
    "scrolled": true
   },
   "outputs": [
    {
     "name": "stderr",
     "output_type": "stream",
     "text": [
      "C:\\Users\\sathv\\AppData\\Local\\Temp\\ipykernel_6848\\1850552422.py:1: DeprecationWarning: `np.object` is a deprecated alias for the builtin `object`. To silence this warning, use `object` by itself. Doing this will not modify any behavior and is safe. \n",
      "Deprecated in NumPy 1.20; for more details and guidance: https://numpy.org/devdocs/release/1.20.0-notes.html#deprecations\n",
      "  missing_values, cat_cols = variable(X_train, np.object)\n"
     ]
    }
   ],
   "source": [
    "missing_values, cat_cols = variable(X_train, np.object)"
   ]
  },
  {
   "cell_type": "code",
   "execution_count": 13,
   "id": "7659368d",
   "metadata": {},
   "outputs": [
    {
     "data": {
      "text/plain": [
       "['workclass', 'occupation', 'native-country']"
      ]
     },
     "execution_count": 13,
     "metadata": {},
     "output_type": "execute_result"
    }
   ],
   "source": [
    "missing_values"
   ]
  },
  {
   "cell_type": "code",
   "execution_count": 14,
   "id": "5ae32376",
   "metadata": {
    "scrolled": true
   },
   "outputs": [
    {
     "data": {
      "text/plain": [
       "['workclass',\n",
       " 'marital-status',\n",
       " 'occupation',\n",
       " 'relationship',\n",
       " 'race',\n",
       " 'sex',\n",
       " 'native-country']"
      ]
     },
     "execution_count": 14,
     "metadata": {},
     "output_type": "execute_result"
    }
   ],
   "source": [
    "cat_cols"
   ]
  },
  {
   "cell_type": "code",
   "execution_count": 15,
   "id": "dd8f3d2b",
   "metadata": {
    "scrolled": true
   },
   "outputs": [
    {
     "data": {
      "text/html": [
       "<div>\n",
       "<style scoped>\n",
       "    .dataframe tbody tr th:only-of-type {\n",
       "        vertical-align: middle;\n",
       "    }\n",
       "\n",
       "    .dataframe tbody tr th {\n",
       "        vertical-align: top;\n",
       "    }\n",
       "\n",
       "    .dataframe thead th {\n",
       "        text-align: right;\n",
       "    }\n",
       "</style>\n",
       "<table border=\"1\" class=\"dataframe\">\n",
       "  <thead>\n",
       "    <tr style=\"text-align: right;\">\n",
       "      <th></th>\n",
       "      <th>workclass</th>\n",
       "      <th>occupation</th>\n",
       "      <th>native-country</th>\n",
       "    </tr>\n",
       "  </thead>\n",
       "  <tbody>\n",
       "    <tr>\n",
       "      <th>0</th>\n",
       "      <td>Private</td>\n",
       "      <td>Prof-specialty</td>\n",
       "      <td>United-States</td>\n",
       "    </tr>\n",
       "  </tbody>\n",
       "</table>\n",
       "</div>"
      ],
      "text/plain": [
       "  workclass      occupation native-country\n",
       "0   Private  Prof-specialty  United-States"
      ]
     },
     "execution_count": 15,
     "metadata": {},
     "output_type": "execute_result"
    }
   ],
   "source": [
    "X_train[missing_values].mode() "
   ]
  },
  {
   "cell_type": "code",
   "execution_count": 16,
   "id": "715da017",
   "metadata": {},
   "outputs": [],
   "source": [
    "X_train[missing_values] = X_train[missing_values].fillna(X_train[missing_values].mode().iloc[0])"
   ]
  },
  {
   "cell_type": "code",
   "execution_count": 17,
   "id": "9c5d7e02",
   "metadata": {},
   "outputs": [
    {
     "data": {
      "text/plain": [
       "age               0\n",
       "workclass         0\n",
       "education-num     0\n",
       "marital-status    0\n",
       "occupation        0\n",
       "relationship      0\n",
       "race              0\n",
       "sex               0\n",
       "capitalgain       0\n",
       "capitalloss       0\n",
       "hoursperweek      0\n",
       "native-country    0\n",
       "dtype: int64"
      ]
     },
     "execution_count": 17,
     "metadata": {},
     "output_type": "execute_result"
    }
   ],
   "source": [
    "X_train.isnull().sum()"
   ]
  },
  {
   "cell_type": "code",
   "execution_count": 18,
   "id": "eccb31b2",
   "metadata": {},
   "outputs": [
    {
     "data": {
      "text/plain": [
       "39073"
      ]
     },
     "execution_count": 18,
     "metadata": {},
     "output_type": "execute_result"
    }
   ],
   "source": [
    "len(X_train)"
   ]
  },
  {
   "cell_type": "code",
   "execution_count": 19,
   "id": "dea8d0de",
   "metadata": {},
   "outputs": [
    {
     "data": {
      "text/plain": [
       "0"
      ]
     },
     "execution_count": 19,
     "metadata": {},
     "output_type": "execute_result"
    }
   ],
   "source": [
    "y_train.isnull().sum()"
   ]
  },
  {
   "cell_type": "code",
   "execution_count": 20,
   "id": "cd4494d5",
   "metadata": {},
   "outputs": [
    {
     "data": {
      "text/plain": [
       "39073"
      ]
     },
     "execution_count": 20,
     "metadata": {},
     "output_type": "execute_result"
    }
   ],
   "source": [
    "len(y_train)"
   ]
  },
  {
   "cell_type": "markdown",
   "id": "fe405888",
   "metadata": {},
   "source": [
    "Convert categorical variables to numerical variables \n",
    "1. One-Hot Encoding"
   ]
  },
  {
   "cell_type": "markdown",
   "id": "e32e83db",
   "metadata": {},
   "source": [
    "# One-Hot encoding for X_train"
   ]
  },
  {
   "cell_type": "code",
   "execution_count": 21,
   "id": "97fc649c",
   "metadata": {},
   "outputs": [],
   "source": [
    "X_train = pd.get_dummies(X_train, columns = ['workclass', 'relationship', 'marital-status', 'occupation', 'race', 'sex', 'native-country'])"
   ]
  },
  {
   "cell_type": "code",
   "execution_count": 22,
   "id": "842c1a1a",
   "metadata": {
    "scrolled": false
   },
   "outputs": [
    {
     "data": {
      "text/html": [
       "<div>\n",
       "<style scoped>\n",
       "    .dataframe tbody tr th:only-of-type {\n",
       "        vertical-align: middle;\n",
       "    }\n",
       "\n",
       "    .dataframe tbody tr th {\n",
       "        vertical-align: top;\n",
       "    }\n",
       "\n",
       "    .dataframe thead th {\n",
       "        text-align: right;\n",
       "    }\n",
       "</style>\n",
       "<table border=\"1\" class=\"dataframe\">\n",
       "  <thead>\n",
       "    <tr style=\"text-align: right;\">\n",
       "      <th></th>\n",
       "      <th>age</th>\n",
       "      <th>education-num</th>\n",
       "      <th>capitalgain</th>\n",
       "      <th>capitalloss</th>\n",
       "      <th>hoursperweek</th>\n",
       "      <th>workclass_Federal-gov</th>\n",
       "      <th>workclass_Local-gov</th>\n",
       "      <th>workclass_Never-worked</th>\n",
       "      <th>workclass_Private</th>\n",
       "      <th>workclass_Self-emp-inc</th>\n",
       "      <th>...</th>\n",
       "      <th>native-country_Portugal</th>\n",
       "      <th>native-country_Puerto-Rico</th>\n",
       "      <th>native-country_Scotland</th>\n",
       "      <th>native-country_South</th>\n",
       "      <th>native-country_Taiwan</th>\n",
       "      <th>native-country_Thailand</th>\n",
       "      <th>native-country_Trinadad&amp;Tobago</th>\n",
       "      <th>native-country_United-States</th>\n",
       "      <th>native-country_Vietnam</th>\n",
       "      <th>native-country_Yugoslavia</th>\n",
       "    </tr>\n",
       "  </thead>\n",
       "  <tbody>\n",
       "    <tr>\n",
       "      <th>37193</th>\n",
       "      <td>1</td>\n",
       "      <td>9</td>\n",
       "      <td>0</td>\n",
       "      <td>0</td>\n",
       "      <td>2</td>\n",
       "      <td>0</td>\n",
       "      <td>0</td>\n",
       "      <td>0</td>\n",
       "      <td>1</td>\n",
       "      <td>0</td>\n",
       "      <td>...</td>\n",
       "      <td>0</td>\n",
       "      <td>0</td>\n",
       "      <td>0</td>\n",
       "      <td>0</td>\n",
       "      <td>0</td>\n",
       "      <td>0</td>\n",
       "      <td>0</td>\n",
       "      <td>1</td>\n",
       "      <td>0</td>\n",
       "      <td>0</td>\n",
       "    </tr>\n",
       "    <tr>\n",
       "      <th>31093</th>\n",
       "      <td>2</td>\n",
       "      <td>14</td>\n",
       "      <td>0</td>\n",
       "      <td>0</td>\n",
       "      <td>2</td>\n",
       "      <td>0</td>\n",
       "      <td>0</td>\n",
       "      <td>0</td>\n",
       "      <td>0</td>\n",
       "      <td>0</td>\n",
       "      <td>...</td>\n",
       "      <td>0</td>\n",
       "      <td>0</td>\n",
       "      <td>0</td>\n",
       "      <td>0</td>\n",
       "      <td>0</td>\n",
       "      <td>0</td>\n",
       "      <td>0</td>\n",
       "      <td>1</td>\n",
       "      <td>0</td>\n",
       "      <td>0</td>\n",
       "    </tr>\n",
       "    <tr>\n",
       "      <th>33814</th>\n",
       "      <td>1</td>\n",
       "      <td>8</td>\n",
       "      <td>0</td>\n",
       "      <td>0</td>\n",
       "      <td>2</td>\n",
       "      <td>0</td>\n",
       "      <td>1</td>\n",
       "      <td>0</td>\n",
       "      <td>0</td>\n",
       "      <td>0</td>\n",
       "      <td>...</td>\n",
       "      <td>0</td>\n",
       "      <td>0</td>\n",
       "      <td>0</td>\n",
       "      <td>0</td>\n",
       "      <td>0</td>\n",
       "      <td>0</td>\n",
       "      <td>0</td>\n",
       "      <td>1</td>\n",
       "      <td>0</td>\n",
       "      <td>0</td>\n",
       "    </tr>\n",
       "    <tr>\n",
       "      <th>14500</th>\n",
       "      <td>4</td>\n",
       "      <td>9</td>\n",
       "      <td>0</td>\n",
       "      <td>0</td>\n",
       "      <td>0</td>\n",
       "      <td>0</td>\n",
       "      <td>0</td>\n",
       "      <td>0</td>\n",
       "      <td>1</td>\n",
       "      <td>0</td>\n",
       "      <td>...</td>\n",
       "      <td>0</td>\n",
       "      <td>0</td>\n",
       "      <td>0</td>\n",
       "      <td>0</td>\n",
       "      <td>0</td>\n",
       "      <td>0</td>\n",
       "      <td>0</td>\n",
       "      <td>1</td>\n",
       "      <td>0</td>\n",
       "      <td>0</td>\n",
       "    </tr>\n",
       "    <tr>\n",
       "      <th>23399</th>\n",
       "      <td>4</td>\n",
       "      <td>9</td>\n",
       "      <td>0</td>\n",
       "      <td>0</td>\n",
       "      <td>4</td>\n",
       "      <td>0</td>\n",
       "      <td>0</td>\n",
       "      <td>0</td>\n",
       "      <td>0</td>\n",
       "      <td>0</td>\n",
       "      <td>...</td>\n",
       "      <td>0</td>\n",
       "      <td>0</td>\n",
       "      <td>0</td>\n",
       "      <td>0</td>\n",
       "      <td>0</td>\n",
       "      <td>0</td>\n",
       "      <td>0</td>\n",
       "      <td>1</td>\n",
       "      <td>0</td>\n",
       "      <td>0</td>\n",
       "    </tr>\n",
       "  </tbody>\n",
       "</table>\n",
       "<p>5 rows × 87 columns</p>\n",
       "</div>"
      ],
      "text/plain": [
       "       age  education-num  capitalgain  capitalloss  hoursperweek  \\\n",
       "37193    1              9            0            0             2   \n",
       "31093    2             14            0            0             2   \n",
       "33814    1              8            0            0             2   \n",
       "14500    4              9            0            0             0   \n",
       "23399    4              9            0            0             4   \n",
       "\n",
       "       workclass_Federal-gov  workclass_Local-gov  workclass_Never-worked  \\\n",
       "37193                      0                    0                       0   \n",
       "31093                      0                    0                       0   \n",
       "33814                      0                    1                       0   \n",
       "14500                      0                    0                       0   \n",
       "23399                      0                    0                       0   \n",
       "\n",
       "       workclass_Private  workclass_Self-emp-inc  ...  \\\n",
       "37193                  1                       0  ...   \n",
       "31093                  0                       0  ...   \n",
       "33814                  0                       0  ...   \n",
       "14500                  1                       0  ...   \n",
       "23399                  0                       0  ...   \n",
       "\n",
       "       native-country_Portugal  native-country_Puerto-Rico  \\\n",
       "37193                        0                           0   \n",
       "31093                        0                           0   \n",
       "33814                        0                           0   \n",
       "14500                        0                           0   \n",
       "23399                        0                           0   \n",
       "\n",
       "       native-country_Scotland  native-country_South  native-country_Taiwan  \\\n",
       "37193                        0                     0                      0   \n",
       "31093                        0                     0                      0   \n",
       "33814                        0                     0                      0   \n",
       "14500                        0                     0                      0   \n",
       "23399                        0                     0                      0   \n",
       "\n",
       "       native-country_Thailand  native-country_Trinadad&Tobago  \\\n",
       "37193                        0                               0   \n",
       "31093                        0                               0   \n",
       "33814                        0                               0   \n",
       "14500                        0                               0   \n",
       "23399                        0                               0   \n",
       "\n",
       "       native-country_United-States  native-country_Vietnam  \\\n",
       "37193                             1                       0   \n",
       "31093                             1                       0   \n",
       "33814                             1                       0   \n",
       "14500                             1                       0   \n",
       "23399                             1                       0   \n",
       "\n",
       "       native-country_Yugoslavia  \n",
       "37193                          0  \n",
       "31093                          0  \n",
       "33814                          0  \n",
       "14500                          0  \n",
       "23399                          0  \n",
       "\n",
       "[5 rows x 87 columns]"
      ]
     },
     "execution_count": 22,
     "metadata": {},
     "output_type": "execute_result"
    }
   ],
   "source": [
    "X_train.head()"
   ]
  },
  {
   "cell_type": "markdown",
   "id": "131aadb9",
   "metadata": {},
   "source": [
    "# One-Hot encoding for y_train"
   ]
  },
  {
   "cell_type": "code",
   "execution_count": 23,
   "id": "706eb74e",
   "metadata": {
    "scrolled": true
   },
   "outputs": [
    {
     "data": {
      "text/plain": [
       "37193    <=50K\n",
       "31093     >50K\n",
       "33814    <=50K\n",
       "14500    <=50K\n",
       "23399    <=50K\n",
       "         ...  \n",
       "11284     >50K\n",
       "44732    <=50K\n",
       "38158    <=50K\n",
       "860      <=50K\n",
       "15795    <=50K\n",
       "Name: class, Length: 39073, dtype: object"
      ]
     },
     "execution_count": 23,
     "metadata": {},
     "output_type": "execute_result"
    }
   ],
   "source": [
    "y_train"
   ]
  },
  {
   "cell_type": "code",
   "execution_count": 24,
   "id": "187c276d",
   "metadata": {},
   "outputs": [],
   "source": [
    "y_train = y_train.astype('category')"
   ]
  },
  {
   "cell_type": "code",
   "execution_count": 25,
   "id": "c94c8913",
   "metadata": {},
   "outputs": [
    {
     "data": {
      "text/plain": [
       "37193    <=50K\n",
       "31093     >50K\n",
       "33814    <=50K\n",
       "14500    <=50K\n",
       "23399    <=50K\n",
       "         ...  \n",
       "11284     >50K\n",
       "44732    <=50K\n",
       "38158    <=50K\n",
       "860      <=50K\n",
       "15795    <=50K\n",
       "Name: class, Length: 39073, dtype: category\n",
       "Categories (2, object): ['<=50K', '>50K']"
      ]
     },
     "execution_count": 25,
     "metadata": {},
     "output_type": "execute_result"
    }
   ],
   "source": [
    "y_train"
   ]
  },
  {
   "cell_type": "markdown",
   "id": "1f6eb984",
   "metadata": {},
   "source": [
    "# One-Hot encoding for X_test"
   ]
  },
  {
   "cell_type": "code",
   "execution_count": 26,
   "id": "8aa8f016",
   "metadata": {},
   "outputs": [],
   "source": [
    "X_test = pd.get_dummies(X_test, columns = ['workclass', 'relationship', 'marital-status', 'occupation', 'race', 'sex', 'native-country'])"
   ]
  },
  {
   "cell_type": "code",
   "execution_count": 27,
   "id": "f469ef13",
   "metadata": {
    "scrolled": true
   },
   "outputs": [
    {
     "data": {
      "text/html": [
       "<div>\n",
       "<style scoped>\n",
       "    .dataframe tbody tr th:only-of-type {\n",
       "        vertical-align: middle;\n",
       "    }\n",
       "\n",
       "    .dataframe tbody tr th {\n",
       "        vertical-align: top;\n",
       "    }\n",
       "\n",
       "    .dataframe thead th {\n",
       "        text-align: right;\n",
       "    }\n",
       "</style>\n",
       "<table border=\"1\" class=\"dataframe\">\n",
       "  <thead>\n",
       "    <tr style=\"text-align: right;\">\n",
       "      <th></th>\n",
       "      <th>age</th>\n",
       "      <th>education-num</th>\n",
       "      <th>capitalgain</th>\n",
       "      <th>capitalloss</th>\n",
       "      <th>hoursperweek</th>\n",
       "      <th>workclass_Federal-gov</th>\n",
       "      <th>workclass_Local-gov</th>\n",
       "      <th>workclass_Never-worked</th>\n",
       "      <th>workclass_Private</th>\n",
       "      <th>workclass_Self-emp-inc</th>\n",
       "      <th>...</th>\n",
       "      <th>native-country_Portugal</th>\n",
       "      <th>native-country_Puerto-Rico</th>\n",
       "      <th>native-country_Scotland</th>\n",
       "      <th>native-country_South</th>\n",
       "      <th>native-country_Taiwan</th>\n",
       "      <th>native-country_Thailand</th>\n",
       "      <th>native-country_Trinadad&amp;Tobago</th>\n",
       "      <th>native-country_United-States</th>\n",
       "      <th>native-country_Vietnam</th>\n",
       "      <th>native-country_Yugoslavia</th>\n",
       "    </tr>\n",
       "  </thead>\n",
       "  <tbody>\n",
       "    <tr>\n",
       "      <th>7762</th>\n",
       "      <td>0</td>\n",
       "      <td>9</td>\n",
       "      <td>0</td>\n",
       "      <td>0</td>\n",
       "      <td>0</td>\n",
       "      <td>0</td>\n",
       "      <td>0</td>\n",
       "      <td>0</td>\n",
       "      <td>1</td>\n",
       "      <td>0</td>\n",
       "      <td>...</td>\n",
       "      <td>0</td>\n",
       "      <td>0</td>\n",
       "      <td>0</td>\n",
       "      <td>0</td>\n",
       "      <td>0</td>\n",
       "      <td>0</td>\n",
       "      <td>0</td>\n",
       "      <td>1</td>\n",
       "      <td>0</td>\n",
       "      <td>0</td>\n",
       "    </tr>\n",
       "    <tr>\n",
       "      <th>23881</th>\n",
       "      <td>0</td>\n",
       "      <td>8</td>\n",
       "      <td>0</td>\n",
       "      <td>0</td>\n",
       "      <td>0</td>\n",
       "      <td>0</td>\n",
       "      <td>0</td>\n",
       "      <td>0</td>\n",
       "      <td>1</td>\n",
       "      <td>0</td>\n",
       "      <td>...</td>\n",
       "      <td>0</td>\n",
       "      <td>0</td>\n",
       "      <td>0</td>\n",
       "      <td>0</td>\n",
       "      <td>0</td>\n",
       "      <td>0</td>\n",
       "      <td>0</td>\n",
       "      <td>1</td>\n",
       "      <td>0</td>\n",
       "      <td>0</td>\n",
       "    </tr>\n",
       "    <tr>\n",
       "      <th>30507</th>\n",
       "      <td>0</td>\n",
       "      <td>9</td>\n",
       "      <td>0</td>\n",
       "      <td>0</td>\n",
       "      <td>2</td>\n",
       "      <td>0</td>\n",
       "      <td>1</td>\n",
       "      <td>0</td>\n",
       "      <td>0</td>\n",
       "      <td>0</td>\n",
       "      <td>...</td>\n",
       "      <td>0</td>\n",
       "      <td>0</td>\n",
       "      <td>0</td>\n",
       "      <td>0</td>\n",
       "      <td>0</td>\n",
       "      <td>0</td>\n",
       "      <td>0</td>\n",
       "      <td>1</td>\n",
       "      <td>0</td>\n",
       "      <td>0</td>\n",
       "    </tr>\n",
       "    <tr>\n",
       "      <th>28911</th>\n",
       "      <td>0</td>\n",
       "      <td>10</td>\n",
       "      <td>0</td>\n",
       "      <td>0</td>\n",
       "      <td>1</td>\n",
       "      <td>0</td>\n",
       "      <td>0</td>\n",
       "      <td>0</td>\n",
       "      <td>1</td>\n",
       "      <td>0</td>\n",
       "      <td>...</td>\n",
       "      <td>0</td>\n",
       "      <td>0</td>\n",
       "      <td>0</td>\n",
       "      <td>0</td>\n",
       "      <td>0</td>\n",
       "      <td>0</td>\n",
       "      <td>0</td>\n",
       "      <td>1</td>\n",
       "      <td>0</td>\n",
       "      <td>0</td>\n",
       "    </tr>\n",
       "    <tr>\n",
       "      <th>19484</th>\n",
       "      <td>3</td>\n",
       "      <td>9</td>\n",
       "      <td>0</td>\n",
       "      <td>0</td>\n",
       "      <td>3</td>\n",
       "      <td>0</td>\n",
       "      <td>0</td>\n",
       "      <td>0</td>\n",
       "      <td>1</td>\n",
       "      <td>0</td>\n",
       "      <td>...</td>\n",
       "      <td>0</td>\n",
       "      <td>1</td>\n",
       "      <td>0</td>\n",
       "      <td>0</td>\n",
       "      <td>0</td>\n",
       "      <td>0</td>\n",
       "      <td>0</td>\n",
       "      <td>0</td>\n",
       "      <td>0</td>\n",
       "      <td>0</td>\n",
       "    </tr>\n",
       "    <tr>\n",
       "      <th>...</th>\n",
       "      <td>...</td>\n",
       "      <td>...</td>\n",
       "      <td>...</td>\n",
       "      <td>...</td>\n",
       "      <td>...</td>\n",
       "      <td>...</td>\n",
       "      <td>...</td>\n",
       "      <td>...</td>\n",
       "      <td>...</td>\n",
       "      <td>...</td>\n",
       "      <td>...</td>\n",
       "      <td>...</td>\n",
       "      <td>...</td>\n",
       "      <td>...</td>\n",
       "      <td>...</td>\n",
       "      <td>...</td>\n",
       "      <td>...</td>\n",
       "      <td>...</td>\n",
       "      <td>...</td>\n",
       "      <td>...</td>\n",
       "      <td>...</td>\n",
       "    </tr>\n",
       "    <tr>\n",
       "      <th>43046</th>\n",
       "      <td>4</td>\n",
       "      <td>14</td>\n",
       "      <td>0</td>\n",
       "      <td>0</td>\n",
       "      <td>2</td>\n",
       "      <td>0</td>\n",
       "      <td>0</td>\n",
       "      <td>0</td>\n",
       "      <td>0</td>\n",
       "      <td>0</td>\n",
       "      <td>...</td>\n",
       "      <td>0</td>\n",
       "      <td>0</td>\n",
       "      <td>0</td>\n",
       "      <td>0</td>\n",
       "      <td>0</td>\n",
       "      <td>0</td>\n",
       "      <td>0</td>\n",
       "      <td>1</td>\n",
       "      <td>0</td>\n",
       "      <td>0</td>\n",
       "    </tr>\n",
       "    <tr>\n",
       "      <th>18798</th>\n",
       "      <td>0</td>\n",
       "      <td>9</td>\n",
       "      <td>0</td>\n",
       "      <td>0</td>\n",
       "      <td>2</td>\n",
       "      <td>0</td>\n",
       "      <td>0</td>\n",
       "      <td>0</td>\n",
       "      <td>1</td>\n",
       "      <td>0</td>\n",
       "      <td>...</td>\n",
       "      <td>0</td>\n",
       "      <td>0</td>\n",
       "      <td>0</td>\n",
       "      <td>0</td>\n",
       "      <td>0</td>\n",
       "      <td>0</td>\n",
       "      <td>0</td>\n",
       "      <td>1</td>\n",
       "      <td>0</td>\n",
       "      <td>0</td>\n",
       "    </tr>\n",
       "    <tr>\n",
       "      <th>29519</th>\n",
       "      <td>2</td>\n",
       "      <td>10</td>\n",
       "      <td>0</td>\n",
       "      <td>0</td>\n",
       "      <td>3</td>\n",
       "      <td>0</td>\n",
       "      <td>0</td>\n",
       "      <td>0</td>\n",
       "      <td>1</td>\n",
       "      <td>0</td>\n",
       "      <td>...</td>\n",
       "      <td>0</td>\n",
       "      <td>0</td>\n",
       "      <td>0</td>\n",
       "      <td>0</td>\n",
       "      <td>0</td>\n",
       "      <td>0</td>\n",
       "      <td>0</td>\n",
       "      <td>1</td>\n",
       "      <td>0</td>\n",
       "      <td>0</td>\n",
       "    </tr>\n",
       "    <tr>\n",
       "      <th>550</th>\n",
       "      <td>3</td>\n",
       "      <td>10</td>\n",
       "      <td>0</td>\n",
       "      <td>0</td>\n",
       "      <td>3</td>\n",
       "      <td>0</td>\n",
       "      <td>0</td>\n",
       "      <td>0</td>\n",
       "      <td>0</td>\n",
       "      <td>0</td>\n",
       "      <td>...</td>\n",
       "      <td>0</td>\n",
       "      <td>0</td>\n",
       "      <td>0</td>\n",
       "      <td>0</td>\n",
       "      <td>0</td>\n",
       "      <td>0</td>\n",
       "      <td>0</td>\n",
       "      <td>1</td>\n",
       "      <td>0</td>\n",
       "      <td>0</td>\n",
       "    </tr>\n",
       "    <tr>\n",
       "      <th>14337</th>\n",
       "      <td>2</td>\n",
       "      <td>9</td>\n",
       "      <td>0</td>\n",
       "      <td>0</td>\n",
       "      <td>2</td>\n",
       "      <td>0</td>\n",
       "      <td>0</td>\n",
       "      <td>0</td>\n",
       "      <td>1</td>\n",
       "      <td>0</td>\n",
       "      <td>...</td>\n",
       "      <td>0</td>\n",
       "      <td>0</td>\n",
       "      <td>0</td>\n",
       "      <td>0</td>\n",
       "      <td>0</td>\n",
       "      <td>0</td>\n",
       "      <td>0</td>\n",
       "      <td>1</td>\n",
       "      <td>0</td>\n",
       "      <td>0</td>\n",
       "    </tr>\n",
       "  </tbody>\n",
       "</table>\n",
       "<p>9769 rows × 88 columns</p>\n",
       "</div>"
      ],
      "text/plain": [
       "       age  education-num  capitalgain  capitalloss  hoursperweek  \\\n",
       "7762     0              9            0            0             0   \n",
       "23881    0              8            0            0             0   \n",
       "30507    0              9            0            0             2   \n",
       "28911    0             10            0            0             1   \n",
       "19484    3              9            0            0             3   \n",
       "...    ...            ...          ...          ...           ...   \n",
       "43046    4             14            0            0             2   \n",
       "18798    0              9            0            0             2   \n",
       "29519    2             10            0            0             3   \n",
       "550      3             10            0            0             3   \n",
       "14337    2              9            0            0             2   \n",
       "\n",
       "       workclass_Federal-gov  workclass_Local-gov  workclass_Never-worked  \\\n",
       "7762                       0                    0                       0   \n",
       "23881                      0                    0                       0   \n",
       "30507                      0                    1                       0   \n",
       "28911                      0                    0                       0   \n",
       "19484                      0                    0                       0   \n",
       "...                      ...                  ...                     ...   \n",
       "43046                      0                    0                       0   \n",
       "18798                      0                    0                       0   \n",
       "29519                      0                    0                       0   \n",
       "550                        0                    0                       0   \n",
       "14337                      0                    0                       0   \n",
       "\n",
       "       workclass_Private  workclass_Self-emp-inc  ...  \\\n",
       "7762                   1                       0  ...   \n",
       "23881                  1                       0  ...   \n",
       "30507                  0                       0  ...   \n",
       "28911                  1                       0  ...   \n",
       "19484                  1                       0  ...   \n",
       "...                  ...                     ...  ...   \n",
       "43046                  0                       0  ...   \n",
       "18798                  1                       0  ...   \n",
       "29519                  1                       0  ...   \n",
       "550                    0                       0  ...   \n",
       "14337                  1                       0  ...   \n",
       "\n",
       "       native-country_Portugal  native-country_Puerto-Rico  \\\n",
       "7762                         0                           0   \n",
       "23881                        0                           0   \n",
       "30507                        0                           0   \n",
       "28911                        0                           0   \n",
       "19484                        0                           1   \n",
       "...                        ...                         ...   \n",
       "43046                        0                           0   \n",
       "18798                        0                           0   \n",
       "29519                        0                           0   \n",
       "550                          0                           0   \n",
       "14337                        0                           0   \n",
       "\n",
       "       native-country_Scotland  native-country_South  native-country_Taiwan  \\\n",
       "7762                         0                     0                      0   \n",
       "23881                        0                     0                      0   \n",
       "30507                        0                     0                      0   \n",
       "28911                        0                     0                      0   \n",
       "19484                        0                     0                      0   \n",
       "...                        ...                   ...                    ...   \n",
       "43046                        0                     0                      0   \n",
       "18798                        0                     0                      0   \n",
       "29519                        0                     0                      0   \n",
       "550                          0                     0                      0   \n",
       "14337                        0                     0                      0   \n",
       "\n",
       "       native-country_Thailand  native-country_Trinadad&Tobago  \\\n",
       "7762                         0                               0   \n",
       "23881                        0                               0   \n",
       "30507                        0                               0   \n",
       "28911                        0                               0   \n",
       "19484                        0                               0   \n",
       "...                        ...                             ...   \n",
       "43046                        0                               0   \n",
       "18798                        0                               0   \n",
       "29519                        0                               0   \n",
       "550                          0                               0   \n",
       "14337                        0                               0   \n",
       "\n",
       "       native-country_United-States  native-country_Vietnam  \\\n",
       "7762                              1                       0   \n",
       "23881                             1                       0   \n",
       "30507                             1                       0   \n",
       "28911                             1                       0   \n",
       "19484                             0                       0   \n",
       "...                             ...                     ...   \n",
       "43046                             1                       0   \n",
       "18798                             1                       0   \n",
       "29519                             1                       0   \n",
       "550                               1                       0   \n",
       "14337                             1                       0   \n",
       "\n",
       "       native-country_Yugoslavia  \n",
       "7762                           0  \n",
       "23881                          0  \n",
       "30507                          0  \n",
       "28911                          0  \n",
       "19484                          0  \n",
       "...                          ...  \n",
       "43046                          0  \n",
       "18798                          0  \n",
       "29519                          0  \n",
       "550                            0  \n",
       "14337                          0  \n",
       "\n",
       "[9769 rows x 88 columns]"
      ]
     },
     "execution_count": 27,
     "metadata": {},
     "output_type": "execute_result"
    }
   ],
   "source": [
    "X_test"
   ]
  },
  {
   "cell_type": "code",
   "execution_count": 28,
   "id": "6e075599",
   "metadata": {},
   "outputs": [],
   "source": [
    "X_test = X_test.drop(['native-country_Holand-Netherlands'], axis=1)"
   ]
  },
  {
   "cell_type": "code",
   "execution_count": null,
   "id": "1bfb7fbb",
   "metadata": {},
   "outputs": [],
   "source": []
  },
  {
   "cell_type": "markdown",
   "id": "cd91e8f8",
   "metadata": {},
   "source": [
    "# One-Hot encoding for y_test"
   ]
  },
  {
   "cell_type": "code",
   "execution_count": 29,
   "id": "4fc84ade",
   "metadata": {},
   "outputs": [],
   "source": [
    "y_test = y_test.astype('category')"
   ]
  },
  {
   "cell_type": "code",
   "execution_count": 30,
   "id": "6a294fa7",
   "metadata": {
    "scrolled": false
   },
   "outputs": [
    {
     "data": {
      "text/plain": [
       "7762     <=50K\n",
       "23881    <=50K\n",
       "30507    <=50K\n",
       "28911    <=50K\n",
       "19484    <=50K\n",
       "         ...  \n",
       "43046    <=50K\n",
       "18798    <=50K\n",
       "29519    <=50K\n",
       "550      <=50K\n",
       "14337     >50K\n",
       "Name: class, Length: 9769, dtype: category\n",
       "Categories (2, object): ['<=50K', '>50K']"
      ]
     },
     "execution_count": 30,
     "metadata": {},
     "output_type": "execute_result"
    }
   ],
   "source": [
    "y_test"
   ]
  },
  {
   "cell_type": "code",
   "execution_count": 31,
   "id": "92cd3fe9",
   "metadata": {},
   "outputs": [
    {
     "data": {
      "text/plain": [
       "age                               0\n",
       "education-num                     0\n",
       "capitalgain                       0\n",
       "capitalloss                       0\n",
       "hoursperweek                      0\n",
       "                                 ..\n",
       "native-country_Thailand           0\n",
       "native-country_Trinadad&Tobago    0\n",
       "native-country_United-States      0\n",
       "native-country_Vietnam            0\n",
       "native-country_Yugoslavia         0\n",
       "Length: 87, dtype: int64"
      ]
     },
     "execution_count": 31,
     "metadata": {},
     "output_type": "execute_result"
    }
   ],
   "source": [
    "X_train.isnull().sum()"
   ]
  },
  {
   "cell_type": "markdown",
   "id": "4270cac4",
   "metadata": {},
   "source": [
    "# Train the model with train data"
   ]
  },
  {
   "cell_type": "code",
   "execution_count": 32,
   "id": "4d99e2a2",
   "metadata": {},
   "outputs": [],
   "source": [
    "def logistic_regression_train(logisticRegr,x,y):\n",
    "    logisticRegr.fit(x,y)\n",
    "def logistic_regression_test(logisticRegr,x):\n",
    "    y_pred = logisticRegr.predict_proba(x)\n",
    "    return y_pred\n",
    "def logistic_regression_pred_test(logisticRegr,x):\n",
    "    y_pred_test = logisticRegr.predict(x)\n",
    "    return y_pred_test\n",
    "\n",
    "def average_diff(y_pred, X_test):\n",
    "    column_i = y_pred.T[0]\n",
    "    X_test_copy = X_test.copy()\n",
    "    X_test_copy['preds'] = column_i\n",
    "    Female = X_test_copy[\"preds\"][X_test_copy[\"sex_Female\"]== 1]\n",
    "    female_average = sum(Female)/len(Female)\n",
    "    male = X_test_copy[\"preds\"][X_test_copy[\"sex_Male\"] == 1]\n",
    "    male_average = sum(male)/len(male)\n",
    "    diff = (female_average - male_average)\n",
    "    return diff \n",
    "\n",
    "def accuracy(y_test, y_pred_final):\n",
    "#     y_pred_final = np.argmax(y_pred, axis=1)\n",
    "    tn, fp, fn, tp = confusion_matrix(y_test, y_pred_final).ravel()\n",
    "    true_positive  = tn\n",
    "    false_positive = fn\n",
    "    true_negative  = tp\n",
    "    false_negative = fp\n",
    "    accuracy = (true_positive + true_negative) / (true_negative + true_positive + false_positive + false_negative )\n",
    "    return(accuracy)\n",
    "    \n",
    "    "
   ]
  },
  {
   "cell_type": "code",
   "execution_count": 33,
   "id": "d9e021bb",
   "metadata": {},
   "outputs": [
    {
     "name": "stderr",
     "output_type": "stream",
     "text": [
      "C:\\Users\\sathv\\anaconda3\\lib\\site-packages\\sklearn\\neighbors\\_classification.py:228: FutureWarning: Unlike other reduction functions (e.g. `skew`, `kurtosis`), the default behavior of `mode` typically preserves the axis it acts along. In SciPy 1.11.0, this behavior will change: the default value of `keepdims` will become False, the `axis` over which the statistic is taken will be eliminated, and the value None will no longer be accepted. Set `keepdims` to True or False to avoid this warning.\n",
      "  mode, _ = stats.mode(_y[neigh_ind, k], axis=1)\n"
     ]
    }
   ],
   "source": [
    "from sklearn.neighbors import KNeighborsClassifier\n",
    "classifier = KNeighborsClassifier(n_neighbors = 5, metric = 'minkowski', p = 2)\n",
    "classifier.fit(X_train, y_train)\n",
    "\n",
    "y_pred = classifier.predict_proba(X_test)\n",
    "\n",
    "dirty_diff = average_diff(y_pred,X_test)\n",
    "dirty_diff\n",
    "\n",
    "y_pred_test = classifier.predict(X_test)\n",
    "\n",
    "from sklearn.metrics import confusion_matrix,accuracy_score\n",
    "dirty_test_score = accuracy_score(y_test,y_pred_test)"
   ]
  },
  {
   "cell_type": "markdown",
   "id": "1cffedd1",
   "metadata": {},
   "source": [
    "# Testing on clean test data"
   ]
  },
  {
   "cell_type": "code",
   "execution_count": 34,
   "id": "62572ca9",
   "metadata": {},
   "outputs": [],
   "source": [
    "X_clean_train, X_clean_test, y_clean_train, y_clean_test = train_test_split(X, y, test_size=0.20, random_state = 42)"
   ]
  },
  {
   "cell_type": "code",
   "execution_count": 35,
   "id": "f432c571",
   "metadata": {},
   "outputs": [
    {
     "name": "stdout",
     "output_type": "stream",
     "text": [
      "<class 'pandas.core.frame.DataFrame'>\n",
      "Int64Index: 39073 entries, 37193 to 15795\n",
      "Data columns (total 12 columns):\n",
      " #   Column          Non-Null Count  Dtype \n",
      "---  ------          --------------  ----- \n",
      " 0   age             39073 non-null  int64 \n",
      " 1   workclass       36851 non-null  object\n",
      " 2   education-num   39073 non-null  int64 \n",
      " 3   marital-status  39073 non-null  object\n",
      " 4   occupation      36842 non-null  object\n",
      " 5   relationship    39073 non-null  object\n",
      " 6   race            39073 non-null  object\n",
      " 7   sex             39073 non-null  object\n",
      " 8   capitalgain     39073 non-null  int64 \n",
      " 9   capitalloss     39073 non-null  int64 \n",
      " 10  hoursperweek    39073 non-null  int64 \n",
      " 11  native-country  38396 non-null  object\n",
      "dtypes: int64(5), object(7)\n",
      "memory usage: 3.9+ MB\n"
     ]
    }
   ],
   "source": [
    "X_clean_train.info()"
   ]
  },
  {
   "cell_type": "code",
   "execution_count": 36,
   "id": "76a388c7",
   "metadata": {},
   "outputs": [
    {
     "data": {
      "text/plain": [
       "0"
      ]
     },
     "execution_count": 36,
     "metadata": {},
     "output_type": "execute_result"
    }
   ],
   "source": [
    "y_clean_train.isnull().sum()"
   ]
  },
  {
   "cell_type": "code",
   "execution_count": 37,
   "id": "75ed440c",
   "metadata": {
    "scrolled": true
   },
   "outputs": [
    {
     "data": {
      "text/plain": [
       "age                 0\n",
       "workclass         577\n",
       "education-num       0\n",
       "marital-status      0\n",
       "occupation        578\n",
       "relationship        0\n",
       "race                0\n",
       "sex                 0\n",
       "capitalgain         0\n",
       "capitalloss         0\n",
       "hoursperweek        0\n",
       "native-country    180\n",
       "dtype: int64"
      ]
     },
     "execution_count": 37,
     "metadata": {},
     "output_type": "execute_result"
    }
   ],
   "source": [
    "X_clean_test.isnull().sum()"
   ]
  },
  {
   "cell_type": "code",
   "execution_count": 38,
   "id": "90bbd6a6",
   "metadata": {},
   "outputs": [
    {
     "name": "stdout",
     "output_type": "stream",
     "text": [
      "<class 'pandas.core.frame.DataFrame'>\n",
      "Int64Index: 9769 entries, 7762 to 14337\n",
      "Data columns (total 12 columns):\n",
      " #   Column          Non-Null Count  Dtype \n",
      "---  ------          --------------  ----- \n",
      " 0   age             9769 non-null   int64 \n",
      " 1   workclass       9192 non-null   object\n",
      " 2   education-num   9769 non-null   int64 \n",
      " 3   marital-status  9769 non-null   object\n",
      " 4   occupation      9191 non-null   object\n",
      " 5   relationship    9769 non-null   object\n",
      " 6   race            9769 non-null   object\n",
      " 7   sex             9769 non-null   object\n",
      " 8   capitalgain     9769 non-null   int64 \n",
      " 9   capitalloss     9769 non-null   int64 \n",
      " 10  hoursperweek    9769 non-null   int64 \n",
      " 11  native-country  9589 non-null   object\n",
      "dtypes: int64(5), object(7)\n",
      "memory usage: 992.2+ KB\n"
     ]
    }
   ],
   "source": [
    "X_clean_test.info()"
   ]
  },
  {
   "cell_type": "code",
   "execution_count": 39,
   "id": "1d5ff004",
   "metadata": {},
   "outputs": [
    {
     "data": {
      "text/plain": [
       "0"
      ]
     },
     "execution_count": 39,
     "metadata": {},
     "output_type": "execute_result"
    }
   ],
   "source": [
    "y_clean_test.isnull().sum()"
   ]
  },
  {
   "cell_type": "code",
   "execution_count": 40,
   "id": "f10a0db3",
   "metadata": {
    "scrolled": true
   },
   "outputs": [
    {
     "name": "stderr",
     "output_type": "stream",
     "text": [
      "C:\\Users\\sathv\\AppData\\Local\\Temp\\ipykernel_6848\\3080944258.py:1: DeprecationWarning: `np.object` is a deprecated alias for the builtin `object`. To silence this warning, use `object` by itself. Doing this will not modify any behavior and is safe. \n",
      "Deprecated in NumPy 1.20; for more details and guidance: https://numpy.org/devdocs/release/1.20.0-notes.html#deprecations\n",
      "  missing_values, cat_clean_cols = variable(X_clean_train, np.object)\n"
     ]
    }
   ],
   "source": [
    "missing_values, cat_clean_cols = variable(X_clean_train, np.object)"
   ]
  },
  {
   "cell_type": "code",
   "execution_count": 41,
   "id": "7a8e589b",
   "metadata": {},
   "outputs": [
    {
     "data": {
      "text/plain": [
       "['workclass', 'occupation', 'native-country']"
      ]
     },
     "execution_count": 41,
     "metadata": {},
     "output_type": "execute_result"
    }
   ],
   "source": [
    "missing_values"
   ]
  },
  {
   "cell_type": "code",
   "execution_count": 42,
   "id": "812eac38",
   "metadata": {
    "scrolled": false
   },
   "outputs": [
    {
     "name": "stdout",
     "output_type": "stream",
     "text": [
      "<class 'pandas.core.frame.DataFrame'>\n",
      "Int64Index: 39073 entries, 37193 to 15795\n",
      "Data columns (total 12 columns):\n",
      " #   Column          Non-Null Count  Dtype \n",
      "---  ------          --------------  ----- \n",
      " 0   age             39073 non-null  int64 \n",
      " 1   workclass       36851 non-null  object\n",
      " 2   education-num   39073 non-null  int64 \n",
      " 3   marital-status  39073 non-null  object\n",
      " 4   occupation      36842 non-null  object\n",
      " 5   relationship    39073 non-null  object\n",
      " 6   race            39073 non-null  object\n",
      " 7   sex             39073 non-null  object\n",
      " 8   capitalgain     39073 non-null  int64 \n",
      " 9   capitalloss     39073 non-null  int64 \n",
      " 10  hoursperweek    39073 non-null  int64 \n",
      " 11  native-country  38396 non-null  object\n",
      "dtypes: int64(5), object(7)\n",
      "memory usage: 3.9+ MB\n"
     ]
    }
   ],
   "source": [
    "X_clean_train.info()"
   ]
  },
  {
   "cell_type": "code",
   "execution_count": 43,
   "id": "c8ace537",
   "metadata": {},
   "outputs": [],
   "source": [
    "X_clean_train[missing_values] = X_clean_train[missing_values].fillna(X_clean_train[missing_values].mode().iloc[0])"
   ]
  },
  {
   "cell_type": "code",
   "execution_count": 44,
   "id": "58d9836c",
   "metadata": {},
   "outputs": [
    {
     "data": {
      "text/html": [
       "<div>\n",
       "<style scoped>\n",
       "    .dataframe tbody tr th:only-of-type {\n",
       "        vertical-align: middle;\n",
       "    }\n",
       "\n",
       "    .dataframe tbody tr th {\n",
       "        vertical-align: top;\n",
       "    }\n",
       "\n",
       "    .dataframe thead th {\n",
       "        text-align: right;\n",
       "    }\n",
       "</style>\n",
       "<table border=\"1\" class=\"dataframe\">\n",
       "  <thead>\n",
       "    <tr style=\"text-align: right;\">\n",
       "      <th></th>\n",
       "      <th>age</th>\n",
       "      <th>workclass</th>\n",
       "      <th>education-num</th>\n",
       "      <th>marital-status</th>\n",
       "      <th>occupation</th>\n",
       "      <th>relationship</th>\n",
       "      <th>race</th>\n",
       "      <th>sex</th>\n",
       "      <th>capitalgain</th>\n",
       "      <th>capitalloss</th>\n",
       "      <th>hoursperweek</th>\n",
       "      <th>native-country</th>\n",
       "    </tr>\n",
       "  </thead>\n",
       "  <tbody>\n",
       "    <tr>\n",
       "      <th>37193</th>\n",
       "      <td>1</td>\n",
       "      <td>Private</td>\n",
       "      <td>9</td>\n",
       "      <td>Married-civ-spouse</td>\n",
       "      <td>Transport-moving</td>\n",
       "      <td>Husband</td>\n",
       "      <td>White</td>\n",
       "      <td>Male</td>\n",
       "      <td>0</td>\n",
       "      <td>0</td>\n",
       "      <td>2</td>\n",
       "      <td>United-States</td>\n",
       "    </tr>\n",
       "    <tr>\n",
       "      <th>31093</th>\n",
       "      <td>2</td>\n",
       "      <td>State-gov</td>\n",
       "      <td>14</td>\n",
       "      <td>Married-civ-spouse</td>\n",
       "      <td>Prof-specialty</td>\n",
       "      <td>Husband</td>\n",
       "      <td>White</td>\n",
       "      <td>Male</td>\n",
       "      <td>0</td>\n",
       "      <td>0</td>\n",
       "      <td>2</td>\n",
       "      <td>United-States</td>\n",
       "    </tr>\n",
       "    <tr>\n",
       "      <th>33814</th>\n",
       "      <td>1</td>\n",
       "      <td>Local-gov</td>\n",
       "      <td>8</td>\n",
       "      <td>Married-civ-spouse</td>\n",
       "      <td>Farming-fishing</td>\n",
       "      <td>Husband</td>\n",
       "      <td>White</td>\n",
       "      <td>Male</td>\n",
       "      <td>0</td>\n",
       "      <td>0</td>\n",
       "      <td>2</td>\n",
       "      <td>United-States</td>\n",
       "    </tr>\n",
       "    <tr>\n",
       "      <th>14500</th>\n",
       "      <td>4</td>\n",
       "      <td>Private</td>\n",
       "      <td>9</td>\n",
       "      <td>Divorced</td>\n",
       "      <td>Craft-repair</td>\n",
       "      <td>Unmarried</td>\n",
       "      <td>White</td>\n",
       "      <td>Male</td>\n",
       "      <td>0</td>\n",
       "      <td>0</td>\n",
       "      <td>0</td>\n",
       "      <td>United-States</td>\n",
       "    </tr>\n",
       "    <tr>\n",
       "      <th>23399</th>\n",
       "      <td>4</td>\n",
       "      <td>Self-emp-not-inc</td>\n",
       "      <td>9</td>\n",
       "      <td>Widowed</td>\n",
       "      <td>Sales</td>\n",
       "      <td>Not-in-family</td>\n",
       "      <td>White</td>\n",
       "      <td>Male</td>\n",
       "      <td>0</td>\n",
       "      <td>0</td>\n",
       "      <td>4</td>\n",
       "      <td>United-States</td>\n",
       "    </tr>\n",
       "    <tr>\n",
       "      <th>...</th>\n",
       "      <td>...</td>\n",
       "      <td>...</td>\n",
       "      <td>...</td>\n",
       "      <td>...</td>\n",
       "      <td>...</td>\n",
       "      <td>...</td>\n",
       "      <td>...</td>\n",
       "      <td>...</td>\n",
       "      <td>...</td>\n",
       "      <td>...</td>\n",
       "      <td>...</td>\n",
       "      <td>...</td>\n",
       "    </tr>\n",
       "    <tr>\n",
       "      <th>11284</th>\n",
       "      <td>1</td>\n",
       "      <td>Private</td>\n",
       "      <td>13</td>\n",
       "      <td>Married-civ-spouse</td>\n",
       "      <td>Exec-managerial</td>\n",
       "      <td>Husband</td>\n",
       "      <td>Asian-Pac-Islander</td>\n",
       "      <td>Male</td>\n",
       "      <td>0</td>\n",
       "      <td>2</td>\n",
       "      <td>3</td>\n",
       "      <td>United-States</td>\n",
       "    </tr>\n",
       "    <tr>\n",
       "      <th>44732</th>\n",
       "      <td>0</td>\n",
       "      <td>Private</td>\n",
       "      <td>9</td>\n",
       "      <td>Never-married</td>\n",
       "      <td>Machine-op-inspct</td>\n",
       "      <td>Own-child</td>\n",
       "      <td>White</td>\n",
       "      <td>Female</td>\n",
       "      <td>0</td>\n",
       "      <td>0</td>\n",
       "      <td>2</td>\n",
       "      <td>United-States</td>\n",
       "    </tr>\n",
       "    <tr>\n",
       "      <th>38158</th>\n",
       "      <td>0</td>\n",
       "      <td>Private</td>\n",
       "      <td>9</td>\n",
       "      <td>Divorced</td>\n",
       "      <td>Adm-clerical</td>\n",
       "      <td>Not-in-family</td>\n",
       "      <td>White</td>\n",
       "      <td>Female</td>\n",
       "      <td>0</td>\n",
       "      <td>0</td>\n",
       "      <td>2</td>\n",
       "      <td>United-States</td>\n",
       "    </tr>\n",
       "    <tr>\n",
       "      <th>860</th>\n",
       "      <td>0</td>\n",
       "      <td>Private</td>\n",
       "      <td>7</td>\n",
       "      <td>Never-married</td>\n",
       "      <td>Adm-clerical</td>\n",
       "      <td>Own-child</td>\n",
       "      <td>White</td>\n",
       "      <td>Female</td>\n",
       "      <td>0</td>\n",
       "      <td>0</td>\n",
       "      <td>0</td>\n",
       "      <td>United-States</td>\n",
       "    </tr>\n",
       "    <tr>\n",
       "      <th>15795</th>\n",
       "      <td>3</td>\n",
       "      <td>Self-emp-not-inc</td>\n",
       "      <td>9</td>\n",
       "      <td>Married-civ-spouse</td>\n",
       "      <td>Farming-fishing</td>\n",
       "      <td>Husband</td>\n",
       "      <td>White</td>\n",
       "      <td>Male</td>\n",
       "      <td>0</td>\n",
       "      <td>0</td>\n",
       "      <td>4</td>\n",
       "      <td>United-States</td>\n",
       "    </tr>\n",
       "  </tbody>\n",
       "</table>\n",
       "<p>39073 rows × 12 columns</p>\n",
       "</div>"
      ],
      "text/plain": [
       "       age         workclass  education-num      marital-status  \\\n",
       "37193    1           Private              9  Married-civ-spouse   \n",
       "31093    2         State-gov             14  Married-civ-spouse   \n",
       "33814    1         Local-gov              8  Married-civ-spouse   \n",
       "14500    4           Private              9            Divorced   \n",
       "23399    4  Self-emp-not-inc              9             Widowed   \n",
       "...    ...               ...            ...                 ...   \n",
       "11284    1           Private             13  Married-civ-spouse   \n",
       "44732    0           Private              9       Never-married   \n",
       "38158    0           Private              9            Divorced   \n",
       "860      0           Private              7       Never-married   \n",
       "15795    3  Self-emp-not-inc              9  Married-civ-spouse   \n",
       "\n",
       "              occupation   relationship                race     sex  \\\n",
       "37193   Transport-moving        Husband               White    Male   \n",
       "31093     Prof-specialty        Husband               White    Male   \n",
       "33814    Farming-fishing        Husband               White    Male   \n",
       "14500       Craft-repair      Unmarried               White    Male   \n",
       "23399              Sales  Not-in-family               White    Male   \n",
       "...                  ...            ...                 ...     ...   \n",
       "11284    Exec-managerial        Husband  Asian-Pac-Islander    Male   \n",
       "44732  Machine-op-inspct      Own-child               White  Female   \n",
       "38158       Adm-clerical  Not-in-family               White  Female   \n",
       "860         Adm-clerical      Own-child               White  Female   \n",
       "15795    Farming-fishing        Husband               White    Male   \n",
       "\n",
       "       capitalgain  capitalloss  hoursperweek native-country  \n",
       "37193            0            0             2  United-States  \n",
       "31093            0            0             2  United-States  \n",
       "33814            0            0             2  United-States  \n",
       "14500            0            0             0  United-States  \n",
       "23399            0            0             4  United-States  \n",
       "...            ...          ...           ...            ...  \n",
       "11284            0            2             3  United-States  \n",
       "44732            0            0             2  United-States  \n",
       "38158            0            0             2  United-States  \n",
       "860              0            0             0  United-States  \n",
       "15795            0            0             4  United-States  \n",
       "\n",
       "[39073 rows x 12 columns]"
      ]
     },
     "execution_count": 44,
     "metadata": {},
     "output_type": "execute_result"
    }
   ],
   "source": [
    "X_clean_train"
   ]
  },
  {
   "cell_type": "code",
   "execution_count": 45,
   "id": "f7bfc939",
   "metadata": {
    "scrolled": false
   },
   "outputs": [
    {
     "data": {
      "text/plain": [
       "37193    <=50K\n",
       "31093     >50K\n",
       "33814    <=50K\n",
       "14500    <=50K\n",
       "23399    <=50K\n",
       "         ...  \n",
       "11284     >50K\n",
       "44732    <=50K\n",
       "38158    <=50K\n",
       "860      <=50K\n",
       "15795    <=50K\n",
       "Name: class, Length: 39073, dtype: object"
      ]
     },
     "execution_count": 45,
     "metadata": {},
     "output_type": "execute_result"
    }
   ],
   "source": [
    "y_clean_train"
   ]
  },
  {
   "cell_type": "code",
   "execution_count": 46,
   "id": "5abd0926",
   "metadata": {
    "scrolled": true
   },
   "outputs": [
    {
     "name": "stderr",
     "output_type": "stream",
     "text": [
      "C:\\Users\\sathv\\AppData\\Local\\Temp\\ipykernel_6848\\4278472475.py:1: DeprecationWarning: `np.object` is a deprecated alias for the builtin `object`. To silence this warning, use `object` by itself. Doing this will not modify any behavior and is safe. \n",
      "Deprecated in NumPy 1.20; for more details and guidance: https://numpy.org/devdocs/release/1.20.0-notes.html#deprecations\n",
      "  missing_values_test, cat_clean_cols_test = variable(X_clean_test, np.object)\n"
     ]
    }
   ],
   "source": [
    "missing_values_test, cat_clean_cols_test = variable(X_clean_test, np.object)"
   ]
  },
  {
   "cell_type": "code",
   "execution_count": 47,
   "id": "47851fdb",
   "metadata": {},
   "outputs": [
    {
     "data": {
      "text/plain": [
       "['workclass', 'occupation', 'native-country']"
      ]
     },
     "execution_count": 47,
     "metadata": {},
     "output_type": "execute_result"
    }
   ],
   "source": [
    "missing_values_test"
   ]
  },
  {
   "cell_type": "code",
   "execution_count": 48,
   "id": "d2cdb38d",
   "metadata": {},
   "outputs": [],
   "source": [
    "X_clean_test[missing_values_test] = X_clean_test[missing_values_test].fillna(X_clean_test[missing_values_test].mode().iloc[0])"
   ]
  },
  {
   "cell_type": "code",
   "execution_count": 49,
   "id": "d7e7b088",
   "metadata": {},
   "outputs": [
    {
     "name": "stdout",
     "output_type": "stream",
     "text": [
      "<class 'pandas.core.frame.DataFrame'>\n",
      "Int64Index: 9769 entries, 7762 to 14337\n",
      "Data columns (total 12 columns):\n",
      " #   Column          Non-Null Count  Dtype \n",
      "---  ------          --------------  ----- \n",
      " 0   age             9769 non-null   int64 \n",
      " 1   workclass       9769 non-null   object\n",
      " 2   education-num   9769 non-null   int64 \n",
      " 3   marital-status  9769 non-null   object\n",
      " 4   occupation      9769 non-null   object\n",
      " 5   relationship    9769 non-null   object\n",
      " 6   race            9769 non-null   object\n",
      " 7   sex             9769 non-null   object\n",
      " 8   capitalgain     9769 non-null   int64 \n",
      " 9   capitalloss     9769 non-null   int64 \n",
      " 10  hoursperweek    9769 non-null   int64 \n",
      " 11  native-country  9769 non-null   object\n",
      "dtypes: int64(5), object(7)\n",
      "memory usage: 992.2+ KB\n"
     ]
    }
   ],
   "source": [
    "X_clean_test.info()"
   ]
  },
  {
   "cell_type": "code",
   "execution_count": 50,
   "id": "b806e03d",
   "metadata": {
    "scrolled": true
   },
   "outputs": [
    {
     "data": {
      "text/plain": [
       "7762     <=50K\n",
       "23881    <=50K\n",
       "30507    <=50K\n",
       "28911    <=50K\n",
       "19484    <=50K\n",
       "         ...  \n",
       "43046    <=50K\n",
       "18798    <=50K\n",
       "29519    <=50K\n",
       "550      <=50K\n",
       "14337     >50K\n",
       "Name: class, Length: 9769, dtype: object"
      ]
     },
     "execution_count": 50,
     "metadata": {},
     "output_type": "execute_result"
    }
   ],
   "source": [
    "y_clean_test"
   ]
  },
  {
   "cell_type": "code",
   "execution_count": 51,
   "id": "6bd95b27",
   "metadata": {},
   "outputs": [],
   "source": [
    "X_clean_train = pd.get_dummies(X_clean_train, columns = ['workclass', 'relationship', 'marital-status', 'occupation', 'race', 'sex', 'native-country'])"
   ]
  },
  {
   "cell_type": "code",
   "execution_count": 52,
   "id": "4363b0c0",
   "metadata": {},
   "outputs": [],
   "source": [
    "y_clean_train = y_clean_train.astype('category')"
   ]
  },
  {
   "cell_type": "code",
   "execution_count": 53,
   "id": "3ff3b1f6",
   "metadata": {},
   "outputs": [],
   "source": [
    "X_clean_test = pd.get_dummies(X_clean_test, columns = ['workclass', 'relationship', 'marital-status', 'occupation', 'race', 'sex', 'native-country'])"
   ]
  },
  {
   "cell_type": "code",
   "execution_count": 54,
   "id": "23cb2883",
   "metadata": {},
   "outputs": [],
   "source": [
    "X_clean_test = X_clean_test.drop(['native-country_Holand-Netherlands'], axis=1)"
   ]
  },
  {
   "cell_type": "code",
   "execution_count": 55,
   "id": "0a88eb1f",
   "metadata": {},
   "outputs": [],
   "source": [
    "y_clean_test = y_clean_test.astype('category')"
   ]
  },
  {
   "cell_type": "code",
   "execution_count": 56,
   "id": "2b025e4a",
   "metadata": {},
   "outputs": [
    {
     "name": "stderr",
     "output_type": "stream",
     "text": [
      "C:\\Users\\sathv\\anaconda3\\lib\\site-packages\\sklearn\\neighbors\\_classification.py:228: FutureWarning: Unlike other reduction functions (e.g. `skew`, `kurtosis`), the default behavior of `mode` typically preserves the axis it acts along. In SciPy 1.11.0, this behavior will change: the default value of `keepdims` will become False, the `axis` over which the statistic is taken will be eliminated, and the value None will no longer be accepted. Set `keepdims` to True or False to avoid this warning.\n",
      "  mode, _ = stats.mode(_y[neigh_ind, k], axis=1)\n"
     ]
    }
   ],
   "source": [
    "clean_model = KNeighborsClassifier(n_neighbors = 5, metric = 'minkowski', p = 2)\n",
    "clean_model.fit(X_clean_train, y_clean_train)\n",
    "\n",
    "y_clean_pred = classifier.predict_proba(X_clean_test)\n",
    "\n",
    "clean_diff = average_diff(y_clean_pred,X_clean_test)\n",
    "clean_diff\n",
    "\n",
    "y_pred_clean_test = classifier.predict(X_test)\n",
    "\n",
    "clean_test_score = accuracy_score(y_test,y_pred_test)"
   ]
  },
  {
   "cell_type": "code",
   "execution_count": 57,
   "id": "5ce91d8d",
   "metadata": {},
   "outputs": [
    {
     "name": "stdout",
     "output_type": "stream",
     "text": [
      "Method                        Test Data        Encoding Technique    ML Model      Accuracy    Fairness\n",
      "----------------------------  ---------------  --------------------  ----------  ----------  ----------\n",
      "Impute Missing Values (Mode)  Dirty test data  One-Hot Encoding      KNN           0.835602    0.200903\n",
      "Impute Missing Values (Mode)  Clean test data  One-Hot Encoding      KNN           0.835602    0.20023\n"
     ]
    }
   ],
   "source": [
    "from tabulate import tabulate\n",
    "data = [[\"Impute Missing Values (Mode)\",\"Dirty test data\",\"One-Hot Encoding\", \"KNN\", dirty_test_score, dirty_diff],\n",
    "[\"Impute Missing Values (Mode) \", \"Clean test data\", \"One-Hot Encoding\", \"KNN\", clean_test_score, clean_diff]]\n",
    "print (tabulate(data, headers=[\"Method\", \"Test Data\", \"Encoding Technique\", \"ML Model\", \"Accuracy\", \"Fairness\"]))"
   ]
  },
  {
   "cell_type": "code",
   "execution_count": null,
   "id": "da139e84",
   "metadata": {},
   "outputs": [],
   "source": []
  }
 ],
 "metadata": {
  "kernelspec": {
   "display_name": "Python 3 (ipykernel)",
   "language": "python",
   "name": "python3"
  },
  "language_info": {
   "codemirror_mode": {
    "name": "ipython",
    "version": 3
   },
   "file_extension": ".py",
   "mimetype": "text/x-python",
   "name": "python",
   "nbconvert_exporter": "python",
   "pygments_lexer": "ipython3",
   "version": "3.9.13"
  }
 },
 "nbformat": 4,
 "nbformat_minor": 5
}
